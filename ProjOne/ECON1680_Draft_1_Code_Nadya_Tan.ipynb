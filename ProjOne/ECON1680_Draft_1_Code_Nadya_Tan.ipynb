{
 "cells": [
  {
   "cell_type": "markdown",
   "id": "3e0730ea-1316-4f07-8457-825283980e95",
   "metadata": {},
   "source": [
    "# Project One Code \n",
    "\n",
    "## Econ 1680: MLTA and Econ\n",
    "\n",
    "#### Name: Nadya Tan"
   ]
  },
  {
   "cell_type": "code",
   "execution_count": 1,
   "id": "af5d5c61-dff6-4e56-8811-10646aef170d",
   "metadata": {},
   "outputs": [],
   "source": [
    "import pandas as pd\n",
    "import numpy as np\n",
    "import matplotlib.pyplot as plt\n",
    "import random\n",
    "import statsmodels.api as sm\n",
    "from statsmodels.iolib.summary2 import summary_col\n",
    "from math import sqrt\n",
    "\n",
    "from sklearn.model_selection import train_test_split\n",
    "from sklearn.model_selection import GridSearchCV\n",
    "from sklearn.metrics import mean_squared_error\n",
    "from sklearn.linear_model import Lasso, LassoCV\n",
    "from sklearn.linear_model import Ridge, RidgeCV\n",
    "from sklearn.preprocessing import normalize\n",
    "import scipy.cluster.hierarchy as shc\n",
    "from sklearn.cluster import AgglomerativeClustering\n",
    "from sklearn.cluster import KMeans\n",
    "from sklearn.decomposition import PCA\n",
    "\n",
    "from sklearn.linear_model import LogisticRegression\n",
    "from sklearn.linear_model import LinearRegression\n",
    "from sklearn.metrics import classification_report, confusion_matrix\n",
    "from sklearn.neural_network import MLPClassifier\n",
    "from sklearn.metrics import accuracy_score\n",
    "from sklearn.preprocessing import StandardScaler\n",
    "from sklearn.pipeline import make_pipeline"
   ]
  },
  {
   "cell_type": "markdown",
   "id": "ba512fce",
   "metadata": {},
   "source": [
    "# Data Cleaning and Preparation"
   ]
  },
  {
   "cell_type": "code",
   "execution_count": 25,
   "id": "a01d69b1-a1bc-4ba4-bdd6-a24759329f31",
   "metadata": {},
   "outputs": [],
   "source": [
    "df_microdata = pd.read_csv('micro_world_139countries.csv', encoding='latin-1')"
   ]
  },
  {
   "cell_type": "code",
   "execution_count": 26,
   "id": "88f74001-1ef2-4466-a3f0-b412e905d080",
   "metadata": {},
   "outputs": [],
   "source": [
    "# select columns to keep \n",
    "selected = ['economycode', 'wgt','female', 'age', 'educ', 'inc_q', 'emp_in', 'urbanicity_f2f', 'account', 'account_fin', 'account_mob', 'fin2', 'fin4', 'fin5', 'fin6', 'fin7', 'fin8', 'fin9', 'fin10', 'fin13a', 'saved', 'borrowed', 'receive_wages', 'receive_transfers', 'receive_pension', 'receive_agriculture', 'pay_utilities', 'remittances', 'mobileowner', 'internetaccess', 'anydigpayment', 'merchantpay_dig' ]\n",
    "# new df \n",
    "df_selected = df_microdata[selected]"
   ]
  },
  {
   "cell_type": "code",
   "execution_count": 27,
   "id": "7967c0a8-d8d2-4426-b181-9b7a1b955d99",
   "metadata": {},
   "outputs": [
    {
     "data": {
      "text/plain": [
       "(143887, 32)"
      ]
     },
     "execution_count": 27,
     "metadata": {},
     "output_type": "execute_result"
    }
   ],
   "source": [
    "df_selected.shape"
   ]
  },
  {
   "cell_type": "markdown",
   "id": "628ded9a-1c3b-4349-83f6-5ae5f7eb827e",
   "metadata": {},
   "source": [
    "## One-hot Encoding "
   ]
  },
  {
   "cell_type": "code",
   "execution_count": 28,
   "id": "eec12546-ddc3-426e-967a-3881d27cb816",
   "metadata": {},
   "outputs": [],
   "source": [
    "# these variables need maps\n",
    "# educ - change to 3 columns with 0-1 - if value is 4-5, put na in all 3 cols \n",
    "educ_dummies = pd.get_dummies(df_selected['educ'], prefix='educ').astype(int)\n",
    "educ_dummies = educ_dummies.drop(columns=['educ_4', 'educ_5'])\n",
    "# Fill NaN values for rows where educ was 4 or 5\n",
    "educ_dummies.loc[df_selected['educ'].isin([4, 5]), :] = np.nan\n",
    "\n",
    "# Convert inc_q to 5 columns\n",
    "inc_q_dummies = pd.get_dummies(df_selected['inc_q'], prefix='inc_q').astype(int)\n",
    "df_selected = pd.concat([df_selected, educ_dummies, inc_q_dummies], axis=1)"
   ]
  },
  {
   "cell_type": "code",
   "execution_count": 29,
   "id": "d23b68cd-997e-4a99-9cc6-032b8320393b",
   "metadata": {},
   "outputs": [],
   "source": [
    "# Convert female to 0-1\n",
    "df_selected['female'] = df_selected['female'].apply(lambda x: 1 if x == 1 else 0)\n",
    "\n",
    "# Convert emp_in to 0-1\n",
    "df_selected['emp_in'] = df_selected['emp_in'].apply(lambda x: 1 if x == 1 else 0)\n",
    "\n",
    "# Convert urbanicity_f2f to 0-1\n",
    "df_selected['urbanicity_f2f'] = df_selected['urbanicity_f2f'].apply(lambda x: 1 if x == 2 else 0)"
   ]
  },
  {
   "cell_type": "code",
   "execution_count": 30,
   "id": "1f3904fa-ee33-497b-a246-0cf198dfebe9",
   "metadata": {},
   "outputs": [],
   "source": [
    "# Convert these other financial variables to 0-1 and na for 3-4 \n",
    "other_cols = [col for col in df_selected.columns if col in ['fin2', 'fin4', 'fin5', 'fin6', 'fin7', 'fin8', 'fin9', 'fin10', 'fin13a','mobileowner', 'internetaccess']]\n",
    "for col in other_cols:\n",
    "    df_selected[col] = df_selected[col].apply(lambda x: 1 if x == 1 else (0 if x == 2 else None))"
   ]
  },
  {
   "cell_type": "code",
   "execution_count": 31,
   "id": "2ddec655-7142-4ab7-becb-0a547ae9f802",
   "metadata": {},
   "outputs": [],
   "source": [
    "# Replace old column with 0-1 \n",
    "def replace_value(value):\n",
    "    if value in [1, 2, 3]:\n",
    "        return 1\n",
    "    elif value == 4:\n",
    "        return 0\n",
    "    else:\n",
    "        return np.nan  # NaN for values 5\n",
    "columns_to_process = ['receive_wages', 'receive_transfers', 'receive_pension', 'receive_agriculture', 'pay_utilities']\n",
    "for column in columns_to_process:\n",
    "    df_selected[column] = df_selected[column].apply(replace_value)"
   ]
  },
  {
   "cell_type": "code",
   "execution_count": 32,
   "id": "05c729e5-27fd-45d9-b38e-46d0dddefee3",
   "metadata": {},
   "outputs": [],
   "source": [
    "def replace_value_remittances(value):\n",
    "    if value in [1, 2, 3, 4]:\n",
    "        return 1\n",
    "    elif value == 5:\n",
    "        return 0\n",
    "    else:\n",
    "        return np.nan\n",
    "\n",
    "df_selected['remittances'] = df_selected['remittances'].apply(replace_value)"
   ]
  },
  {
   "cell_type": "code",
   "execution_count": 33,
   "id": "cbcdbe6d-8937-4f2e-8c74-70c4729fffe9",
   "metadata": {},
   "outputs": [],
   "source": [
    "# economycode \n",
    "economycode_dummies = pd.get_dummies(df_selected['economycode']).astype(int)\n",
    "df_selected = pd.concat([df_selected, economycode_dummies], axis=1)"
   ]
  },
  {
   "cell_type": "code",
   "execution_count": 34,
   "id": "02afc3e0-e82f-42ea-8a03-a5432edc0ac4",
   "metadata": {},
   "outputs": [
    {
     "data": {
      "text/plain": [
       "(143887, 185)"
      ]
     },
     "execution_count": 34,
     "metadata": {},
     "output_type": "execute_result"
    }
   ],
   "source": [
    "df_selected.shape"
   ]
  },
  {
   "cell_type": "code",
   "execution_count": 35,
   "id": "5dd885db-5587-46db-8c1b-57db73983420",
   "metadata": {},
   "outputs": [],
   "source": [
    "df_selected.to_csv('microdata_cleaned.csv')"
   ]
  },
  {
   "cell_type": "markdown",
   "id": "2e32308f-c078-4606-890a-bc5ad0f060f9",
   "metadata": {},
   "source": [
    "## Summary Statistics "
   ]
  },
  {
   "cell_type": "code",
   "execution_count": 36,
   "id": "0adef670-c421-4e68-b79a-569695139598",
   "metadata": {},
   "outputs": [
    {
     "data": {
      "text/html": [
       "<div>\n",
       "<style scoped>\n",
       "    .dataframe tbody tr th:only-of-type {\n",
       "        vertical-align: middle;\n",
       "    }\n",
       "\n",
       "    .dataframe tbody tr th {\n",
       "        vertical-align: top;\n",
       "    }\n",
       "\n",
       "    .dataframe thead th {\n",
       "        text-align: right;\n",
       "    }\n",
       "</style>\n",
       "<table border=\"1\" class=\"dataframe\">\n",
       "  <thead>\n",
       "    <tr style=\"text-align: right;\">\n",
       "      <th></th>\n",
       "      <th>female</th>\n",
       "      <th>age</th>\n",
       "      <th>educ</th>\n",
       "      <th>inc_q</th>\n",
       "      <th>emp_in</th>\n",
       "      <th>urbanicity_f2f</th>\n",
       "      <th>account</th>\n",
       "      <th>account_fin</th>\n",
       "      <th>account_mob</th>\n",
       "      <th>saved</th>\n",
       "      <th>borrowed</th>\n",
       "      <th>receive_wages</th>\n",
       "      <th>receive_transfers</th>\n",
       "      <th>receive_pension</th>\n",
       "      <th>receive_agriculture</th>\n",
       "      <th>pay_utilities</th>\n",
       "      <th>remittances</th>\n",
       "      <th>mobileowner</th>\n",
       "      <th>internetaccess</th>\n",
       "      <th>anydigpayment</th>\n",
       "    </tr>\n",
       "  </thead>\n",
       "  <tbody>\n",
       "    <tr>\n",
       "      <th>count</th>\n",
       "      <td>143887.000000</td>\n",
       "      <td>143420.000000</td>\n",
       "      <td>143887.000000</td>\n",
       "      <td>143887.000000</td>\n",
       "      <td>143887.000000</td>\n",
       "      <td>143887.000000</td>\n",
       "      <td>143887.000000</td>\n",
       "      <td>143887.000000</td>\n",
       "      <td>82706.000000</td>\n",
       "      <td>143887.000000</td>\n",
       "      <td>143887.000000</td>\n",
       "      <td>143114.000000</td>\n",
       "      <td>143067.000000</td>\n",
       "      <td>143298.000000</td>\n",
       "      <td>113897.000000</td>\n",
       "      <td>143145.000000</td>\n",
       "      <td>45438.000000</td>\n",
       "      <td>143750.000000</td>\n",
       "      <td>143296.000000</td>\n",
       "      <td>143887.000000</td>\n",
       "    </tr>\n",
       "    <tr>\n",
       "      <th>mean</th>\n",
       "      <td>0.532258</td>\n",
       "      <td>41.056889</td>\n",
       "      <td>1.968204</td>\n",
       "      <td>3.234239</td>\n",
       "      <td>0.643971</td>\n",
       "      <td>0.304843</td>\n",
       "      <td>0.708646</td>\n",
       "      <td>0.656001</td>\n",
       "      <td>0.260259</td>\n",
       "      <td>0.540563</td>\n",
       "      <td>0.525565</td>\n",
       "      <td>0.384421</td>\n",
       "      <td>0.193665</td>\n",
       "      <td>0.121097</td>\n",
       "      <td>0.134376</td>\n",
       "      <td>0.579545</td>\n",
       "      <td>0.917140</td>\n",
       "      <td>0.881357</td>\n",
       "      <td>0.704625</td>\n",
       "      <td>0.648856</td>\n",
       "    </tr>\n",
       "    <tr>\n",
       "      <th>std</th>\n",
       "      <td>0.498960</td>\n",
       "      <td>17.342777</td>\n",
       "      <td>0.723923</td>\n",
       "      <td>1.419803</td>\n",
       "      <td>0.478826</td>\n",
       "      <td>0.460343</td>\n",
       "      <td>0.454388</td>\n",
       "      <td>0.475042</td>\n",
       "      <td>0.438779</td>\n",
       "      <td>0.498354</td>\n",
       "      <td>0.499348</td>\n",
       "      <td>0.486460</td>\n",
       "      <td>0.395170</td>\n",
       "      <td>0.326241</td>\n",
       "      <td>0.341057</td>\n",
       "      <td>0.493634</td>\n",
       "      <td>0.275674</td>\n",
       "      <td>0.323370</td>\n",
       "      <td>0.456213</td>\n",
       "      <td>0.477329</td>\n",
       "    </tr>\n",
       "    <tr>\n",
       "      <th>min</th>\n",
       "      <td>0.000000</td>\n",
       "      <td>15.000000</td>\n",
       "      <td>1.000000</td>\n",
       "      <td>1.000000</td>\n",
       "      <td>0.000000</td>\n",
       "      <td>0.000000</td>\n",
       "      <td>0.000000</td>\n",
       "      <td>0.000000</td>\n",
       "      <td>0.000000</td>\n",
       "      <td>0.000000</td>\n",
       "      <td>0.000000</td>\n",
       "      <td>0.000000</td>\n",
       "      <td>0.000000</td>\n",
       "      <td>0.000000</td>\n",
       "      <td>0.000000</td>\n",
       "      <td>0.000000</td>\n",
       "      <td>0.000000</td>\n",
       "      <td>0.000000</td>\n",
       "      <td>0.000000</td>\n",
       "      <td>0.000000</td>\n",
       "    </tr>\n",
       "    <tr>\n",
       "      <th>25%</th>\n",
       "      <td>0.000000</td>\n",
       "      <td>27.000000</td>\n",
       "      <td>1.000000</td>\n",
       "      <td>2.000000</td>\n",
       "      <td>0.000000</td>\n",
       "      <td>0.000000</td>\n",
       "      <td>0.000000</td>\n",
       "      <td>0.000000</td>\n",
       "      <td>0.000000</td>\n",
       "      <td>0.000000</td>\n",
       "      <td>0.000000</td>\n",
       "      <td>0.000000</td>\n",
       "      <td>0.000000</td>\n",
       "      <td>0.000000</td>\n",
       "      <td>0.000000</td>\n",
       "      <td>0.000000</td>\n",
       "      <td>1.000000</td>\n",
       "      <td>1.000000</td>\n",
       "      <td>0.000000</td>\n",
       "      <td>0.000000</td>\n",
       "    </tr>\n",
       "    <tr>\n",
       "      <th>50%</th>\n",
       "      <td>1.000000</td>\n",
       "      <td>38.000000</td>\n",
       "      <td>2.000000</td>\n",
       "      <td>3.000000</td>\n",
       "      <td>1.000000</td>\n",
       "      <td>0.000000</td>\n",
       "      <td>1.000000</td>\n",
       "      <td>1.000000</td>\n",
       "      <td>0.000000</td>\n",
       "      <td>1.000000</td>\n",
       "      <td>1.000000</td>\n",
       "      <td>0.000000</td>\n",
       "      <td>0.000000</td>\n",
       "      <td>0.000000</td>\n",
       "      <td>0.000000</td>\n",
       "      <td>1.000000</td>\n",
       "      <td>1.000000</td>\n",
       "      <td>1.000000</td>\n",
       "      <td>1.000000</td>\n",
       "      <td>1.000000</td>\n",
       "    </tr>\n",
       "    <tr>\n",
       "      <th>75%</th>\n",
       "      <td>1.000000</td>\n",
       "      <td>54.000000</td>\n",
       "      <td>2.000000</td>\n",
       "      <td>5.000000</td>\n",
       "      <td>1.000000</td>\n",
       "      <td>1.000000</td>\n",
       "      <td>1.000000</td>\n",
       "      <td>1.000000</td>\n",
       "      <td>1.000000</td>\n",
       "      <td>1.000000</td>\n",
       "      <td>1.000000</td>\n",
       "      <td>1.000000</td>\n",
       "      <td>0.000000</td>\n",
       "      <td>0.000000</td>\n",
       "      <td>0.000000</td>\n",
       "      <td>1.000000</td>\n",
       "      <td>1.000000</td>\n",
       "      <td>1.000000</td>\n",
       "      <td>1.000000</td>\n",
       "      <td>1.000000</td>\n",
       "    </tr>\n",
       "    <tr>\n",
       "      <th>max</th>\n",
       "      <td>1.000000</td>\n",
       "      <td>99.000000</td>\n",
       "      <td>5.000000</td>\n",
       "      <td>5.000000</td>\n",
       "      <td>1.000000</td>\n",
       "      <td>1.000000</td>\n",
       "      <td>1.000000</td>\n",
       "      <td>1.000000</td>\n",
       "      <td>1.000000</td>\n",
       "      <td>1.000000</td>\n",
       "      <td>1.000000</td>\n",
       "      <td>1.000000</td>\n",
       "      <td>1.000000</td>\n",
       "      <td>1.000000</td>\n",
       "      <td>1.000000</td>\n",
       "      <td>1.000000</td>\n",
       "      <td>1.000000</td>\n",
       "      <td>1.000000</td>\n",
       "      <td>1.000000</td>\n",
       "      <td>1.000000</td>\n",
       "    </tr>\n",
       "  </tbody>\n",
       "</table>\n",
       "</div>"
      ],
      "text/plain": [
       "              female            age           educ          inc_q  \\\n",
       "count  143887.000000  143420.000000  143887.000000  143887.000000   \n",
       "mean        0.532258      41.056889       1.968204       3.234239   \n",
       "std         0.498960      17.342777       0.723923       1.419803   \n",
       "min         0.000000      15.000000       1.000000       1.000000   \n",
       "25%         0.000000      27.000000       1.000000       2.000000   \n",
       "50%         1.000000      38.000000       2.000000       3.000000   \n",
       "75%         1.000000      54.000000       2.000000       5.000000   \n",
       "max         1.000000      99.000000       5.000000       5.000000   \n",
       "\n",
       "              emp_in  urbanicity_f2f        account    account_fin  \\\n",
       "count  143887.000000   143887.000000  143887.000000  143887.000000   \n",
       "mean        0.643971        0.304843       0.708646       0.656001   \n",
       "std         0.478826        0.460343       0.454388       0.475042   \n",
       "min         0.000000        0.000000       0.000000       0.000000   \n",
       "25%         0.000000        0.000000       0.000000       0.000000   \n",
       "50%         1.000000        0.000000       1.000000       1.000000   \n",
       "75%         1.000000        1.000000       1.000000       1.000000   \n",
       "max         1.000000        1.000000       1.000000       1.000000   \n",
       "\n",
       "        account_mob          saved       borrowed  receive_wages  \\\n",
       "count  82706.000000  143887.000000  143887.000000  143114.000000   \n",
       "mean       0.260259       0.540563       0.525565       0.384421   \n",
       "std        0.438779       0.498354       0.499348       0.486460   \n",
       "min        0.000000       0.000000       0.000000       0.000000   \n",
       "25%        0.000000       0.000000       0.000000       0.000000   \n",
       "50%        0.000000       1.000000       1.000000       0.000000   \n",
       "75%        1.000000       1.000000       1.000000       1.000000   \n",
       "max        1.000000       1.000000       1.000000       1.000000   \n",
       "\n",
       "       receive_transfers  receive_pension  receive_agriculture  pay_utilities  \\\n",
       "count      143067.000000    143298.000000        113897.000000  143145.000000   \n",
       "mean            0.193665         0.121097             0.134376       0.579545   \n",
       "std             0.395170         0.326241             0.341057       0.493634   \n",
       "min             0.000000         0.000000             0.000000       0.000000   \n",
       "25%             0.000000         0.000000             0.000000       0.000000   \n",
       "50%             0.000000         0.000000             0.000000       1.000000   \n",
       "75%             0.000000         0.000000             0.000000       1.000000   \n",
       "max             1.000000         1.000000             1.000000       1.000000   \n",
       "\n",
       "        remittances    mobileowner  internetaccess  anydigpayment  \n",
       "count  45438.000000  143750.000000   143296.000000  143887.000000  \n",
       "mean       0.917140       0.881357        0.704625       0.648856  \n",
       "std        0.275674       0.323370        0.456213       0.477329  \n",
       "min        0.000000       0.000000        0.000000       0.000000  \n",
       "25%        1.000000       1.000000        0.000000       0.000000  \n",
       "50%        1.000000       1.000000        1.000000       1.000000  \n",
       "75%        1.000000       1.000000        1.000000       1.000000  \n",
       "max        1.000000       1.000000        1.000000       1.000000  "
      ]
     },
     "execution_count": 36,
     "metadata": {},
     "output_type": "execute_result"
    }
   ],
   "source": [
    "df_selected[['female', 'age', 'educ', 'inc_q', 'emp_in', 'urbanicity_f2f', 'account', 'account_fin', 'account_mob', 'saved', 'borrowed', 'receive_wages', 'receive_transfers', 'receive_pension', 'receive_agriculture', 'pay_utilities', 'remittances', 'mobileowner', 'internetaccess', 'anydigpayment']].describe()"
   ]
  },
  {
   "cell_type": "code",
   "execution_count": 38,
   "id": "73cf3d03-5231-436a-a6c6-620d420f71fc",
   "metadata": {},
   "outputs": [
    {
     "data": {
      "text/html": [
       "<div>\n",
       "<style scoped>\n",
       "    .dataframe tbody tr th:only-of-type {\n",
       "        vertical-align: middle;\n",
       "    }\n",
       "\n",
       "    .dataframe tbody tr th {\n",
       "        vertical-align: top;\n",
       "    }\n",
       "\n",
       "    .dataframe thead th {\n",
       "        text-align: right;\n",
       "    }\n",
       "</style>\n",
       "<table border=\"1\" class=\"dataframe\">\n",
       "  <thead>\n",
       "    <tr style=\"text-align: right;\">\n",
       "      <th></th>\n",
       "      <th>fin2</th>\n",
       "      <th>fin4</th>\n",
       "      <th>fin5</th>\n",
       "      <th>fin6</th>\n",
       "      <th>fin7</th>\n",
       "      <th>fin8</th>\n",
       "      <th>fin9</th>\n",
       "      <th>fin10</th>\n",
       "      <th>fin13a</th>\n",
       "    </tr>\n",
       "  </thead>\n",
       "  <tbody>\n",
       "    <tr>\n",
       "      <th>count</th>\n",
       "      <td>142816.000000</td>\n",
       "      <td>72811.000000</td>\n",
       "      <td>88782.000000</td>\n",
       "      <td>88807.000000</td>\n",
       "      <td>88619.000000</td>\n",
       "      <td>32569.000000</td>\n",
       "      <td>88556.000000</td>\n",
       "      <td>88534.000000</td>\n",
       "      <td>17634.000000</td>\n",
       "    </tr>\n",
       "    <tr>\n",
       "      <th>mean</th>\n",
       "      <td>0.510762</td>\n",
       "      <td>0.744214</td>\n",
       "      <td>0.585231</td>\n",
       "      <td>0.645636</td>\n",
       "      <td>0.368251</td>\n",
       "      <td>0.830391</td>\n",
       "      <td>0.786463</td>\n",
       "      <td>0.801760</td>\n",
       "      <td>0.741692</td>\n",
       "    </tr>\n",
       "    <tr>\n",
       "      <th>std</th>\n",
       "      <td>0.499886</td>\n",
       "      <td>0.436305</td>\n",
       "      <td>0.492685</td>\n",
       "      <td>0.478323</td>\n",
       "      <td>0.482333</td>\n",
       "      <td>0.375295</td>\n",
       "      <td>0.409806</td>\n",
       "      <td>0.398676</td>\n",
       "      <td>0.437717</td>\n",
       "    </tr>\n",
       "    <tr>\n",
       "      <th>min</th>\n",
       "      <td>0.000000</td>\n",
       "      <td>0.000000</td>\n",
       "      <td>0.000000</td>\n",
       "      <td>0.000000</td>\n",
       "      <td>0.000000</td>\n",
       "      <td>0.000000</td>\n",
       "      <td>0.000000</td>\n",
       "      <td>0.000000</td>\n",
       "      <td>0.000000</td>\n",
       "    </tr>\n",
       "    <tr>\n",
       "      <th>25%</th>\n",
       "      <td>0.000000</td>\n",
       "      <td>0.000000</td>\n",
       "      <td>0.000000</td>\n",
       "      <td>0.000000</td>\n",
       "      <td>0.000000</td>\n",
       "      <td>1.000000</td>\n",
       "      <td>1.000000</td>\n",
       "      <td>1.000000</td>\n",
       "      <td>0.000000</td>\n",
       "    </tr>\n",
       "    <tr>\n",
       "      <th>50%</th>\n",
       "      <td>1.000000</td>\n",
       "      <td>1.000000</td>\n",
       "      <td>1.000000</td>\n",
       "      <td>1.000000</td>\n",
       "      <td>0.000000</td>\n",
       "      <td>1.000000</td>\n",
       "      <td>1.000000</td>\n",
       "      <td>1.000000</td>\n",
       "      <td>1.000000</td>\n",
       "    </tr>\n",
       "    <tr>\n",
       "      <th>75%</th>\n",
       "      <td>1.000000</td>\n",
       "      <td>1.000000</td>\n",
       "      <td>1.000000</td>\n",
       "      <td>1.000000</td>\n",
       "      <td>1.000000</td>\n",
       "      <td>1.000000</td>\n",
       "      <td>1.000000</td>\n",
       "      <td>1.000000</td>\n",
       "      <td>1.000000</td>\n",
       "    </tr>\n",
       "    <tr>\n",
       "      <th>max</th>\n",
       "      <td>1.000000</td>\n",
       "      <td>1.000000</td>\n",
       "      <td>1.000000</td>\n",
       "      <td>1.000000</td>\n",
       "      <td>1.000000</td>\n",
       "      <td>1.000000</td>\n",
       "      <td>1.000000</td>\n",
       "      <td>1.000000</td>\n",
       "      <td>1.000000</td>\n",
       "    </tr>\n",
       "  </tbody>\n",
       "</table>\n",
       "</div>"
      ],
      "text/plain": [
       "                fin2          fin4          fin5          fin6          fin7  \\\n",
       "count  142816.000000  72811.000000  88782.000000  88807.000000  88619.000000   \n",
       "mean        0.510762      0.744214      0.585231      0.645636      0.368251   \n",
       "std         0.499886      0.436305      0.492685      0.478323      0.482333   \n",
       "min         0.000000      0.000000      0.000000      0.000000      0.000000   \n",
       "25%         0.000000      0.000000      0.000000      0.000000      0.000000   \n",
       "50%         1.000000      1.000000      1.000000      1.000000      0.000000   \n",
       "75%         1.000000      1.000000      1.000000      1.000000      1.000000   \n",
       "max         1.000000      1.000000      1.000000      1.000000      1.000000   \n",
       "\n",
       "               fin8          fin9         fin10        fin13a  \n",
       "count  32569.000000  88556.000000  88534.000000  17634.000000  \n",
       "mean       0.830391      0.786463      0.801760      0.741692  \n",
       "std        0.375295      0.409806      0.398676      0.437717  \n",
       "min        0.000000      0.000000      0.000000      0.000000  \n",
       "25%        1.000000      1.000000      1.000000      0.000000  \n",
       "50%        1.000000      1.000000      1.000000      1.000000  \n",
       "75%        1.000000      1.000000      1.000000      1.000000  \n",
       "max        1.000000      1.000000      1.000000      1.000000  "
      ]
     },
     "execution_count": 38,
     "metadata": {},
     "output_type": "execute_result"
    }
   ],
   "source": [
    "df_selected[['fin2', 'fin4', 'fin5', 'fin6', 'fin7', 'fin8', 'fin9', 'fin10', 'fin13a']].describe()"
   ]
  },
  {
   "cell_type": "code",
   "execution_count": 39,
   "id": "228fcd07-59b1-4838-9fb3-6d6d1962acd9",
   "metadata": {},
   "outputs": [
    {
     "data": {
      "text/html": [
       "<div>\n",
       "<style scoped>\n",
       "    .dataframe tbody tr th:only-of-type {\n",
       "        vertical-align: middle;\n",
       "    }\n",
       "\n",
       "    .dataframe tbody tr th {\n",
       "        vertical-align: top;\n",
       "    }\n",
       "\n",
       "    .dataframe thead th {\n",
       "        text-align: right;\n",
       "    }\n",
       "</style>\n",
       "<table border=\"1\" class=\"dataframe\">\n",
       "  <thead>\n",
       "    <tr style=\"text-align: right;\">\n",
       "      <th></th>\n",
       "      <th>educ_1</th>\n",
       "      <th>educ_2</th>\n",
       "      <th>educ_3</th>\n",
       "      <th>inc_q_1</th>\n",
       "      <th>inc_q_2</th>\n",
       "      <th>inc_q_3</th>\n",
       "      <th>inc_q_4</th>\n",
       "      <th>inc_q_5</th>\n",
       "    </tr>\n",
       "  </thead>\n",
       "  <tbody>\n",
       "    <tr>\n",
       "      <th>count</th>\n",
       "      <td>143132.000000</td>\n",
       "      <td>143132.000000</td>\n",
       "      <td>143132.000000</td>\n",
       "      <td>143887.000000</td>\n",
       "      <td>143887.000000</td>\n",
       "      <td>143887.000000</td>\n",
       "      <td>143887.000000</td>\n",
       "      <td>143887.000000</td>\n",
       "    </tr>\n",
       "    <tr>\n",
       "      <th>mean</th>\n",
       "      <td>0.269597</td>\n",
       "      <td>0.505834</td>\n",
       "      <td>0.224569</td>\n",
       "      <td>0.162301</td>\n",
       "      <td>0.172913</td>\n",
       "      <td>0.191442</td>\n",
       "      <td>0.214933</td>\n",
       "      <td>0.258411</td>\n",
       "    </tr>\n",
       "    <tr>\n",
       "      <th>std</th>\n",
       "      <td>0.443752</td>\n",
       "      <td>0.499968</td>\n",
       "      <td>0.417300</td>\n",
       "      <td>0.368728</td>\n",
       "      <td>0.378174</td>\n",
       "      <td>0.393437</td>\n",
       "      <td>0.410777</td>\n",
       "      <td>0.437763</td>\n",
       "    </tr>\n",
       "    <tr>\n",
       "      <th>min</th>\n",
       "      <td>0.000000</td>\n",
       "      <td>0.000000</td>\n",
       "      <td>0.000000</td>\n",
       "      <td>0.000000</td>\n",
       "      <td>0.000000</td>\n",
       "      <td>0.000000</td>\n",
       "      <td>0.000000</td>\n",
       "      <td>0.000000</td>\n",
       "    </tr>\n",
       "    <tr>\n",
       "      <th>25%</th>\n",
       "      <td>0.000000</td>\n",
       "      <td>0.000000</td>\n",
       "      <td>0.000000</td>\n",
       "      <td>0.000000</td>\n",
       "      <td>0.000000</td>\n",
       "      <td>0.000000</td>\n",
       "      <td>0.000000</td>\n",
       "      <td>0.000000</td>\n",
       "    </tr>\n",
       "    <tr>\n",
       "      <th>50%</th>\n",
       "      <td>0.000000</td>\n",
       "      <td>1.000000</td>\n",
       "      <td>0.000000</td>\n",
       "      <td>0.000000</td>\n",
       "      <td>0.000000</td>\n",
       "      <td>0.000000</td>\n",
       "      <td>0.000000</td>\n",
       "      <td>0.000000</td>\n",
       "    </tr>\n",
       "    <tr>\n",
       "      <th>75%</th>\n",
       "      <td>1.000000</td>\n",
       "      <td>1.000000</td>\n",
       "      <td>0.000000</td>\n",
       "      <td>0.000000</td>\n",
       "      <td>0.000000</td>\n",
       "      <td>0.000000</td>\n",
       "      <td>0.000000</td>\n",
       "      <td>1.000000</td>\n",
       "    </tr>\n",
       "    <tr>\n",
       "      <th>max</th>\n",
       "      <td>1.000000</td>\n",
       "      <td>1.000000</td>\n",
       "      <td>1.000000</td>\n",
       "      <td>1.000000</td>\n",
       "      <td>1.000000</td>\n",
       "      <td>1.000000</td>\n",
       "      <td>1.000000</td>\n",
       "      <td>1.000000</td>\n",
       "    </tr>\n",
       "  </tbody>\n",
       "</table>\n",
       "</div>"
      ],
      "text/plain": [
       "              educ_1         educ_2         educ_3        inc_q_1  \\\n",
       "count  143132.000000  143132.000000  143132.000000  143887.000000   \n",
       "mean        0.269597       0.505834       0.224569       0.162301   \n",
       "std         0.443752       0.499968       0.417300       0.368728   \n",
       "min         0.000000       0.000000       0.000000       0.000000   \n",
       "25%         0.000000       0.000000       0.000000       0.000000   \n",
       "50%         0.000000       1.000000       0.000000       0.000000   \n",
       "75%         1.000000       1.000000       0.000000       0.000000   \n",
       "max         1.000000       1.000000       1.000000       1.000000   \n",
       "\n",
       "             inc_q_2        inc_q_3        inc_q_4        inc_q_5  \n",
       "count  143887.000000  143887.000000  143887.000000  143887.000000  \n",
       "mean        0.172913       0.191442       0.214933       0.258411  \n",
       "std         0.378174       0.393437       0.410777       0.437763  \n",
       "min         0.000000       0.000000       0.000000       0.000000  \n",
       "25%         0.000000       0.000000       0.000000       0.000000  \n",
       "50%         0.000000       0.000000       0.000000       0.000000  \n",
       "75%         0.000000       0.000000       0.000000       1.000000  \n",
       "max         1.000000       1.000000       1.000000       1.000000  "
      ]
     },
     "execution_count": 39,
     "metadata": {},
     "output_type": "execute_result"
    }
   ],
   "source": [
    "# educ, economycode and income one hot encodes \n",
    "df_selected[['educ_1', 'educ_2', 'educ_3', 'inc_q_1', 'inc_q_2', 'inc_q_3', 'inc_q_4', 'inc_q_5']].describe()"
   ]
  },
  {
   "cell_type": "markdown",
   "id": "f5553406-8879-4c21-bbce-ef2751d32113",
   "metadata": {},
   "source": [
    "# Using Lasso and Ridge to Fine-Tune OLS\n"
   ]
  },
  {
   "cell_type": "code",
   "execution_count": 2,
   "id": "7f462544-ec20-4405-b549-c9dde1f2d600",
   "metadata": {},
   "outputs": [],
   "source": [
    "chosen_variables = ['age', 'female', 'educ_1', 'educ_2', 'educ_3', 'inc_q_1', 'inc_q_2', 'inc_q_3', 'inc_q_4', 'inc_q_5', 'account_fin', 'account_mob', 'receive_wages', 'mobileowner', 'internetaccess', 'pay_utilities', 'fin4', 'fin8', 'wgt']"
   ]
  },
  {
   "cell_type": "code",
   "execution_count": 3,
   "id": "1b14af6d-1f9d-4bc0-874b-1cea58949981",
   "metadata": {},
   "outputs": [],
   "source": [
    "df = pd.read_csv(\"microdata_cleaned.csv\", index_col=0)"
   ]
  },
  {
   "cell_type": "code",
   "execution_count": 4,
   "id": "1409e805-a0dc-40c7-abba-7b6b32c1200b",
   "metadata": {},
   "outputs": [],
   "source": [
    "df_selected = df[chosen_variables].copy()"
   ]
  },
  {
   "cell_type": "code",
   "execution_count": 5,
   "id": "a6d6e7a0-3dac-4a87-aef5-40b1b1cd5ab1",
   "metadata": {},
   "outputs": [],
   "source": [
    "df_selected.dropna(inplace=True)"
   ]
  },
  {
   "cell_type": "code",
   "execution_count": 6,
   "id": "24da32cf-150e-40a7-8eb5-f46551cadee7",
   "metadata": {},
   "outputs": [
    {
     "data": {
      "text/plain": [
       "(6170, 19)"
      ]
     },
     "execution_count": 6,
     "metadata": {},
     "output_type": "execute_result"
    }
   ],
   "source": [
    "df_selected.shape"
   ]
  },
  {
   "cell_type": "code",
   "execution_count": 7,
   "id": "80c1ff85-ef57-47f4-937b-34affca810bc",
   "metadata": {},
   "outputs": [],
   "source": [
    "y=df_selected['account_mob']\n",
    "X=df_selected.drop(columns=['account_mob', 'wgt', 'educ_1', 'inc_q_1'])\n",
    "X_train, X_test, y_train, y_test = train_test_split(X, y, test_size=0.1, random_state=1680,stratify=y)"
   ]
  },
  {
   "cell_type": "code",
   "execution_count": 8,
   "id": "a425cdaa-42ca-4b5b-af71-d7e8fa373ee9",
   "metadata": {},
   "outputs": [],
   "source": [
    "weights_train = df_selected.loc[X_train.index, 'wgt']"
   ]
  },
  {
   "cell_type": "markdown",
   "id": "f096406b",
   "metadata": {},
   "source": [
    "#### OLS Regression"
   ]
  },
  {
   "cell_type": "code",
   "execution_count": 9,
   "id": "eb964d5d",
   "metadata": {},
   "outputs": [
    {
     "name": "stdout",
     "output_type": "stream",
     "text": [
      "                            OLS Regression Results                            \n",
      "==============================================================================\n",
      "Dep. Variable:            account_mob   R-squared:                      -0.119\n",
      "Model:                            OLS   Adj. R-squared:                 -0.121\n",
      "Method:                 Least Squares   F-statistic:                    -41.96\n",
      "Date:                Mon, 06 May 2024   Prob (F-statistic):               1.00\n",
      "Time:                        13:11:55   Log-Likelihood:                -3751.6\n",
      "No. Observations:                5553   AIC:                             7533.\n",
      "Df Residuals:                    5538   BIC:                             7633.\n",
      "Df Model:                          14                                         \n",
      "Covariance Type:            nonrobust                                         \n",
      "==================================================================================\n",
      "                     coef    std err          t      P>|t|      [0.025      0.975]\n",
      "----------------------------------------------------------------------------------\n",
      "age               -0.0062      0.000    -12.821      0.000      -0.007      -0.005\n",
      "female            -0.0018      0.013     -0.139      0.890      -0.027       0.024\n",
      "educ_2            -0.0196      0.025     -0.793      0.428      -0.068       0.029\n",
      "educ_3            -0.0447      0.026     -1.718      0.086      -0.096       0.006\n",
      "inc_q_2           -0.0158      0.030     -0.527      0.598      -0.075       0.043\n",
      "inc_q_3            0.0352      0.028      1.236      0.217      -0.021       0.091\n",
      "inc_q_4            0.0641      0.027      2.400      0.016       0.012       0.116\n",
      "inc_q_5            0.1058      0.025      4.168      0.000       0.056       0.155\n",
      "account_fin        0.3208      0.054      5.908      0.000       0.214       0.427\n",
      "receive_wages      0.1486      0.014     10.870      0.000       0.122       0.175\n",
      "mobileowner        0.0319      0.046      0.698      0.486      -0.058       0.122\n",
      "internetaccess     0.0718      0.024      2.985      0.003       0.025       0.119\n",
      "pay_utilities      0.0924      0.015      6.133      0.000       0.063       0.122\n",
      "fin4               0.0876      0.016      5.618      0.000       0.057       0.118\n",
      "fin8               0.0720      0.016      4.430      0.000       0.040       0.104\n",
      "==============================================================================\n",
      "Omnibus:                    26119.535   Durbin-Watson:                   1.949\n",
      "Prob(Omnibus):                  0.000   Jarque-Bera (JB):              625.141\n",
      "Skew:                          -0.002   Prob(JB):                    1.79e-136\n",
      "Kurtosis:                       1.356   Cond. No.                         442.\n",
      "==============================================================================\n",
      "\n",
      "Notes:\n",
      "[1] Standard Errors assume that the covariance matrix of the errors is correctly specified.\n"
     ]
    },
    {
     "name": "stderr",
     "output_type": "stream",
     "text": [
      "C:\\Users\\Nadya\\anaconda3\\envs\\ECON1680\\lib\\site-packages\\statsmodels\\regression\\linear_model.py:921: ValueWarning: Weights are not supported in OLS and will be ignoredAn exception will be raised in the next version.\n",
      "  warnings.warn(msg, ValueWarning)\n",
      "C:\\Users\\Nadya\\anaconda3\\envs\\ECON1680\\lib\\site-packages\\statsmodels\\base\\model.py:130: ValueWarning: unknown kwargs ['weights']\n",
      "  warnings.warn(msg, ValueWarning)\n"
     ]
    }
   ],
   "source": [
    "ols_result = sm.OLS(y_train, X_train, weights=weights_train).fit()\n",
    "print(ols_result.summary())"
   ]
  },
  {
   "cell_type": "code",
   "execution_count": 10,
   "id": "73d3bf35-52a4-42ec-80be-6bcb6650f027",
   "metadata": {},
   "outputs": [
    {
     "name": "stdout",
     "output_type": "stream",
     "text": [
      "\\begin{center}\n",
      "\\begin{tabular}{lclc}\n",
      "\\toprule\n",
      "\\textbf{Dep. Variable:}    &   account\\_mob   & \\textbf{  R-squared:         } &    -0.119   \\\\\n",
      "\\textbf{Model:}            &       OLS        & \\textbf{  Adj. R-squared:    } &    -0.121   \\\\\n",
      "\\textbf{Method:}           &  Least Squares   & \\textbf{  F-statistic:       } &    -41.96   \\\\\n",
      "\\textbf{Date:}             & Mon, 06 May 2024 & \\textbf{  Prob (F-statistic):} &     1.00    \\\\\n",
      "\\textbf{Time:}             &     13:12:13     & \\textbf{  Log-Likelihood:    } &   -3751.6   \\\\\n",
      "\\textbf{No. Observations:} &        5553      & \\textbf{  AIC:               } &     7533.   \\\\\n",
      "\\textbf{Df Residuals:}     &        5538      & \\textbf{  BIC:               } &     7633.   \\\\\n",
      "\\textbf{Df Model:}         &          14      & \\textbf{                     } &             \\\\\n",
      "\\textbf{Covariance Type:}  &    nonrobust     & \\textbf{                     } &             \\\\\n",
      "\\bottomrule\n",
      "\\end{tabular}\n",
      "\\begin{tabular}{lcccccc}\n",
      "                        & \\textbf{coef} & \\textbf{std err} & \\textbf{t} & \\textbf{P$> |$t$|$} & \\textbf{[0.025} & \\textbf{0.975]}  \\\\\n",
      "\\midrule\n",
      "\\textbf{age}            &      -0.0062  &        0.000     &   -12.821  &         0.000        &       -0.007    &       -0.005     \\\\\n",
      "\\textbf{female}         &      -0.0018  &        0.013     &    -0.139  &         0.890        &       -0.027    &        0.024     \\\\\n",
      "\\textbf{educ\\_2}        &      -0.0196  &        0.025     &    -0.793  &         0.428        &       -0.068    &        0.029     \\\\\n",
      "\\textbf{educ\\_3}        &      -0.0447  &        0.026     &    -1.718  &         0.086        &       -0.096    &        0.006     \\\\\n",
      "\\textbf{inc\\_q\\_2}      &      -0.0158  &        0.030     &    -0.527  &         0.598        &       -0.075    &        0.043     \\\\\n",
      "\\textbf{inc\\_q\\_3}      &       0.0352  &        0.028     &     1.236  &         0.217        &       -0.021    &        0.091     \\\\\n",
      "\\textbf{inc\\_q\\_4}      &       0.0641  &        0.027     &     2.400  &         0.016        &        0.012    &        0.116     \\\\\n",
      "\\textbf{inc\\_q\\_5}      &       0.1058  &        0.025     &     4.168  &         0.000        &        0.056    &        0.155     \\\\\n",
      "\\textbf{account\\_fin}   &       0.3208  &        0.054     &     5.908  &         0.000        &        0.214    &        0.427     \\\\\n",
      "\\textbf{receive\\_wages} &       0.1486  &        0.014     &    10.870  &         0.000        &        0.122    &        0.175     \\\\\n",
      "\\textbf{mobileowner}    &       0.0319  &        0.046     &     0.698  &         0.486        &       -0.058    &        0.122     \\\\\n",
      "\\textbf{internetaccess} &       0.0718  &        0.024     &     2.985  &         0.003        &        0.025    &        0.119     \\\\\n",
      "\\textbf{pay\\_utilities} &       0.0924  &        0.015     &     6.133  &         0.000        &        0.063    &        0.122     \\\\\n",
      "\\textbf{fin4}           &       0.0876  &        0.016     &     5.618  &         0.000        &        0.057    &        0.118     \\\\\n",
      "\\textbf{fin8}           &       0.0720  &        0.016     &     4.430  &         0.000        &        0.040    &        0.104     \\\\\n",
      "\\bottomrule\n",
      "\\end{tabular}\n",
      "\\begin{tabular}{lclc}\n",
      "\\textbf{Omnibus:}       & 26119.535 & \\textbf{  Durbin-Watson:     } &     1.949  \\\\\n",
      "\\textbf{Prob(Omnibus):} &    0.000  & \\textbf{  Jarque-Bera (JB):  } &   625.141  \\\\\n",
      "\\textbf{Skew:}          &   -0.002  & \\textbf{  Prob(JB):          } & 1.79e-136  \\\\\n",
      "\\textbf{Kurtosis:}      &    1.356  & \\textbf{  Cond. No.          } &      442.  \\\\\n",
      "\\bottomrule\n",
      "\\end{tabular}\n",
      "%\\caption{OLS Regression Results}\n",
      "\\end{center}\n",
      "\n",
      "Notes: \\newline\n",
      " [1] Standard Errors assume that the covariance matrix of the errors is correctly specified.\n"
     ]
    }
   ],
   "source": [
    "latex_results = ols_result.summary().as_latex()\n",
    "\n",
    "print(latex_results)"
   ]
  },
  {
   "cell_type": "markdown",
   "id": "9c4e805d",
   "metadata": {},
   "source": [
    "#### LASSO regression "
   ]
  },
  {
   "cell_type": "code",
   "execution_count": 11,
   "id": "2ee2733c-5a38-4107-9eb8-ff714569ca84",
   "metadata": {},
   "outputs": [
    {
     "name": "stdout",
     "output_type": "stream",
     "text": [
      "Best Lasso Alpha: 1e-06\n"
     ]
    }
   ],
   "source": [
    "# Construct vector of alpha values\n",
    "alphas = np.linspace(1e-6, 1, num=100)\n",
    "\n",
    "# Construct vectors to store mean prediction errors and coefficients\n",
    "cv_errs = []\n",
    "coefs = []\n",
    "MSE = float('inf')\n",
    "best_lasso_alpha = 0\n",
    "\n",
    "# Loop for running Lasso regression for different values of alpha\n",
    "for a in alphas:\n",
    "    # Define pipeline object\n",
    "    lassoReg = make_pipeline(StandardScaler(with_mean=False), Lasso(alpha=a))\n",
    "    \n",
    "    # Run Lasso regression\n",
    "    lassoReg.fit(X_train, y_train, lasso__sample_weight=weights_train)\n",
    "    \n",
    "    # Obtain predicted values of output\n",
    "    y_pred = lassoReg.predict(X_test)\n",
    "    \n",
    "    # Compute mean squared error\n",
    "    cv_errs.append(mean_squared_error(y_test, y_pred))\n",
    "    \n",
    "    # Store coefficients\n",
    "    coefs.append(lassoReg['lasso'].coef_)\n",
    "    \n",
    "    # Store value of alpha that minimizes the mean squared error\n",
    "    if mean_squared_error(y_test, y_pred) < MSE:\n",
    "        MSE = mean_squared_error(y_test, y_pred)\n",
    "        best_lasso_alpha = a\n",
    "\n",
    "print(\"Best Lasso Alpha:\", best_lasso_alpha)"
   ]
  },
  {
   "cell_type": "code",
   "execution_count": 12,
   "id": "a42eb414-5866-49ee-be64-2998dd3ebd29",
   "metadata": {},
   "outputs": [
    {
     "data": {
      "text/plain": [
       "Text(0, 0.5, 'Mean Squared Error')"
      ]
     },
     "execution_count": 12,
     "metadata": {},
     "output_type": "execute_result"
    },
    {
     "data": {
      "image/png": "[encoded data removed]",
      "text/plain": [
       "<Figure size 432x288 with 1 Axes>"
      ]
     },
     "metadata": {
      "needs_background": "light"
     },
     "output_type": "display_data"
    }
   ],
   "source": [
    "# Plot the MSE against the values of alphas\n",
    "plt.plot(alphas, cv_errs, '*')\n",
    "plt.xlabel(r'$\\alpha$')\n",
    "plt.ylabel('Mean Squared Error')"
   ]
  },
  {
   "cell_type": "markdown",
   "id": "4db1ef90",
   "metadata": {},
   "source": [
    "#### Ridge Regression - searching for optimal alpha "
   ]
  },
  {
   "cell_type": "code",
   "execution_count": 13,
   "id": "3cb30753",
   "metadata": {},
   "outputs": [
    {
     "name": "stdout",
     "output_type": "stream",
     "text": [
      "0.020203\n"
     ]
    }
   ],
   "source": [
    "# Construct vector of alpha values\n",
    "alphas = np.linspace(1e-6, 1, num=100)\n",
    "\n",
    "# Construct vectors to store mean prediction errors and coefficients\n",
    "cv_errs = []\n",
    "coefs = []\n",
    "MSE = 10\n",
    "best_ridge_alpha = 0\n",
    "\n",
    "# Loop for running ridge regression for different values of alpha\n",
    "for a in alphas:\n",
    "    \n",
    "    # define pipeline object\n",
    "    ridgeReg = make_pipeline(StandardScaler(with_mean=False), Ridge(alpha= a * X_train.shape[0]))\n",
    "    # run Ridge regression\n",
    "    ridgeReg.fit(X_train, y_train, ridge__sample_weight=weights_train)\n",
    "    # obtain predicted values of output\n",
    "    y_pred = ridgeReg.predict(X_test)\n",
    "    # compute mean squared error\n",
    "    cv_errs.append(mean_squared_error(y_test, y_pred))\n",
    "    # store coefficients\n",
    "    coefs.append(ridgeReg['ridge'].coef_)\n",
    "    \n",
    "    # store value of alpha that minimizes the mean squared error\n",
    "    if mean_squared_error(y_test, y_pred) < MSE: #np.mean((y_pred - y_test)**2)\n",
    "        MSE = mean_squared_error(y_test, y_pred)\n",
    "        best_ridge_alpha = a\n",
    "        \n",
    "print(best_ridge_alpha)\n",
    "    \n",
    "# Create dataframe for storing coefficients\n",
    "coefs = pd.DataFrame(coefs, columns=X.columns)\n",
    "coefs.set_index(alphas, inplace=True)"
   ]
  },
  {
   "cell_type": "code",
   "execution_count": 14,
   "id": "9837dada",
   "metadata": {},
   "outputs": [
    {
     "data": {
      "text/plain": [
       "Text(0, 0.5, 'Mean Squared Error')"
      ]
     },
     "execution_count": 14,
     "metadata": {},
     "output_type": "execute_result"
    },
    {
     "data": {
      "image/png": "[encoded data removed]",
      "text/plain": [
       "<Figure size 432x288 with 1 Axes>"
      ]
     },
     "metadata": {
      "needs_background": "light"
     },
     "output_type": "display_data"
    }
   ],
   "source": [
    "# Plot the MSE against the values of alphas\n",
    "plt.plot(alphas, cv_errs, '*')\n",
    "plt.xlabel(r'$\\alpha$')\n",
    "plt.ylabel('Mean Squared Error')"
   ]
  },
  {
   "cell_type": "markdown",
   "id": "fceb94f7",
   "metadata": {},
   "source": [
    "#### Comparing Regression Outputs\n"
   ]
  },
  {
   "cell_type": "code",
   "execution_count": 15,
   "id": "92d16f53",
   "metadata": {},
   "outputs": [
    {
     "data": {
      "text/html": [
       "<style>#sk-container-id-1 {color: black;background-color: white;}#sk-container-id-1 pre{padding: 0;}#sk-container-id-1 div.sk-toggleable {background-color: white;}#sk-container-id-1 label.sk-toggleable__label {cursor: pointer;display: block;width: 100%;margin-bottom: 0;padding: 0.3em;box-sizing: border-box;text-align: center;}#sk-container-id-1 label.sk-toggleable__label-arrow:before {content: \"▸\";float: left;margin-right: 0.25em;color: #696969;}#sk-container-id-1 label.sk-toggleable__label-arrow:hover:before {color: black;}#sk-container-id-1 div.sk-estimator:hover label.sk-toggleable__label-arrow:before {color: black;}#sk-container-id-1 div.sk-toggleable__content {max-height: 0;max-width: 0;overflow: hidden;text-align: left;background-color: #f0f8ff;}#sk-container-id-1 div.sk-toggleable__content pre {margin: 0.2em;color: black;border-radius: 0.25em;background-color: #f0f8ff;}#sk-container-id-1 input.sk-toggleable__control:checked~div.sk-toggleable__content {max-height: 200px;max-width: 100%;overflow: auto;}#sk-container-id-1 input.sk-toggleable__control:checked~label.sk-toggleable__label-arrow:before {content: \"▾\";}#sk-container-id-1 div.sk-estimator input.sk-toggleable__control:checked~label.sk-toggleable__label {background-color: #d4ebff;}#sk-container-id-1 div.sk-label input.sk-toggleable__control:checked~label.sk-toggleable__label {background-color: #d4ebff;}#sk-container-id-1 input.sk-hidden--visually {border: 0;clip: rect(1px 1px 1px 1px);clip: rect(1px, 1px, 1px, 1px);height: 1px;margin: -1px;overflow: hidden;padding: 0;position: absolute;width: 1px;}#sk-container-id-1 div.sk-estimator {font-family: monospace;background-color: #f0f8ff;border: 1px dotted black;border-radius: 0.25em;box-sizing: border-box;margin-bottom: 0.5em;}#sk-container-id-1 div.sk-estimator:hover {background-color: #d4ebff;}#sk-container-id-1 div.sk-parallel-item::after {content: \"\";width: 100%;border-bottom: 1px solid gray;flex-grow: 1;}#sk-container-id-1 div.sk-label:hover label.sk-toggleable__label {background-color: #d4ebff;}#sk-container-id-1 div.sk-serial::before {content: \"\";position: absolute;border-left: 1px solid gray;box-sizing: border-box;top: 0;bottom: 0;left: 50%;z-index: 0;}#sk-container-id-1 div.sk-serial {display: flex;flex-direction: column;align-items: center;background-color: white;padding-right: 0.2em;padding-left: 0.2em;position: relative;}#sk-container-id-1 div.sk-item {position: relative;z-index: 1;}#sk-container-id-1 div.sk-parallel {display: flex;align-items: stretch;justify-content: center;background-color: white;position: relative;}#sk-container-id-1 div.sk-item::before, #sk-container-id-1 div.sk-parallel-item::before {content: \"\";position: absolute;border-left: 1px solid gray;box-sizing: border-box;top: 0;bottom: 0;left: 50%;z-index: -1;}#sk-container-id-1 div.sk-parallel-item {display: flex;flex-direction: column;z-index: 1;position: relative;background-color: white;}#sk-container-id-1 div.sk-parallel-item:first-child::after {align-self: flex-end;width: 50%;}#sk-container-id-1 div.sk-parallel-item:last-child::after {align-self: flex-start;width: 50%;}#sk-container-id-1 div.sk-parallel-item:only-child::after {width: 0;}#sk-container-id-1 div.sk-dashed-wrapped {border: 1px dashed gray;margin: 0 0.4em 0.5em 0.4em;box-sizing: border-box;padding-bottom: 0.4em;background-color: white;}#sk-container-id-1 div.sk-label label {font-family: monospace;font-weight: bold;display: inline-block;line-height: 1.2em;}#sk-container-id-1 div.sk-label-container {text-align: center;}#sk-container-id-1 div.sk-container {/* jupyter's `normalize.less` sets `[hidden] { display: none; }` but bootstrap.min.css set `[hidden] { display: none !important; }` so we also need the `!important` here to be able to override the default hidden behavior on the sphinx rendered scikit-learn.org. See: https://github.com/scikit-learn/scikit-learn/issues/21755 */display: inline-block !important;position: relative;}#sk-container-id-1 div.sk-text-repr-fallback {display: none;}</style><div id=\"sk-container-id-1\" class=\"sk-top-container\"><div class=\"sk-text-repr-fallback\"><pre>Pipeline(steps=[(&#x27;standardscaler&#x27;, StandardScaler(with_mean=False)),\n",
       "                (&#x27;ridge&#x27;, Ridge(alpha=1.5054963279852263))])</pre><b>In a Jupyter environment, please rerun this cell to show the HTML representation or trust the notebook. <br />On GitHub, the HTML representation is unable to render, please try loading this page with nbviewer.org.</b></div><div class=\"sk-container\" hidden><div class=\"sk-item sk-dashed-wrapped\"><div class=\"sk-label-container\"><div class=\"sk-label sk-toggleable\"><input class=\"sk-toggleable__control sk-hidden--visually\" id=\"sk-estimator-id-1\" type=\"checkbox\" ><label for=\"sk-estimator-id-1\" class=\"sk-toggleable__label sk-toggleable__label-arrow\">Pipeline</label><div class=\"sk-toggleable__content\"><pre>Pipeline(steps=[(&#x27;standardscaler&#x27;, StandardScaler(with_mean=False)),\n",
       "                (&#x27;ridge&#x27;, Ridge(alpha=1.5054963279852263))])</pre></div></div></div><div class=\"sk-serial\"><div class=\"sk-item\"><div class=\"sk-estimator sk-toggleable\"><input class=\"sk-toggleable__control sk-hidden--visually\" id=\"sk-estimator-id-2\" type=\"checkbox\" ><label for=\"sk-estimator-id-2\" class=\"sk-toggleable__label sk-toggleable__label-arrow\">StandardScaler</label><div class=\"sk-toggleable__content\"><pre>StandardScaler(with_mean=False)</pre></div></div></div><div class=\"sk-item\"><div class=\"sk-estimator sk-toggleable\"><input class=\"sk-toggleable__control sk-hidden--visually\" id=\"sk-estimator-id-3\" type=\"checkbox\" ><label for=\"sk-estimator-id-3\" class=\"sk-toggleable__label sk-toggleable__label-arrow\">Ridge</label><div class=\"sk-toggleable__content\"><pre>Ridge(alpha=1.5054963279852263)</pre></div></div></div></div></div></div></div>"
      ],
      "text/plain": [
       "Pipeline(steps=[('standardscaler', StandardScaler(with_mean=False)),\n",
       "                ('ridge', Ridge(alpha=1.5054963279852263))])"
      ]
     },
     "execution_count": 15,
     "metadata": {},
     "output_type": "execute_result"
    }
   ],
   "source": [
    "alpha = best_lasso_alpha\n",
    "lassoReg = make_pipeline(StandardScaler(with_mean=False), Lasso(alpha= alpha * np.sqrt(X_train.shape[0])))\n",
    "lassoReg.fit(X_train, y_train)\n",
    "\n",
    "alpha = best_ridge_alpha\n",
    "ridgeReg = make_pipeline(StandardScaler(with_mean=False), Ridge(alpha= alpha * np.sqrt(X_train.shape[0])))\n",
    "ridgeReg.fit(X_train, y_train)"
   ]
  },
  {
   "cell_type": "code",
   "execution_count": 16,
   "id": "7246c594",
   "metadata": {},
   "outputs": [],
   "source": [
    "coef_comp=pd.DataFrame({'var':X.columns, 'val_ols':ols_result.params.tolist(), 'val_lasso':lassoReg[-1].coef_, 'var_ridge':ridgeReg[-1].coef_})"
   ]
  },
  {
   "cell_type": "code",
   "execution_count": 17,
   "id": "a67d6953",
   "metadata": {},
   "outputs": [
    {
     "name": "stdout",
     "output_type": "stream",
     "text": [
      "|    | var            |     val_ols |    val_lasso |    var_ridge |\n",
      "|---:|:---------------|------------:|-------------:|-------------:|\n",
      "|  0 | age            | -0.0061553  | -0.0847396   | -0.0848378   |\n",
      "|  1 | female         | -0.00179864 | -0.000842385 | -0.000894747 |\n",
      "|  2 | educ_2         | -0.0195752  | -0.00914412  | -0.00974109  |\n",
      "|  3 | educ_3         | -0.0446631  | -0.0213385   | -0.0219848   |\n",
      "|  4 | inc_q_2        | -0.0158144  | -0.00512133  | -0.00494409  |\n",
      "|  5 | inc_q_3        |  0.0351851  |  0.0118781   |  0.0122193   |\n",
      "|  6 | inc_q_4        |  0.0641043  |  0.0263891   |  0.0267905   |\n",
      "|  7 | inc_q_5        |  0.105754   |  0.0520004   |  0.0524639   |\n",
      "|  8 | account_fin    |  0.320836   |  0           |  0           |\n",
      "|  9 | receive_wages  |  0.148609   |  0.0728875   |  0.0729074   |\n",
      "| 10 | mobileowner    |  0.0319314  |  0.00459476  |  0.00468036  |\n",
      "| 11 | internetaccess |  0.071777   |  0.0210055   |  0.0211036   |\n",
      "| 12 | pay_utilities  |  0.0923539  |  0.0407881   |  0.0408396   |\n",
      "| 13 | fin4           |  0.0875987  |  0.0371992   |  0.0372706   |\n",
      "| 14 | fin8           |  0.072039   |  0.0291269   |  0.0291697   |\n"
     ]
    }
   ],
   "source": [
    "print(coef_comp.to_markdown())\n"
   ]
  },
  {
   "cell_type": "code",
   "execution_count": 18,
   "id": "ab7a106e-2414-48d9-b7a3-8a0863d95aeb",
   "metadata": {},
   "outputs": [
    {
     "name": "stdout",
     "output_type": "stream",
     "text": [
      "\\begin{tabular}{llrrr}\n",
      "\\toprule\n",
      " & var & val_ols & val_lasso & var_ridge \\\\\n",
      "\\midrule\n",
      "0 & age & -0.006155 & -0.084740 & -0.084838 \\\\\n",
      "1 & female & -0.001799 & -0.000842 & -0.000895 \\\\\n",
      "2 & educ_2 & -0.019575 & -0.009144 & -0.009741 \\\\\n",
      "3 & educ_3 & -0.044663 & -0.021339 & -0.021985 \\\\\n",
      "4 & inc_q_2 & -0.015814 & -0.005121 & -0.004944 \\\\\n",
      "5 & inc_q_3 & 0.035185 & 0.011878 & 0.012219 \\\\\n",
      "6 & inc_q_4 & 0.064104 & 0.026389 & 0.026790 \\\\\n",
      "7 & inc_q_5 & 0.105754 & 0.052000 & 0.052464 \\\\\n",
      "8 & account_fin & 0.320836 & 0.000000 & 0.000000 \\\\\n",
      "9 & receive_wages & 0.148609 & 0.072887 & 0.072907 \\\\\n",
      "10 & mobileowner & 0.031931 & 0.004595 & 0.004680 \\\\\n",
      "11 & internetaccess & 0.071777 & 0.021005 & 0.021104 \\\\\n",
      "12 & pay_utilities & 0.092354 & 0.040788 & 0.040840 \\\\\n",
      "13 & fin4 & 0.087599 & 0.037199 & 0.037271 \\\\\n",
      "14 & fin8 & 0.072039 & 0.029127 & 0.029170 \\\\\n",
      "\\bottomrule\n",
      "\\end{tabular}\n",
      "\n"
     ]
    }
   ],
   "source": [
    "print(coef_comp.to_latex())"
   ]
  },
  {
   "cell_type": "markdown",
   "id": "7a8d7153-6fb1-4698-83d2-984d971e9512",
   "metadata": {},
   "source": [
    "### Use findings to refine OLS model and test accuracy"
   ]
  },
  {
   "cell_type": "code",
   "execution_count": 19,
   "id": "d7f549a9-4228-49cc-bf1a-b8ce17fbd6fe",
   "metadata": {},
   "outputs": [],
   "source": [
    "y=df_selected['account_mob']\n",
    "X=df_selected.drop(columns=['account_mob', 'wgt', 'educ_1', 'inc_q_1','account_fin'])\n",
    "X_train, X_test, y_train, y_test = train_test_split(X, y, test_size=0.1, random_state=1680,stratify=y)"
   ]
  },
  {
   "cell_type": "code",
   "execution_count": 20,
   "id": "21a99d36-dc49-4128-81bc-98a206c851ab",
   "metadata": {},
   "outputs": [],
   "source": [
    "weights_train = df_selected.loc[X_train.index, 'wgt']"
   ]
  },
  {
   "cell_type": "code",
   "execution_count": 21,
   "id": "cc1dbd5a-f363-4ae4-a2f0-8c88b7edd870",
   "metadata": {},
   "outputs": [
    {
     "name": "stdout",
     "output_type": "stream",
     "text": [
      "                                 OLS Regression Results                                \n",
      "=======================================================================================\n",
      "Dep. Variable:            account_mob   R-squared (uncentered):                   0.534\n",
      "Model:                            OLS   Adj. R-squared (uncentered):              0.533\n",
      "Method:                 Least Squares   F-statistic:                              453.2\n",
      "Date:                Mon, 06 May 2024   Prob (F-statistic):                        0.00\n",
      "Time:                        13:12:40   Log-Likelihood:                         -3769.0\n",
      "No. Observations:                5553   AIC:                                      7566.\n",
      "Df Residuals:                    5539   BIC:                                      7659.\n",
      "Df Model:                          14                                                  \n",
      "Covariance Type:            nonrobust                                                  \n",
      "==================================================================================\n",
      "                     coef    std err          t      P>|t|      [0.025      0.975]\n",
      "----------------------------------------------------------------------------------\n",
      "age               -0.0052      0.000    -11.444      0.000      -0.006      -0.004\n",
      "female             0.0090      0.013      0.702      0.483      -0.016       0.034\n",
      "educ_2             0.0111      0.024      0.457      0.647      -0.036       0.059\n",
      "educ_3            -0.0218      0.026     -0.845      0.398      -0.072       0.029\n",
      "inc_q_2            0.0321      0.029      1.108      0.268      -0.025       0.089\n",
      "inc_q_3            0.0828      0.027      3.024      0.003       0.029       0.137\n",
      "inc_q_4            0.1078      0.026      4.187      0.000       0.057       0.158\n",
      "inc_q_5            0.1461      0.025      5.959      0.000       0.098       0.194\n",
      "receive_wages      0.1537      0.014     11.228      0.000       0.127       0.180\n",
      "mobileowner        0.2164      0.034      6.442      0.000       0.151       0.282\n",
      "internetaccess     0.0790      0.024      3.280      0.001       0.032       0.126\n",
      "pay_utilities      0.0949      0.015      6.286      0.000       0.065       0.125\n",
      "fin4               0.0953      0.016      6.117      0.000       0.065       0.126\n",
      "fin8               0.0848      0.016      5.243      0.000       0.053       0.116\n",
      "==============================================================================\n",
      "Omnibus:                    27363.700   Durbin-Watson:                   1.951\n",
      "Prob(Omnibus):                  0.000   Jarque-Bera (JB):              600.966\n",
      "Skew:                          -0.007   Prob(JB):                    3.18e-131\n",
      "Kurtosis:                       1.388   Cond. No.                         318.\n",
      "==============================================================================\n",
      "\n",
      "Notes:\n",
      "[1] R² is computed without centering (uncentered) since the model does not contain a constant.\n",
      "[2] Standard Errors assume that the covariance matrix of the errors is correctly specified.\n"
     ]
    },
    {
     "name": "stderr",
     "output_type": "stream",
     "text": [
      "C:\\Users\\Nadya\\anaconda3\\envs\\ECON1680\\lib\\site-packages\\statsmodels\\regression\\linear_model.py:921: ValueWarning: Weights are not supported in OLS and will be ignoredAn exception will be raised in the next version.\n",
      "  warnings.warn(msg, ValueWarning)\n",
      "C:\\Users\\Nadya\\anaconda3\\envs\\ECON1680\\lib\\site-packages\\statsmodels\\base\\model.py:130: ValueWarning: unknown kwargs ['weights']\n",
      "  warnings.warn(msg, ValueWarning)\n"
     ]
    }
   ],
   "source": [
    "ols_result = sm.OLS(y_train, X_train, weights=weights_train).fit()\n",
    "print(ols_result.summary())"
   ]
  },
  {
   "cell_type": "code",
   "execution_count": 22,
   "id": "0d5772a8-6749-490b-932b-a582fd707516",
   "metadata": {},
   "outputs": [
    {
     "name": "stdout",
     "output_type": "stream",
     "text": [
      "\\begin{center}\n",
      "\\begin{tabular}{lclc}\n",
      "\\toprule\n",
      "\\textbf{Dep. Variable:}    &   account\\_mob   & \\textbf{  R-squared (uncentered):}      &     0.534   \\\\\n",
      "\\textbf{Model:}            &       OLS        & \\textbf{  Adj. R-squared (uncentered):} &     0.533   \\\\\n",
      "\\textbf{Method:}           &  Least Squares   & \\textbf{  F-statistic:       }          &     453.2   \\\\\n",
      "\\textbf{Date:}             & Mon, 06 May 2024 & \\textbf{  Prob (F-statistic):}          &     0.00    \\\\\n",
      "\\textbf{Time:}             &     13:13:15     & \\textbf{  Log-Likelihood:    }          &   -3769.0   \\\\\n",
      "\\textbf{No. Observations:} &        5553      & \\textbf{  AIC:               }          &     7566.   \\\\\n",
      "\\textbf{Df Residuals:}     &        5539      & \\textbf{  BIC:               }          &     7659.   \\\\\n",
      "\\textbf{Df Model:}         &          14      & \\textbf{                     }          &             \\\\\n",
      "\\textbf{Covariance Type:}  &    nonrobust     & \\textbf{                     }          &             \\\\\n",
      "\\bottomrule\n",
      "\\end{tabular}\n",
      "\\begin{tabular}{lcccccc}\n",
      "                        & \\textbf{coef} & \\textbf{std err} & \\textbf{t} & \\textbf{P$> |$t$|$} & \\textbf{[0.025} & \\textbf{0.975]}  \\\\\n",
      "\\midrule\n",
      "\\textbf{age}            &      -0.0052  &        0.000     &   -11.444  &         0.000        &       -0.006    &       -0.004     \\\\\n",
      "\\textbf{female}         &       0.0090  &        0.013     &     0.702  &         0.483        &       -0.016    &        0.034     \\\\\n",
      "\\textbf{educ\\_2}        &       0.0111  &        0.024     &     0.457  &         0.647        &       -0.036    &        0.059     \\\\\n",
      "\\textbf{educ\\_3}        &      -0.0218  &        0.026     &    -0.845  &         0.398        &       -0.072    &        0.029     \\\\\n",
      "\\textbf{inc\\_q\\_2}      &       0.0321  &        0.029     &     1.108  &         0.268        &       -0.025    &        0.089     \\\\\n",
      "\\textbf{inc\\_q\\_3}      &       0.0828  &        0.027     &     3.024  &         0.003        &        0.029    &        0.137     \\\\\n",
      "\\textbf{inc\\_q\\_4}      &       0.1078  &        0.026     &     4.187  &         0.000        &        0.057    &        0.158     \\\\\n",
      "\\textbf{inc\\_q\\_5}      &       0.1461  &        0.025     &     5.959  &         0.000        &        0.098    &        0.194     \\\\\n",
      "\\textbf{receive\\_wages} &       0.1537  &        0.014     &    11.228  &         0.000        &        0.127    &        0.180     \\\\\n",
      "\\textbf{mobileowner}    &       0.2164  &        0.034     &     6.442  &         0.000        &        0.151    &        0.282     \\\\\n",
      "\\textbf{internetaccess} &       0.0790  &        0.024     &     3.280  &         0.001        &        0.032    &        0.126     \\\\\n",
      "\\textbf{pay\\_utilities} &       0.0949  &        0.015     &     6.286  &         0.000        &        0.065    &        0.125     \\\\\n",
      "\\textbf{fin4}           &       0.0953  &        0.016     &     6.117  &         0.000        &        0.065    &        0.126     \\\\\n",
      "\\textbf{fin8}           &       0.0848  &        0.016     &     5.243  &         0.000        &        0.053    &        0.116     \\\\\n",
      "\\bottomrule\n",
      "\\end{tabular}\n",
      "\\begin{tabular}{lclc}\n",
      "\\textbf{Omnibus:}       & 27363.700 & \\textbf{  Durbin-Watson:     } &     1.951  \\\\\n",
      "\\textbf{Prob(Omnibus):} &    0.000  & \\textbf{  Jarque-Bera (JB):  } &   600.966  \\\\\n",
      "\\textbf{Skew:}          &   -0.007  & \\textbf{  Prob(JB):          } & 3.18e-131  \\\\\n",
      "\\textbf{Kurtosis:}      &    1.388  & \\textbf{  Cond. No.          } &      318.  \\\\\n",
      "\\bottomrule\n",
      "\\end{tabular}\n",
      "%\\caption{OLS Regression Results}\n",
      "\\end{center}\n",
      "\n",
      "Notes: \\newline\n",
      " [1] R² is computed without centering (uncentered) since the model does not contain a constant. \\newline\n",
      " [2] Standard Errors assume that the covariance matrix of the errors is correctly specified.\n"
     ]
    }
   ],
   "source": [
    "latex_results = ols_result.summary().as_latex()\n",
    "\n",
    "print(latex_results)"
   ]
  },
  {
   "cell_type": "code",
   "execution_count": 23,
   "id": "522a2002-606a-4934-9994-14ef3ec72bbd",
   "metadata": {},
   "outputs": [
    {
     "name": "stdout",
     "output_type": "stream",
     "text": [
      "Logit Training Accuracy: 0.6212857914640735\n",
      "Logit Testing Accuracy: 0.6628849270664505\n"
     ]
    }
   ],
   "source": [
    "# train the logistic regression model \n",
    "logitmodel = LogisticRegression(solver='liblinear', random_state=1680).fit(X_train, y_train) \n",
    "print(\"Logit Training Accuracy:\", accuracy_score(y_train,logitmodel.predict(X_train)))\n",
    "print(\"Logit Testing Accuracy:\", accuracy_score(y_test, logitmodel.predict(X_test)))"
   ]
  },
  {
   "cell_type": "code",
   "execution_count": 24,
   "id": "1f4d316b-5b43-47b2-a109-2ee806ce1b47",
   "metadata": {},
   "outputs": [
    {
     "data": {
      "image/png": "[encoded data removed]",
      "text/plain": [
       "<Figure size 432x288 with 2 Axes>"
      ]
     },
     "metadata": {
      "needs_background": "light"
     },
     "output_type": "display_data"
    }
   ],
   "source": [
    "from sklearn.metrics import confusion_matrix\n",
    "import seaborn as sns\n",
    "\n",
    "y_pred = logitmodel.predict(X_test)\n",
    "conf_matrix = confusion_matrix(y_test, y_pred)\n",
    "\n",
    "# Create a heatmap\n",
    "sns.heatmap(conf_matrix, annot=True, cmap='Blues', fmt='d', \n",
    "            xticklabels=['Predicted Negative', 'Predicted Positive'], \n",
    "            yticklabels=['Actual Negative', 'Actual Positive'])\n",
    "plt.xlabel('Predicted Label')\n",
    "plt.ylabel('True Label')\n",
    "plt.title('Confusion Matrix (Logistic Regression)')\n",
    "plt.show()\n"
   ]
  },
  {
   "cell_type": "markdown",
   "id": "c95bad48-4df8-481e-abc2-e3e6b47c4c87",
   "metadata": {},
   "source": [
    "# Trying Non-Linear Models: Hist Gradient Boost"
   ]
  },
  {
   "cell_type": "code",
   "execution_count": 25,
   "id": "89ffcf79-c86a-44f4-a12f-faff6d81b951",
   "metadata": {},
   "outputs": [],
   "source": [
    "chosen_variables = ['female', 'age', 'emp_in', 'urbanicity_f2f', 'account', 'account_fin', 'account_mob', 'saved', 'borrowed', 'receive_wages', 'receive_transfers', 'receive_pension', 'receive_agriculture', 'pay_utilities', 'remittances', 'mobileowner', 'internetaccess', 'fin2', 'fin4', 'fin7', 'fin8', 'fin9', 'fin10', 'educ_1', 'educ_2', 'educ_3', 'inc_q_1', 'inc_q_2', 'inc_q_3', 'inc_q_4', 'inc_q_5', 'wgt']"
   ]
  },
  {
   "cell_type": "code",
   "execution_count": 26,
   "id": "83f49089-fe64-421b-b42e-f427679dc0fc",
   "metadata": {},
   "outputs": [],
   "source": [
    "df = pd.read_csv(\"microdata_cleaned.csv\", index_col=0)"
   ]
  },
  {
   "cell_type": "code",
   "execution_count": 27,
   "id": "ac1990d2-accd-4802-bd39-a1b554a2dbab",
   "metadata": {},
   "outputs": [],
   "source": [
    "df_selected = df[chosen_variables].copy()"
   ]
  },
  {
   "cell_type": "code",
   "execution_count": 28,
   "id": "c9fb2eaf-81b4-4241-9d62-08fa181ac748",
   "metadata": {},
   "outputs": [],
   "source": [
    "df_selected.dropna(subset=['account_mob'], inplace=True)"
   ]
  },
  {
   "cell_type": "code",
   "execution_count": 29,
   "id": "f939afc7-189b-4740-b155-60e09d1f6a84",
   "metadata": {},
   "outputs": [],
   "source": [
    "y=df_selected['account_mob']\n",
    "X=df_selected.drop(columns=['account_mob', 'wgt', 'educ_1', 'inc_q_1'])\n",
    "X_train, X_test, y_train, y_test = train_test_split(X, y, test_size=0.1, random_state=1680,stratify=y)"
   ]
  },
  {
   "cell_type": "code",
   "execution_count": 30,
   "id": "95bf2642-cf9b-495c-ae93-758200b0cbaa",
   "metadata": {},
   "outputs": [],
   "source": [
    "weights_train = df_selected.loc[X_train.index, 'wgt']"
   ]
  },
  {
   "cell_type": "code",
   "execution_count": 31,
   "id": "1f386f11-d9de-4a93-af30-88f9d453364e",
   "metadata": {},
   "outputs": [
    {
     "name": "stderr",
     "output_type": "stream",
     "text": [
      "C:\\Users\\Nadya\\anaconda3\\envs\\ECON1680\\lib\\site-packages\\sklearn\\experimental\\enable_hist_gradient_boosting.py:16: UserWarning: Since version 1.0, it is not needed to import enable_hist_gradient_boosting anymore. HistGradientBoostingClassifier and HistGradientBoostingRegressor are now stable and can be normally imported from sklearn.ensemble.\n",
      "  warnings.warn(\n"
     ]
    }
   ],
   "source": [
    "from sklearn.experimental import enable_hist_gradient_boosting  # noqa\n",
    "from sklearn.ensemble import HistGradientBoostingClassifier"
   ]
  },
  {
   "cell_type": "code",
   "execution_count": 32,
   "id": "bc53b118-acf1-43dc-bb4b-49aa00238e30",
   "metadata": {},
   "outputs": [
    {
     "name": "stdout",
     "output_type": "stream",
     "text": [
      "HistGradientBoosting Classifier Accuracy: 0.8689396687220409\n"
     ]
    }
   ],
   "source": [
    "# Initialize HistGradientBoostingClassifier\n",
    "hist_gb_classifier = HistGradientBoostingClassifier()\n",
    "\n",
    "# Train the model\n",
    "hist_gb_classifier.fit(X_train, y_train, sample_weight=weights_train)\n",
    "\n",
    "# Predict on the test set\n",
    "hist_gb_predictions = hist_gb_classifier.predict(X_test)\n",
    "\n",
    "# Calculate accuracy\n",
    "hist_gb_accuracy = accuracy_score(y_test, hist_gb_predictions)\n",
    "print(\"HistGradientBoosting Classifier Accuracy:\", hist_gb_accuracy)\n"
   ]
  },
  {
   "cell_type": "code",
   "execution_count": 34,
   "id": "e5f8d3ad-4445-4673-b12e-f2b98ac001c6",
   "metadata": {},
   "outputs": [
    {
     "name": "stdout",
     "output_type": "stream",
     "text": [
      "\\begin{tabular}{lr}\n",
      "\\toprule\n",
      "Feature & Importance \\\\\n",
      "\\midrule\n",
      "account & 0.294692 \\\\\n",
      "account_fin & 0.128679 \\\\\n",
      "remittances & 0.016902 \\\\\n",
      "age & 0.007629 \\\\\n",
      "saved & 0.004933 \\\\\n",
      "receive_transfers & 0.003313 \\\\\n",
      "receive_wages & 0.002950 \\\\\n",
      "receive_agriculture & 0.002370 \\\\\n",
      "internetaccess & 0.001947 \\\\\n",
      "mobileowner & 0.001427 \\\\\n",
      "fin4 & 0.001257 \\\\\n",
      "fin9 & 0.001185 \\\\\n",
      "inc_q_2 & 0.001112 \\\\\n",
      "inc_q_5 & 0.000991 \\\\\n",
      "educ_2 & 0.000871 \\\\\n",
      "inc_q_3 & -0.000834 \\\\\n",
      "borrowed & 0.000810 \\\\\n",
      "pay_utilities & 0.000738 \\\\\n",
      "female & -0.000677 \\\\\n",
      "fin8 & 0.000423 \\\\\n",
      "emp_in & 0.000351 \\\\\n",
      "fin2 & 0.000278 \\\\\n",
      "fin7 & 0.000254 \\\\\n",
      "fin10 & -0.000242 \\\\\n",
      "inc_q_4 & 0.000121 \\\\\n",
      "urbanicity_f2f & 0.000097 \\\\\n",
      "educ_3 & 0.000036 \\\\\n",
      "receive_pension & 0.000000 \\\\\n",
      "\\bottomrule\n",
      "\\end{tabular}\n",
      "\n"
     ]
    }
   ],
   "source": [
    "# Define your feature names\n",
    "feature_names = X.columns\n",
    "\n",
    "# Get sorted feature importances by absolute value\n",
    "sorted_idx = np.argsort(np.abs(result.importances_mean))[::-1]\n",
    "\n",
    "# Create a DataFrame with feature names and importances\n",
    "feature_importance_df = pd.DataFrame({\n",
    "    'Feature': feature_names[sorted_idx],\n",
    "    'Importance': result.importances_mean[sorted_idx]\n",
    "})\n",
    "\n",
    "# Convert DataFrame to LaTeX table\n",
    "latex_table = feature_importance_df.to_latex(index=False)\n",
    "\n",
    "print(latex_table)\n"
   ]
  },
  {
   "cell_type": "code",
   "execution_count": 35,
   "id": "5715eb0c-44f9-45c1-8444-2a38ba982ae7",
   "metadata": {},
   "outputs": [
    {
     "data": {
      "image/png": "[encoded data removed]",
      "text/plain": [
       "<Figure size 432x432 with 2 Axes>"
      ]
     },
     "metadata": {
      "needs_background": "light"
     },
     "output_type": "display_data"
    }
   ],
   "source": [
    "# Create confusion matrix\n",
    "conf_matrix_gb = confusion_matrix(y_test, hist_gb_predictions)\n",
    "\n",
    "# Plot confusion matrix\n",
    "plt.figure(figsize=(6, 6))\n",
    "sns.heatmap(conf_matrix_gb, annot=True, cmap='Blues', fmt='d', \n",
    "            xticklabels=['Predicted Negative', 'Predicted Positive'],\n",
    "            yticklabels=['Actual Negative', 'Actual Positive'])\n",
    "plt.xlabel('Predicted label')\n",
    "plt.ylabel('Actual label')\n",
    "plt.title('Confusion Matrix (HistGradientBoosting Classifier)')\n",
    "plt.show()\n"
   ]
  }
 ],
 "metadata": {
  "kernelspec": {
   "display_name": "Python 3 (ipykernel)",
   "language": "python",
   "name": "python3"
  },
  "language_info": {
   "codemirror_mode": {
    "name": "ipython",
    "version": 3
   },
   "file_extension": ".py",
   "mimetype": "text/x-python",
   "name": "python",
   "nbconvert_exporter": "python",
   "pygments_lexer": "ipython3",
   "version": "3.9.18"
  },
  "vscode": {
   "interpreter": {
    "hash": "ff6ebcde2956354653a1bfc837161093b4abe74b5e977ba193ed76204ade37d4"
   }
  }
 },
 "nbformat": 4,
 "nbformat_minor": 5
}
