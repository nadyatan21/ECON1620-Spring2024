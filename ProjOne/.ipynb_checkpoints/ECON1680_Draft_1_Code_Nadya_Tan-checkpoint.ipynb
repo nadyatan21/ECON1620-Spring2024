{
 "cells": [
  {
   "cell_type": "markdown",
   "id": "3e0730ea-1316-4f07-8457-825283980e95",
   "metadata": {},
   "source": [
    "# Project One Code \n",
    "\n",
    "## Econ 1680: MLTA and Econ\n",
    "\n",
    "#### Name: Nadya Tan"
   ]
  },
  {
   "cell_type": "code",
   "execution_count": 1,
   "id": "af5d5c61-dff6-4e56-8811-10646aef170d",
   "metadata": {},
   "outputs": [],
   "source": [
    "import pandas as pd\n",
    "import numpy as np\n",
    "import matplotlib.pyplot as plt\n",
    "import random\n",
    "import statsmodels.api as sm\n",
    "from statsmodels.iolib.summary2 import summary_col\n",
    "from math import sqrt\n",
    "\n",
    "from sklearn.model_selection import train_test_split\n",
    "from sklearn.model_selection import GridSearchCV\n",
    "from sklearn.metrics import mean_squared_error\n",
    "from sklearn.linear_model import Lasso, LassoCV\n",
    "from sklearn.linear_model import Ridge, RidgeCV\n",
    "from sklearn.preprocessing import normalize\n",
    "import scipy.cluster.hierarchy as shc\n",
    "from sklearn.cluster import AgglomerativeClustering\n",
    "from sklearn.cluster import KMeans\n",
    "from sklearn.decomposition import PCA\n",
    "\n",
    "from sklearn.linear_model import LogisticRegression\n",
    "from sklearn.linear_model import LinearRegression\n",
    "from sklearn.metrics import classification_report, confusion_matrix\n",
    "from sklearn.neural_network import MLPClassifier\n",
    "from sklearn.metrics import accuracy_score\n",
    "from sklearn.preprocessing import StandardScaler\n",
    "from sklearn.pipeline import make_pipeline"
   ]
  },
  {
   "cell_type": "markdown",
   "id": "ba512fce",
   "metadata": {},
   "source": [
    "# Data Cleaning and Preparation"
   ]
  },
  {
   "cell_type": "code",
   "execution_count": 25,
   "id": "a01d69b1-a1bc-4ba4-bdd6-a24759329f31",
   "metadata": {},
   "outputs": [],
   "source": [
    "df_microdata = pd.read_csv('micro_world_139countries.csv', encoding='latin-1')"
   ]
  },
  {
   "cell_type": "code",
   "execution_count": 26,
   "id": "88f74001-1ef2-4466-a3f0-b412e905d080",
   "metadata": {},
   "outputs": [],
   "source": [
    "# select columns to keep \n",
    "selected = ['economycode', 'wgt','female', 'age', 'educ', 'inc_q', 'emp_in', 'urbanicity_f2f', 'account', 'account_fin', 'account_mob', 'fin2', 'fin4', 'fin5', 'fin6', 'fin7', 'fin8', 'fin9', 'fin10', 'fin13a', 'saved', 'borrowed', 'receive_wages', 'receive_transfers', 'receive_pension', 'receive_agriculture', 'pay_utilities', 'remittances', 'mobileowner', 'internetaccess', 'anydigpayment', 'merchantpay_dig' ]\n",
    "# new df \n",
    "df_selected = df_microdata[selected]"
   ]
  },
  {
   "cell_type": "code",
   "execution_count": 27,
   "id": "7967c0a8-d8d2-4426-b181-9b7a1b955d99",
   "metadata": {},
   "outputs": [
    {
     "data": {
      "text/plain": [
       "(143887, 32)"
      ]
     },
     "execution_count": 27,
     "metadata": {},
     "output_type": "execute_result"
    }
   ],
   "source": [
    "df_selected.shape"
   ]
  },
  {
   "cell_type": "markdown",
   "id": "628ded9a-1c3b-4349-83f6-5ae5f7eb827e",
   "metadata": {},
   "source": [
    "## One-hot Encoding "
   ]
  },
  {
   "cell_type": "code",
   "execution_count": 28,
   "id": "eec12546-ddc3-426e-967a-3881d27cb816",
   "metadata": {},
   "outputs": [],
   "source": [
    "# these variables need maps\n",
    "# educ - change to 3 columns with 0-1 - if value is 4-5, put na in all 3 cols \n",
    "educ_dummies = pd.get_dummies(df_selected['educ'], prefix='educ').astype(int)\n",
    "educ_dummies = educ_dummies.drop(columns=['educ_4', 'educ_5'])\n",
    "# Fill NaN values for rows where educ was 4 or 5\n",
    "educ_dummies.loc[df_selected['educ'].isin([4, 5]), :] = np.nan\n",
    "\n",
    "# Convert inc_q to 5 columns\n",
    "inc_q_dummies = pd.get_dummies(df_selected['inc_q'], prefix='inc_q').astype(int)\n",
    "df_selected = pd.concat([df_selected, educ_dummies, inc_q_dummies], axis=1)"
   ]
  },
  {
   "cell_type": "code",
   "execution_count": 29,
   "id": "d23b68cd-997e-4a99-9cc6-032b8320393b",
   "metadata": {},
   "outputs": [],
   "source": [
    "# Convert female to 0-1\n",
    "df_selected['female'] = df_selected['female'].apply(lambda x: 1 if x == 1 else 0)\n",
    "\n",
    "# Convert emp_in to 0-1\n",
    "df_selected['emp_in'] = df_selected['emp_in'].apply(lambda x: 1 if x == 1 else 0)\n",
    "\n",
    "# Convert urbanicity_f2f to 0-1\n",
    "df_selected['urbanicity_f2f'] = df_selected['urbanicity_f2f'].apply(lambda x: 1 if x == 2 else 0)"
   ]
  },
  {
   "cell_type": "code",
   "execution_count": 30,
   "id": "1f3904fa-ee33-497b-a246-0cf198dfebe9",
   "metadata": {},
   "outputs": [],
   "source": [
    "# Convert these other financial variables to 0-1 and na for 3-4 \n",
    "other_cols = [col for col in df_selected.columns if col in ['fin2', 'fin4', 'fin5', 'fin6', 'fin7', 'fin8', 'fin9', 'fin10', 'fin13a','mobileowner', 'internetaccess']]\n",
    "for col in other_cols:\n",
    "    df_selected[col] = df_selected[col].apply(lambda x: 1 if x == 1 else (0 if x == 2 else None))"
   ]
  },
  {
   "cell_type": "code",
   "execution_count": 31,
   "id": "2ddec655-7142-4ab7-becb-0a547ae9f802",
   "metadata": {},
   "outputs": [],
   "source": [
    "def scale_value(value):\n",
    "    # did not perform the act\n",
    "    if value == 4:\n",
    "        return 0\n",
    "    # performed using cash\n",
    "    elif value == 2:\n",
    "        return 1\n",
    "    # performed using account \n",
    "    elif value == 1:\n",
    "        return 2\n",
    "    else:\n",
    "        return np.nan \n",
    "\n",
    "# Create new columns with scaled values\n",
    "df_selected['receive_wages_scaled'] = df_selected['receive_wages'].apply(scale_value)\n",
    "df_selected['receive_transfers_scaled'] = df_selected['receive_transfers'].apply(scale_value)\n",
    "df_selected['receive_pension_scaled'] = df_selected['receive_pension'].apply(scale_value)\n",
    "df_selected['receive_agriculture_scaled'] = df_selected['receive_agriculture'].apply(scale_value)\n",
    "df_selected['pay_utilities_scaled'] = df_selected['pay_utilities'].apply(scale_value)\n",
    "\n",
    "# Replace old column with 0-1 \n",
    "def replace_value(value):\n",
    "    if value in [1, 2, 3]:\n",
    "        return 1\n",
    "    elif value == 4:\n",
    "        return 0\n",
    "    else:\n",
    "        return np.nan  # NaN for values 5\n",
    "columns_to_process = ['receive_wages', 'receive_transfers', 'receive_pension', 'receive_agriculture', 'pay_utilities']\n",
    "for column in columns_to_process:\n",
    "    df_selected[column] = df_selected[column].apply(replace_value)"
   ]
  },
  {
   "cell_type": "code",
   "execution_count": 32,
   "id": "05c729e5-27fd-45d9-b38e-46d0dddefee3",
   "metadata": {},
   "outputs": [],
   "source": [
    "def scale_value_remittances(value):\n",
    "    # did not perform the act\n",
    "    if value == 5:\n",
    "        return 0\n",
    "    # performed using cash or OTC\n",
    "    elif value in [2, 3]:\n",
    "        return 1\n",
    "    # performed using account \n",
    "    elif value == 1:\n",
    "        return 2\n",
    "    else:\n",
    "        return np.nan \n",
    "df_selected['remittances_scaled'] = df_selected['remittances'].apply(scale_value)\n",
    "\n",
    "def replace_value_remittances(value):\n",
    "    if value in [1, 2, 3, 4]:\n",
    "        return 1\n",
    "    elif value == 5:\n",
    "        return 0\n",
    "    else:\n",
    "        return np.nan\n",
    "\n",
    "df_selected['remittances'] = df_selected['remittances'].apply(replace_value)"
   ]
  },
  {
   "cell_type": "code",
   "execution_count": 33,
   "id": "cbcdbe6d-8937-4f2e-8c74-70c4729fffe9",
   "metadata": {},
   "outputs": [],
   "source": [
    "# economycode \n",
    "economycode_dummies = pd.get_dummies(df_selected['economycode']).astype(int)\n",
    "df_selected = pd.concat([df_selected, economycode_dummies], axis=1)"
   ]
  },
  {
   "cell_type": "code",
   "execution_count": 34,
   "id": "02afc3e0-e82f-42ea-8a03-a5432edc0ac4",
   "metadata": {},
   "outputs": [
    {
     "data": {
      "text/plain": [
       "(143887, 185)"
      ]
     },
     "execution_count": 34,
     "metadata": {},
     "output_type": "execute_result"
    }
   ],
   "source": [
    "df_selected.shape"
   ]
  },
  {
   "cell_type": "code",
   "execution_count": 35,
   "id": "5dd885db-5587-46db-8c1b-57db73983420",
   "metadata": {},
   "outputs": [],
   "source": [
    "df_selected.to_csv('microdata_cleaned.csv')"
   ]
  },
  {
   "cell_type": "markdown",
   "id": "2e32308f-c078-4606-890a-bc5ad0f060f9",
   "metadata": {},
   "source": [
    "## Summary Statistics "
   ]
  },
  {
   "cell_type": "code",
   "execution_count": 36,
   "id": "0adef670-c421-4e68-b79a-569695139598",
   "metadata": {},
   "outputs": [
    {
     "data": {
      "text/html": [
       "<div>\n",
       "<style scoped>\n",
       "    .dataframe tbody tr th:only-of-type {\n",
       "        vertical-align: middle;\n",
       "    }\n",
       "\n",
       "    .dataframe tbody tr th {\n",
       "        vertical-align: top;\n",
       "    }\n",
       "\n",
       "    .dataframe thead th {\n",
       "        text-align: right;\n",
       "    }\n",
       "</style>\n",
       "<table border=\"1\" class=\"dataframe\">\n",
       "  <thead>\n",
       "    <tr style=\"text-align: right;\">\n",
       "      <th></th>\n",
       "      <th>female</th>\n",
       "      <th>age</th>\n",
       "      <th>educ</th>\n",
       "      <th>inc_q</th>\n",
       "      <th>emp_in</th>\n",
       "      <th>urbanicity_f2f</th>\n",
       "      <th>account</th>\n",
       "      <th>account_fin</th>\n",
       "      <th>account_mob</th>\n",
       "      <th>saved</th>\n",
       "      <th>borrowed</th>\n",
       "      <th>receive_wages</th>\n",
       "      <th>receive_transfers</th>\n",
       "      <th>receive_pension</th>\n",
       "      <th>receive_agriculture</th>\n",
       "      <th>pay_utilities</th>\n",
       "      <th>remittances</th>\n",
       "      <th>mobileowner</th>\n",
       "      <th>internetaccess</th>\n",
       "      <th>anydigpayment</th>\n",
       "    </tr>\n",
       "  </thead>\n",
       "  <tbody>\n",
       "    <tr>\n",
       "      <th>count</th>\n",
       "      <td>143887.000000</td>\n",
       "      <td>143420.000000</td>\n",
       "      <td>143887.000000</td>\n",
       "      <td>143887.000000</td>\n",
       "      <td>143887.000000</td>\n",
       "      <td>143887.000000</td>\n",
       "      <td>143887.000000</td>\n",
       "      <td>143887.000000</td>\n",
       "      <td>82706.000000</td>\n",
       "      <td>143887.000000</td>\n",
       "      <td>143887.000000</td>\n",
       "      <td>143114.000000</td>\n",
       "      <td>143067.000000</td>\n",
       "      <td>143298.000000</td>\n",
       "      <td>113897.000000</td>\n",
       "      <td>143145.000000</td>\n",
       "      <td>45438.000000</td>\n",
       "      <td>143750.000000</td>\n",
       "      <td>143296.000000</td>\n",
       "      <td>143887.000000</td>\n",
       "    </tr>\n",
       "    <tr>\n",
       "      <th>mean</th>\n",
       "      <td>0.532258</td>\n",
       "      <td>41.056889</td>\n",
       "      <td>1.968204</td>\n",
       "      <td>3.234239</td>\n",
       "      <td>0.643971</td>\n",
       "      <td>0.304843</td>\n",
       "      <td>0.708646</td>\n",
       "      <td>0.656001</td>\n",
       "      <td>0.260259</td>\n",
       "      <td>0.540563</td>\n",
       "      <td>0.525565</td>\n",
       "      <td>0.384421</td>\n",
       "      <td>0.193665</td>\n",
       "      <td>0.121097</td>\n",
       "      <td>0.134376</td>\n",
       "      <td>0.579545</td>\n",
       "      <td>0.917140</td>\n",
       "      <td>0.881357</td>\n",
       "      <td>0.704625</td>\n",
       "      <td>0.648856</td>\n",
       "    </tr>\n",
       "    <tr>\n",
       "      <th>std</th>\n",
       "      <td>0.498960</td>\n",
       "      <td>17.342777</td>\n",
       "      <td>0.723923</td>\n",
       "      <td>1.419803</td>\n",
       "      <td>0.478826</td>\n",
       "      <td>0.460343</td>\n",
       "      <td>0.454388</td>\n",
       "      <td>0.475042</td>\n",
       "      <td>0.438779</td>\n",
       "      <td>0.498354</td>\n",
       "      <td>0.499348</td>\n",
       "      <td>0.486460</td>\n",
       "      <td>0.395170</td>\n",
       "      <td>0.326241</td>\n",
       "      <td>0.341057</td>\n",
       "      <td>0.493634</td>\n",
       "      <td>0.275674</td>\n",
       "      <td>0.323370</td>\n",
       "      <td>0.456213</td>\n",
       "      <td>0.477329</td>\n",
       "    </tr>\n",
       "    <tr>\n",
       "      <th>min</th>\n",
       "      <td>0.000000</td>\n",
       "      <td>15.000000</td>\n",
       "      <td>1.000000</td>\n",
       "      <td>1.000000</td>\n",
       "      <td>0.000000</td>\n",
       "      <td>0.000000</td>\n",
       "      <td>0.000000</td>\n",
       "      <td>0.000000</td>\n",
       "      <td>0.000000</td>\n",
       "      <td>0.000000</td>\n",
       "      <td>0.000000</td>\n",
       "      <td>0.000000</td>\n",
       "      <td>0.000000</td>\n",
       "      <td>0.000000</td>\n",
       "      <td>0.000000</td>\n",
       "      <td>0.000000</td>\n",
       "      <td>0.000000</td>\n",
       "      <td>0.000000</td>\n",
       "      <td>0.000000</td>\n",
       "      <td>0.000000</td>\n",
       "    </tr>\n",
       "    <tr>\n",
       "      <th>25%</th>\n",
       "      <td>0.000000</td>\n",
       "      <td>27.000000</td>\n",
       "      <td>1.000000</td>\n",
       "      <td>2.000000</td>\n",
       "      <td>0.000000</td>\n",
       "      <td>0.000000</td>\n",
       "      <td>0.000000</td>\n",
       "      <td>0.000000</td>\n",
       "      <td>0.000000</td>\n",
       "      <td>0.000000</td>\n",
       "      <td>0.000000</td>\n",
       "      <td>0.000000</td>\n",
       "      <td>0.000000</td>\n",
       "      <td>0.000000</td>\n",
       "      <td>0.000000</td>\n",
       "      <td>0.000000</td>\n",
       "      <td>1.000000</td>\n",
       "      <td>1.000000</td>\n",
       "      <td>0.000000</td>\n",
       "      <td>0.000000</td>\n",
       "    </tr>\n",
       "    <tr>\n",
       "      <th>50%</th>\n",
       "      <td>1.000000</td>\n",
       "      <td>38.000000</td>\n",
       "      <td>2.000000</td>\n",
       "      <td>3.000000</td>\n",
       "      <td>1.000000</td>\n",
       "      <td>0.000000</td>\n",
       "      <td>1.000000</td>\n",
       "      <td>1.000000</td>\n",
       "      <td>0.000000</td>\n",
       "      <td>1.000000</td>\n",
       "      <td>1.000000</td>\n",
       "      <td>0.000000</td>\n",
       "      <td>0.000000</td>\n",
       "      <td>0.000000</td>\n",
       "      <td>0.000000</td>\n",
       "      <td>1.000000</td>\n",
       "      <td>1.000000</td>\n",
       "      <td>1.000000</td>\n",
       "      <td>1.000000</td>\n",
       "      <td>1.000000</td>\n",
       "    </tr>\n",
       "    <tr>\n",
       "      <th>75%</th>\n",
       "      <td>1.000000</td>\n",
       "      <td>54.000000</td>\n",
       "      <td>2.000000</td>\n",
       "      <td>5.000000</td>\n",
       "      <td>1.000000</td>\n",
       "      <td>1.000000</td>\n",
       "      <td>1.000000</td>\n",
       "      <td>1.000000</td>\n",
       "      <td>1.000000</td>\n",
       "      <td>1.000000</td>\n",
       "      <td>1.000000</td>\n",
       "      <td>1.000000</td>\n",
       "      <td>0.000000</td>\n",
       "      <td>0.000000</td>\n",
       "      <td>0.000000</td>\n",
       "      <td>1.000000</td>\n",
       "      <td>1.000000</td>\n",
       "      <td>1.000000</td>\n",
       "      <td>1.000000</td>\n",
       "      <td>1.000000</td>\n",
       "    </tr>\n",
       "    <tr>\n",
       "      <th>max</th>\n",
       "      <td>1.000000</td>\n",
       "      <td>99.000000</td>\n",
       "      <td>5.000000</td>\n",
       "      <td>5.000000</td>\n",
       "      <td>1.000000</td>\n",
       "      <td>1.000000</td>\n",
       "      <td>1.000000</td>\n",
       "      <td>1.000000</td>\n",
       "      <td>1.000000</td>\n",
       "      <td>1.000000</td>\n",
       "      <td>1.000000</td>\n",
       "      <td>1.000000</td>\n",
       "      <td>1.000000</td>\n",
       "      <td>1.000000</td>\n",
       "      <td>1.000000</td>\n",
       "      <td>1.000000</td>\n",
       "      <td>1.000000</td>\n",
       "      <td>1.000000</td>\n",
       "      <td>1.000000</td>\n",
       "      <td>1.000000</td>\n",
       "    </tr>\n",
       "  </tbody>\n",
       "</table>\n",
       "</div>"
      ],
      "text/plain": [
       "              female            age           educ          inc_q  \\\n",
       "count  143887.000000  143420.000000  143887.000000  143887.000000   \n",
       "mean        0.532258      41.056889       1.968204       3.234239   \n",
       "std         0.498960      17.342777       0.723923       1.419803   \n",
       "min         0.000000      15.000000       1.000000       1.000000   \n",
       "25%         0.000000      27.000000       1.000000       2.000000   \n",
       "50%         1.000000      38.000000       2.000000       3.000000   \n",
       "75%         1.000000      54.000000       2.000000       5.000000   \n",
       "max         1.000000      99.000000       5.000000       5.000000   \n",
       "\n",
       "              emp_in  urbanicity_f2f        account    account_fin  \\\n",
       "count  143887.000000   143887.000000  143887.000000  143887.000000   \n",
       "mean        0.643971        0.304843       0.708646       0.656001   \n",
       "std         0.478826        0.460343       0.454388       0.475042   \n",
       "min         0.000000        0.000000       0.000000       0.000000   \n",
       "25%         0.000000        0.000000       0.000000       0.000000   \n",
       "50%         1.000000        0.000000       1.000000       1.000000   \n",
       "75%         1.000000        1.000000       1.000000       1.000000   \n",
       "max         1.000000        1.000000       1.000000       1.000000   \n",
       "\n",
       "        account_mob          saved       borrowed  receive_wages  \\\n",
       "count  82706.000000  143887.000000  143887.000000  143114.000000   \n",
       "mean       0.260259       0.540563       0.525565       0.384421   \n",
       "std        0.438779       0.498354       0.499348       0.486460   \n",
       "min        0.000000       0.000000       0.000000       0.000000   \n",
       "25%        0.000000       0.000000       0.000000       0.000000   \n",
       "50%        0.000000       1.000000       1.000000       0.000000   \n",
       "75%        1.000000       1.000000       1.000000       1.000000   \n",
       "max        1.000000       1.000000       1.000000       1.000000   \n",
       "\n",
       "       receive_transfers  receive_pension  receive_agriculture  pay_utilities  \\\n",
       "count      143067.000000    143298.000000        113897.000000  143145.000000   \n",
       "mean            0.193665         0.121097             0.134376       0.579545   \n",
       "std             0.395170         0.326241             0.341057       0.493634   \n",
       "min             0.000000         0.000000             0.000000       0.000000   \n",
       "25%             0.000000         0.000000             0.000000       0.000000   \n",
       "50%             0.000000         0.000000             0.000000       1.000000   \n",
       "75%             0.000000         0.000000             0.000000       1.000000   \n",
       "max             1.000000         1.000000             1.000000       1.000000   \n",
       "\n",
       "        remittances    mobileowner  internetaccess  anydigpayment  \n",
       "count  45438.000000  143750.000000   143296.000000  143887.000000  \n",
       "mean       0.917140       0.881357        0.704625       0.648856  \n",
       "std        0.275674       0.323370        0.456213       0.477329  \n",
       "min        0.000000       0.000000        0.000000       0.000000  \n",
       "25%        1.000000       1.000000        0.000000       0.000000  \n",
       "50%        1.000000       1.000000        1.000000       1.000000  \n",
       "75%        1.000000       1.000000        1.000000       1.000000  \n",
       "max        1.000000       1.000000        1.000000       1.000000  "
      ]
     },
     "execution_count": 36,
     "metadata": {},
     "output_type": "execute_result"
    }
   ],
   "source": [
    "df_selected[['female', 'age', 'educ', 'inc_q', 'emp_in', 'urbanicity_f2f', 'account', 'account_fin', 'account_mob', 'saved', 'borrowed', 'receive_wages', 'receive_transfers', 'receive_pension', 'receive_agriculture', 'pay_utilities', 'remittances', 'mobileowner', 'internetaccess', 'anydigpayment']].describe()"
   ]
  },
  {
   "cell_type": "code",
   "execution_count": 37,
   "id": "1fedf490-a923-4780-ac73-3b045511860a",
   "metadata": {},
   "outputs": [
    {
     "data": {
      "text/html": [
       "<div>\n",
       "<style scoped>\n",
       "    .dataframe tbody tr th:only-of-type {\n",
       "        vertical-align: middle;\n",
       "    }\n",
       "\n",
       "    .dataframe tbody tr th {\n",
       "        vertical-align: top;\n",
       "    }\n",
       "\n",
       "    .dataframe thead th {\n",
       "        text-align: right;\n",
       "    }\n",
       "</style>\n",
       "<table border=\"1\" class=\"dataframe\">\n",
       "  <thead>\n",
       "    <tr style=\"text-align: right;\">\n",
       "      <th></th>\n",
       "      <th>merchantpay_dig</th>\n",
       "      <th>receive_wages_scaled</th>\n",
       "      <th>receive_transfers_scaled</th>\n",
       "      <th>receive_pension_scaled</th>\n",
       "      <th>receive_agriculture_scaled</th>\n",
       "      <th>pay_utilities_scaled</th>\n",
       "      <th>remittances_scaled</th>\n",
       "    </tr>\n",
       "  </thead>\n",
       "  <tbody>\n",
       "    <tr>\n",
       "      <th>count</th>\n",
       "      <td>114281.000000</td>\n",
       "      <td>140726.000000</td>\n",
       "      <td>138840.000000</td>\n",
       "      <td>140944.000000</td>\n",
       "      <td>112613.000000</td>\n",
       "      <td>136885.000000</td>\n",
       "      <td>37588.000000</td>\n",
       "    </tr>\n",
       "    <tr>\n",
       "      <th>mean</th>\n",
       "      <td>0.325032</td>\n",
       "      <td>0.669954</td>\n",
       "      <td>0.316069</td>\n",
       "      <td>0.200420</td>\n",
       "      <td>0.155710</td>\n",
       "      <td>0.902509</td>\n",
       "      <td>1.634671</td>\n",
       "    </tr>\n",
       "    <tr>\n",
       "      <th>std</th>\n",
       "      <td>0.468389</td>\n",
       "      <td>0.901710</td>\n",
       "      <td>0.714199</td>\n",
       "      <td>0.590134</td>\n",
       "      <td>0.440312</td>\n",
       "      <td>0.878850</td>\n",
       "      <td>0.657423</td>\n",
       "    </tr>\n",
       "    <tr>\n",
       "      <th>min</th>\n",
       "      <td>0.000000</td>\n",
       "      <td>0.000000</td>\n",
       "      <td>0.000000</td>\n",
       "      <td>0.000000</td>\n",
       "      <td>0.000000</td>\n",
       "      <td>0.000000</td>\n",
       "      <td>0.000000</td>\n",
       "    </tr>\n",
       "    <tr>\n",
       "      <th>25%</th>\n",
       "      <td>0.000000</td>\n",
       "      <td>0.000000</td>\n",
       "      <td>0.000000</td>\n",
       "      <td>0.000000</td>\n",
       "      <td>0.000000</td>\n",
       "      <td>0.000000</td>\n",
       "      <td>1.000000</td>\n",
       "    </tr>\n",
       "    <tr>\n",
       "      <th>50%</th>\n",
       "      <td>0.000000</td>\n",
       "      <td>0.000000</td>\n",
       "      <td>0.000000</td>\n",
       "      <td>0.000000</td>\n",
       "      <td>0.000000</td>\n",
       "      <td>1.000000</td>\n",
       "      <td>2.000000</td>\n",
       "    </tr>\n",
       "    <tr>\n",
       "      <th>75%</th>\n",
       "      <td>1.000000</td>\n",
       "      <td>2.000000</td>\n",
       "      <td>0.000000</td>\n",
       "      <td>0.000000</td>\n",
       "      <td>0.000000</td>\n",
       "      <td>2.000000</td>\n",
       "      <td>2.000000</td>\n",
       "    </tr>\n",
       "    <tr>\n",
       "      <th>max</th>\n",
       "      <td>1.000000</td>\n",
       "      <td>2.000000</td>\n",
       "      <td>2.000000</td>\n",
       "      <td>2.000000</td>\n",
       "      <td>2.000000</td>\n",
       "      <td>2.000000</td>\n",
       "      <td>2.000000</td>\n",
       "    </tr>\n",
       "  </tbody>\n",
       "</table>\n",
       "</div>"
      ],
      "text/plain": [
       "       merchantpay_dig  receive_wages_scaled  receive_transfers_scaled  \\\n",
       "count    114281.000000         140726.000000             138840.000000   \n",
       "mean          0.325032              0.669954                  0.316069   \n",
       "std           0.468389              0.901710                  0.714199   \n",
       "min           0.000000              0.000000                  0.000000   \n",
       "25%           0.000000              0.000000                  0.000000   \n",
       "50%           0.000000              0.000000                  0.000000   \n",
       "75%           1.000000              2.000000                  0.000000   \n",
       "max           1.000000              2.000000                  2.000000   \n",
       "\n",
       "       receive_pension_scaled  receive_agriculture_scaled  \\\n",
       "count           140944.000000               112613.000000   \n",
       "mean                 0.200420                    0.155710   \n",
       "std                  0.590134                    0.440312   \n",
       "min                  0.000000                    0.000000   \n",
       "25%                  0.000000                    0.000000   \n",
       "50%                  0.000000                    0.000000   \n",
       "75%                  0.000000                    0.000000   \n",
       "max                  2.000000                    2.000000   \n",
       "\n",
       "       pay_utilities_scaled  remittances_scaled  \n",
       "count         136885.000000        37588.000000  \n",
       "mean               0.902509            1.634671  \n",
       "std                0.878850            0.657423  \n",
       "min                0.000000            0.000000  \n",
       "25%                0.000000            1.000000  \n",
       "50%                1.000000            2.000000  \n",
       "75%                2.000000            2.000000  \n",
       "max                2.000000            2.000000  "
      ]
     },
     "execution_count": 37,
     "metadata": {},
     "output_type": "execute_result"
    }
   ],
   "source": [
    "df_selected[['merchantpay_dig','receive_wages_scaled', 'receive_transfers_scaled','receive_pension_scaled','receive_agriculture_scaled','pay_utilities_scaled', 'remittances_scaled' ]].describe()"
   ]
  },
  {
   "cell_type": "code",
   "execution_count": 38,
   "id": "73cf3d03-5231-436a-a6c6-620d420f71fc",
   "metadata": {},
   "outputs": [
    {
     "data": {
      "text/html": [
       "<div>\n",
       "<style scoped>\n",
       "    .dataframe tbody tr th:only-of-type {\n",
       "        vertical-align: middle;\n",
       "    }\n",
       "\n",
       "    .dataframe tbody tr th {\n",
       "        vertical-align: top;\n",
       "    }\n",
       "\n",
       "    .dataframe thead th {\n",
       "        text-align: right;\n",
       "    }\n",
       "</style>\n",
       "<table border=\"1\" class=\"dataframe\">\n",
       "  <thead>\n",
       "    <tr style=\"text-align: right;\">\n",
       "      <th></th>\n",
       "      <th>fin2</th>\n",
       "      <th>fin4</th>\n",
       "      <th>fin5</th>\n",
       "      <th>fin6</th>\n",
       "      <th>fin7</th>\n",
       "      <th>fin8</th>\n",
       "      <th>fin9</th>\n",
       "      <th>fin10</th>\n",
       "      <th>fin13a</th>\n",
       "    </tr>\n",
       "  </thead>\n",
       "  <tbody>\n",
       "    <tr>\n",
       "      <th>count</th>\n",
       "      <td>142816.000000</td>\n",
       "      <td>72811.000000</td>\n",
       "      <td>88782.000000</td>\n",
       "      <td>88807.000000</td>\n",
       "      <td>88619.000000</td>\n",
       "      <td>32569.000000</td>\n",
       "      <td>88556.000000</td>\n",
       "      <td>88534.000000</td>\n",
       "      <td>17634.000000</td>\n",
       "    </tr>\n",
       "    <tr>\n",
       "      <th>mean</th>\n",
       "      <td>0.510762</td>\n",
       "      <td>0.744214</td>\n",
       "      <td>0.585231</td>\n",
       "      <td>0.645636</td>\n",
       "      <td>0.368251</td>\n",
       "      <td>0.830391</td>\n",
       "      <td>0.786463</td>\n",
       "      <td>0.801760</td>\n",
       "      <td>0.741692</td>\n",
       "    </tr>\n",
       "    <tr>\n",
       "      <th>std</th>\n",
       "      <td>0.499886</td>\n",
       "      <td>0.436305</td>\n",
       "      <td>0.492685</td>\n",
       "      <td>0.478323</td>\n",
       "      <td>0.482333</td>\n",
       "      <td>0.375295</td>\n",
       "      <td>0.409806</td>\n",
       "      <td>0.398676</td>\n",
       "      <td>0.437717</td>\n",
       "    </tr>\n",
       "    <tr>\n",
       "      <th>min</th>\n",
       "      <td>0.000000</td>\n",
       "      <td>0.000000</td>\n",
       "      <td>0.000000</td>\n",
       "      <td>0.000000</td>\n",
       "      <td>0.000000</td>\n",
       "      <td>0.000000</td>\n",
       "      <td>0.000000</td>\n",
       "      <td>0.000000</td>\n",
       "      <td>0.000000</td>\n",
       "    </tr>\n",
       "    <tr>\n",
       "      <th>25%</th>\n",
       "      <td>0.000000</td>\n",
       "      <td>0.000000</td>\n",
       "      <td>0.000000</td>\n",
       "      <td>0.000000</td>\n",
       "      <td>0.000000</td>\n",
       "      <td>1.000000</td>\n",
       "      <td>1.000000</td>\n",
       "      <td>1.000000</td>\n",
       "      <td>0.000000</td>\n",
       "    </tr>\n",
       "    <tr>\n",
       "      <th>50%</th>\n",
       "      <td>1.000000</td>\n",
       "      <td>1.000000</td>\n",
       "      <td>1.000000</td>\n",
       "      <td>1.000000</td>\n",
       "      <td>0.000000</td>\n",
       "      <td>1.000000</td>\n",
       "      <td>1.000000</td>\n",
       "      <td>1.000000</td>\n",
       "      <td>1.000000</td>\n",
       "    </tr>\n",
       "    <tr>\n",
       "      <th>75%</th>\n",
       "      <td>1.000000</td>\n",
       "      <td>1.000000</td>\n",
       "      <td>1.000000</td>\n",
       "      <td>1.000000</td>\n",
       "      <td>1.000000</td>\n",
       "      <td>1.000000</td>\n",
       "      <td>1.000000</td>\n",
       "      <td>1.000000</td>\n",
       "      <td>1.000000</td>\n",
       "    </tr>\n",
       "    <tr>\n",
       "      <th>max</th>\n",
       "      <td>1.000000</td>\n",
       "      <td>1.000000</td>\n",
       "      <td>1.000000</td>\n",
       "      <td>1.000000</td>\n",
       "      <td>1.000000</td>\n",
       "      <td>1.000000</td>\n",
       "      <td>1.000000</td>\n",
       "      <td>1.000000</td>\n",
       "      <td>1.000000</td>\n",
       "    </tr>\n",
       "  </tbody>\n",
       "</table>\n",
       "</div>"
      ],
      "text/plain": [
       "                fin2          fin4          fin5          fin6          fin7  \\\n",
       "count  142816.000000  72811.000000  88782.000000  88807.000000  88619.000000   \n",
       "mean        0.510762      0.744214      0.585231      0.645636      0.368251   \n",
       "std         0.499886      0.436305      0.492685      0.478323      0.482333   \n",
       "min         0.000000      0.000000      0.000000      0.000000      0.000000   \n",
       "25%         0.000000      0.000000      0.000000      0.000000      0.000000   \n",
       "50%         1.000000      1.000000      1.000000      1.000000      0.000000   \n",
       "75%         1.000000      1.000000      1.000000      1.000000      1.000000   \n",
       "max         1.000000      1.000000      1.000000      1.000000      1.000000   \n",
       "\n",
       "               fin8          fin9         fin10        fin13a  \n",
       "count  32569.000000  88556.000000  88534.000000  17634.000000  \n",
       "mean       0.830391      0.786463      0.801760      0.741692  \n",
       "std        0.375295      0.409806      0.398676      0.437717  \n",
       "min        0.000000      0.000000      0.000000      0.000000  \n",
       "25%        1.000000      1.000000      1.000000      0.000000  \n",
       "50%        1.000000      1.000000      1.000000      1.000000  \n",
       "75%        1.000000      1.000000      1.000000      1.000000  \n",
       "max        1.000000      1.000000      1.000000      1.000000  "
      ]
     },
     "execution_count": 38,
     "metadata": {},
     "output_type": "execute_result"
    }
   ],
   "source": [
    "df_selected[['fin2', 'fin4', 'fin5', 'fin6', 'fin7', 'fin8', 'fin9', 'fin10', 'fin13a']].describe()"
   ]
  },
  {
   "cell_type": "code",
   "execution_count": 39,
   "id": "228fcd07-59b1-4838-9fb3-6d6d1962acd9",
   "metadata": {},
   "outputs": [
    {
     "data": {
      "text/html": [
       "<div>\n",
       "<style scoped>\n",
       "    .dataframe tbody tr th:only-of-type {\n",
       "        vertical-align: middle;\n",
       "    }\n",
       "\n",
       "    .dataframe tbody tr th {\n",
       "        vertical-align: top;\n",
       "    }\n",
       "\n",
       "    .dataframe thead th {\n",
       "        text-align: right;\n",
       "    }\n",
       "</style>\n",
       "<table border=\"1\" class=\"dataframe\">\n",
       "  <thead>\n",
       "    <tr style=\"text-align: right;\">\n",
       "      <th></th>\n",
       "      <th>educ_1</th>\n",
       "      <th>educ_2</th>\n",
       "      <th>educ_3</th>\n",
       "      <th>inc_q_1</th>\n",
       "      <th>inc_q_2</th>\n",
       "      <th>inc_q_3</th>\n",
       "      <th>inc_q_4</th>\n",
       "      <th>inc_q_5</th>\n",
       "    </tr>\n",
       "  </thead>\n",
       "  <tbody>\n",
       "    <tr>\n",
       "      <th>count</th>\n",
       "      <td>143132.000000</td>\n",
       "      <td>143132.000000</td>\n",
       "      <td>143132.000000</td>\n",
       "      <td>143887.000000</td>\n",
       "      <td>143887.000000</td>\n",
       "      <td>143887.000000</td>\n",
       "      <td>143887.000000</td>\n",
       "      <td>143887.000000</td>\n",
       "    </tr>\n",
       "    <tr>\n",
       "      <th>mean</th>\n",
       "      <td>0.269597</td>\n",
       "      <td>0.505834</td>\n",
       "      <td>0.224569</td>\n",
       "      <td>0.162301</td>\n",
       "      <td>0.172913</td>\n",
       "      <td>0.191442</td>\n",
       "      <td>0.214933</td>\n",
       "      <td>0.258411</td>\n",
       "    </tr>\n",
       "    <tr>\n",
       "      <th>std</th>\n",
       "      <td>0.443752</td>\n",
       "      <td>0.499968</td>\n",
       "      <td>0.417300</td>\n",
       "      <td>0.368728</td>\n",
       "      <td>0.378174</td>\n",
       "      <td>0.393437</td>\n",
       "      <td>0.410777</td>\n",
       "      <td>0.437763</td>\n",
       "    </tr>\n",
       "    <tr>\n",
       "      <th>min</th>\n",
       "      <td>0.000000</td>\n",
       "      <td>0.000000</td>\n",
       "      <td>0.000000</td>\n",
       "      <td>0.000000</td>\n",
       "      <td>0.000000</td>\n",
       "      <td>0.000000</td>\n",
       "      <td>0.000000</td>\n",
       "      <td>0.000000</td>\n",
       "    </tr>\n",
       "    <tr>\n",
       "      <th>25%</th>\n",
       "      <td>0.000000</td>\n",
       "      <td>0.000000</td>\n",
       "      <td>0.000000</td>\n",
       "      <td>0.000000</td>\n",
       "      <td>0.000000</td>\n",
       "      <td>0.000000</td>\n",
       "      <td>0.000000</td>\n",
       "      <td>0.000000</td>\n",
       "    </tr>\n",
       "    <tr>\n",
       "      <th>50%</th>\n",
       "      <td>0.000000</td>\n",
       "      <td>1.000000</td>\n",
       "      <td>0.000000</td>\n",
       "      <td>0.000000</td>\n",
       "      <td>0.000000</td>\n",
       "      <td>0.000000</td>\n",
       "      <td>0.000000</td>\n",
       "      <td>0.000000</td>\n",
       "    </tr>\n",
       "    <tr>\n",
       "      <th>75%</th>\n",
       "      <td>1.000000</td>\n",
       "      <td>1.000000</td>\n",
       "      <td>0.000000</td>\n",
       "      <td>0.000000</td>\n",
       "      <td>0.000000</td>\n",
       "      <td>0.000000</td>\n",
       "      <td>0.000000</td>\n",
       "      <td>1.000000</td>\n",
       "    </tr>\n",
       "    <tr>\n",
       "      <th>max</th>\n",
       "      <td>1.000000</td>\n",
       "      <td>1.000000</td>\n",
       "      <td>1.000000</td>\n",
       "      <td>1.000000</td>\n",
       "      <td>1.000000</td>\n",
       "      <td>1.000000</td>\n",
       "      <td>1.000000</td>\n",
       "      <td>1.000000</td>\n",
       "    </tr>\n",
       "  </tbody>\n",
       "</table>\n",
       "</div>"
      ],
      "text/plain": [
       "              educ_1         educ_2         educ_3        inc_q_1  \\\n",
       "count  143132.000000  143132.000000  143132.000000  143887.000000   \n",
       "mean        0.269597       0.505834       0.224569       0.162301   \n",
       "std         0.443752       0.499968       0.417300       0.368728   \n",
       "min         0.000000       0.000000       0.000000       0.000000   \n",
       "25%         0.000000       0.000000       0.000000       0.000000   \n",
       "50%         0.000000       1.000000       0.000000       0.000000   \n",
       "75%         1.000000       1.000000       0.000000       0.000000   \n",
       "max         1.000000       1.000000       1.000000       1.000000   \n",
       "\n",
       "             inc_q_2        inc_q_3        inc_q_4        inc_q_5  \n",
       "count  143887.000000  143887.000000  143887.000000  143887.000000  \n",
       "mean        0.172913       0.191442       0.214933       0.258411  \n",
       "std         0.378174       0.393437       0.410777       0.437763  \n",
       "min         0.000000       0.000000       0.000000       0.000000  \n",
       "25%         0.000000       0.000000       0.000000       0.000000  \n",
       "50%         0.000000       0.000000       0.000000       0.000000  \n",
       "75%         0.000000       0.000000       0.000000       1.000000  \n",
       "max         1.000000       1.000000       1.000000       1.000000  "
      ]
     },
     "execution_count": 39,
     "metadata": {},
     "output_type": "execute_result"
    }
   ],
   "source": [
    "# educ, economycode and income one hot encodes \n",
    "df_selected[['educ_1', 'educ_2', 'educ_3', 'inc_q_1', 'inc_q_2', 'inc_q_3', 'inc_q_4', 'inc_q_5']].describe()"
   ]
  },
  {
   "cell_type": "code",
   "execution_count": 40,
   "id": "c6bdd0e3-207a-405e-becc-9e0eca271826",
   "metadata": {},
   "outputs": [
    {
     "name": "stdout",
     "output_type": "stream",
     "text": [
      "| economycode   |   proportion |\n",
      "|:--------------|-------------:|\n",
      "| CHN           |     2.43246  |\n",
      "| IND           |     2.08497  |\n",
      "| RUS           |     1.39762  |\n",
      "| IDN           |     0.738079 |\n",
      "| LSO           |     0.712365 |\n",
      "| LBN           |     0.71028  |\n",
      "| GAB           |     0.70889  |\n",
      "| CYP           |     0.708195 |\n",
      "| SAU           |     0.708195 |\n",
      "| THA           |     0.706805 |\n",
      "| ZAF           |     0.70472  |\n",
      "| BEL           |     0.70333  |\n",
      "| IRQ           |     0.70333  |\n",
      "| KOR           |     0.702635 |\n",
      "| JPN           |     0.70194  |\n",
      "| LTU           |     0.701245 |\n",
      "| JOR           |     0.701245 |\n",
      "| AZE           |     0.70055  |\n",
      "| USA           |     0.699855 |\n",
      "| CAN           |     0.699855 |\n",
      "| NIC           |     0.699855 |\n",
      "| SWE           |     0.69916  |\n",
      "| LVA           |     0.69916  |\n",
      "| SVK           |     0.698465 |\n",
      "| CZE           |     0.698465 |\n",
      "| LKA           |     0.698465 |\n",
      "| IRN           |     0.698465 |\n",
      "| BGR           |     0.698465 |\n",
      "| HUN           |     0.697075 |\n",
      "| HKG           |     0.697075 |\n",
      "| GRC           |     0.697075 |\n",
      "| MKD           |     0.697075 |\n",
      "| ARG           |     0.697075 |\n",
      "| EGY           |     0.697075 |\n",
      "| PAN           |     0.69638  |\n",
      "| PAK           |     0.69638  |\n",
      "| PRT           |     0.69638  |\n",
      "| AFG           |     0.69638  |\n",
      "| DZA           |     0.69638  |\n",
      "| BRA           |     0.69638  |\n",
      "| SLV           |     0.69638  |\n",
      "| DNK           |     0.69638  |\n",
      "| EST           |     0.695685 |\n",
      "| HRV           |     0.695685 |\n",
      "| NOR           |     0.695685 |\n",
      "| UKR           |     0.695685 |\n",
      "| ROU           |     0.695685 |\n",
      "| TZA           |     0.695685 |\n",
      "| CRI           |     0.695685 |\n",
      "| POL           |     0.695685 |\n",
      "| SRB           |     0.695685 |\n",
      "| SLE           |     0.695685 |\n",
      "| SSD           |     0.695685 |\n",
      "| SEN           |     0.69499  |\n",
      "| NER           |     0.69499  |\n",
      "| VNM           |     0.69499  |\n",
      "| PSE           |     0.69499  |\n",
      "| YEM           |     0.69499  |\n",
      "| ZMB           |     0.69499  |\n",
      "| NGA           |     0.69499  |\n",
      "| ESP           |     0.69499  |\n",
      "| UZB           |     0.69499  |\n",
      "| NZL           |     0.69499  |\n",
      "| NLD           |     0.69499  |\n",
      "| NPL           |     0.69499  |\n",
      "| NAM           |     0.69499  |\n",
      "| MMR           |     0.69499  |\n",
      "| VEN           |     0.69499  |\n",
      "| PRY           |     0.69499  |\n",
      "| URY           |     0.69499  |\n",
      "| TJK           |     0.69499  |\n",
      "| MAR           |     0.69499  |\n",
      "| PER           |     0.69499  |\n",
      "| PHL           |     0.69499  |\n",
      "| GBR           |     0.69499  |\n",
      "| ARE           |     0.69499  |\n",
      "| CHE           |     0.69499  |\n",
      "| SVN           |     0.69499  |\n",
      "| TWN           |     0.69499  |\n",
      "| UGA           |     0.69499  |\n",
      "| TUR           |     0.69499  |\n",
      "| TUN           |     0.69499  |\n",
      "| TGO           |     0.69499  |\n",
      "| SGP           |     0.69499  |\n",
      "| MOZ           |     0.69499  |\n",
      "| LAO           |     0.69499  |\n",
      "| MNG           |     0.69499  |\n",
      "| GMB           |     0.69499  |\n",
      "| FIN           |     0.69499  |\n",
      "| ETH           |     0.69499  |\n",
      "| SWZ           |     0.69499  |\n",
      "| ECU           |     0.69499  |\n",
      "| DOM           |     0.69499  |\n",
      "| CIV           |     0.69499  |\n",
      "| COG           |     0.69499  |\n",
      "| COD           |     0.69499  |\n",
      "| COM           |     0.69499  |\n",
      "| COL           |     0.69499  |\n",
      "| CHL           |     0.69499  |\n",
      "| TCD           |     0.69499  |\n",
      "| CMR           |     0.69499  |\n",
      "| KHM           |     0.69499  |\n",
      "| BFA           |     0.69499  |\n",
      "| BWA           |     0.69499  |\n",
      "| BIH           |     0.69499  |\n",
      "| BOL           |     0.69499  |\n",
      "| BEN           |     0.69499  |\n",
      "| BGD           |     0.69499  |\n",
      "| AUT           |     0.69499  |\n",
      "| AUS           |     0.69499  |\n",
      "| ARM           |     0.69499  |\n",
      "| FRA           |     0.69499  |\n",
      "| GEO           |     0.69499  |\n",
      "| MDA           |     0.69499  |\n",
      "| DEU           |     0.69499  |\n",
      "| MEX           |     0.69499  |\n",
      "| MUS           |     0.69499  |\n",
      "| MRT           |     0.69499  |\n",
      "| MLT           |     0.69499  |\n",
      "| MLI           |     0.69499  |\n",
      "| MYS           |     0.69499  |\n",
      "| MWI           |     0.69499  |\n",
      "| MDG           |     0.69499  |\n",
      "| LBR           |     0.69499  |\n",
      "| ALB           |     0.69499  |\n",
      "| KGZ           |     0.69499  |\n",
      "| XKX           |     0.69499  |\n",
      "| KEN           |     0.69499  |\n",
      "| KAZ           |     0.69499  |\n",
      "| ITA           |     0.69499  |\n",
      "| ISR           |     0.69499  |\n",
      "| IRL           |     0.69499  |\n",
      "| HND           |     0.69499  |\n",
      "| GIN           |     0.69499  |\n",
      "| GTM           |     0.69499  |\n",
      "| GHA           |     0.69499  |\n",
      "| ZWE           |     0.69499  |\n",
      "| JAM           |     0.348885 |\n",
      "| ISL           |     0.348885 |\n"
     ]
    }
   ],
   "source": [
    "percentage_breakdown = df_selected['economycode'].value_counts(normalize=True) * 100\n",
    "print(percentage_breakdown.to_markdown())"
   ]
  },
  {
   "cell_type": "markdown",
   "id": "f5553406-8879-4c21-bbce-ef2751d32113",
   "metadata": {},
   "source": [
    "# Using Lasso and Ridge to Fine-Tune OLS\n"
   ]
  },
  {
   "cell_type": "code",
   "execution_count": 51,
   "id": "7f462544-ec20-4405-b549-c9dde1f2d600",
   "metadata": {},
   "outputs": [],
   "source": [
    "chosen_variables = ['age', 'female', 'educ_1', 'educ_2', 'educ_3', 'inc_q_1', 'inc_q_2', 'inc_q_3', 'inc_q_4', 'inc_q_5', 'account_fin', 'account_mob', 'receive_wages', 'anydigpayment', 'fin4', 'internetaccess', 'fin13a', 'wgt']"
   ]
  },
  {
   "cell_type": "code",
   "execution_count": 3,
   "id": "1b14af6d-1f9d-4bc0-874b-1cea58949981",
   "metadata": {},
   "outputs": [],
   "source": [
    "df = pd.read_csv(\"microdata_cleaned.csv\", index_col=0)"
   ]
  },
  {
   "cell_type": "code",
   "execution_count": 52,
   "id": "1409e805-a0dc-40c7-abba-7b6b32c1200b",
   "metadata": {},
   "outputs": [],
   "source": [
    "df_selected = df[chosen_variables].copy()"
   ]
  },
  {
   "cell_type": "code",
   "execution_count": 53,
   "id": "a6d6e7a0-3dac-4a87-aef5-40b1b1cd5ab1",
   "metadata": {},
   "outputs": [],
   "source": [
    "df_selected.dropna(inplace=True)"
   ]
  },
  {
   "cell_type": "code",
   "execution_count": 54,
   "id": "24da32cf-150e-40a7-8eb5-f46551cadee7",
   "metadata": {},
   "outputs": [
    {
     "data": {
      "text/plain": [
       "(7502, 18)"
      ]
     },
     "execution_count": 54,
     "metadata": {},
     "output_type": "execute_result"
    }
   ],
   "source": [
    "df_selected.shape"
   ]
  },
  {
   "cell_type": "code",
   "execution_count": 56,
   "id": "5a516512",
   "metadata": {},
   "outputs": [],
   "source": [
    "y=df_selected['fin13a']\n",
    "X=df_selected.drop(columns=['fin13a', 'wgt', 'educ_1', 'inc_q_1'])\n",
    "X_train, X_test, y_train, y_test = train_test_split(X, y, test_size=0.1, random_state=1680,stratify=y)"
   ]
  },
  {
   "cell_type": "code",
   "execution_count": 57,
   "id": "a425cdaa-42ca-4b5b-af71-d7e8fa373ee9",
   "metadata": {},
   "outputs": [],
   "source": [
    "weights_train = df_selected.loc[X_train.index, 'wgt']"
   ]
  },
  {
   "cell_type": "markdown",
   "id": "f096406b",
   "metadata": {},
   "source": [
    "#### OLS Regression"
   ]
  },
  {
   "cell_type": "code",
   "execution_count": 58,
   "id": "eb964d5d",
   "metadata": {},
   "outputs": [
    {
     "name": "stdout",
     "output_type": "stream",
     "text": [
      "                            OLS Regression Results                            \n",
      "==============================================================================\n",
      "Dep. Variable:                 fin13a   R-squared:                      -0.193\n",
      "Model:                            OLS   Adj. R-squared:                 -0.195\n",
      "Method:                 Least Squares   F-statistic:                    -99.26\n",
      "Date:                Sun, 05 May 2024   Prob (F-statistic):               1.00\n",
      "Time:                        15:19:05   Log-Likelihood:                -3510.6\n",
      "No. Observations:                6751   AIC:                             7045.\n",
      "Df Residuals:                    6739   BIC:                             7127.\n",
      "Df Model:                          11                                         \n",
      "Covariance Type:            nonrobust                                         \n",
      "==================================================================================\n",
      "                     coef    std err          t      P>|t|      [0.025      0.975]\n",
      "----------------------------------------------------------------------------------\n",
      "age               -0.0008      0.000     -1.875      0.061      -0.002    3.57e-05\n",
      "female            -0.0250      0.010     -2.473      0.013      -0.045      -0.005\n",
      "educ_2             0.0190      0.019      1.001      0.317      -0.018       0.056\n",
      "educ_3             0.0142      0.021      0.693      0.488      -0.026       0.054\n",
      "inc_q_2           -0.0018      0.025     -0.073      0.942      -0.052       0.048\n",
      "inc_q_3            0.0093      0.023      0.397      0.692      -0.037       0.055\n",
      "inc_q_4            0.0465      0.022      2.129      0.033       0.004       0.089\n",
      "inc_q_5            0.0774      0.021      3.744      0.000       0.037       0.118\n",
      "account_fin        0.2361      0.011     21.728      0.000       0.215       0.257\n",
      "account_mob        0.2361      0.011     21.728      0.000       0.215       0.257\n",
      "receive_wages      0.0335      0.010      3.222      0.001       0.013       0.054\n",
      "anydigpayment      0.2361      0.011     21.728      0.000       0.215       0.257\n",
      "fin4               0.0174      0.011      1.624      0.104      -0.004       0.038\n",
      "internetaccess     0.0220      0.018      1.228      0.219      -0.013       0.057\n",
      "==============================================================================\n",
      "Omnibus:                     1258.888   Durbin-Watson:                   2.039\n",
      "Prob(Omnibus):                  0.000   Jarque-Bera (JB):             2130.042\n",
      "Skew:                          -1.376   Prob(JB):                         0.00\n",
      "Kurtosis:                       2.968   Cond. No.                     5.46e+19\n",
      "==============================================================================\n",
      "\n",
      "Notes:\n",
      "[1] Standard Errors assume that the covariance matrix of the errors is correctly specified.\n",
      "[2] The smallest eigenvalue is 3.06e-33. This might indicate that there are\n",
      "strong multicollinearity problems or that the design matrix is singular.\n"
     ]
    },
    {
     "name": "stderr",
     "output_type": "stream",
     "text": [
      "C:\\Users\\Nadya\\anaconda3\\envs\\ECON1680\\lib\\site-packages\\statsmodels\\regression\\linear_model.py:921: ValueWarning: Weights are not supported in OLS and will be ignoredAn exception will be raised in the next version.\n",
      "  warnings.warn(msg, ValueWarning)\n",
      "C:\\Users\\Nadya\\anaconda3\\envs\\ECON1680\\lib\\site-packages\\statsmodels\\base\\model.py:130: ValueWarning: unknown kwargs ['weights']\n",
      "  warnings.warn(msg, ValueWarning)\n"
     ]
    }
   ],
   "source": [
    "ols_result = sm.OLS(y_train, X_train, weights=weights_train).fit()\n",
    "print(ols_result.summary())"
   ]
  },
  {
   "cell_type": "markdown",
   "id": "9c4e805d",
   "metadata": {},
   "source": [
    "#### LASSO regression "
   ]
  },
  {
   "cell_type": "code",
   "execution_count": 59,
   "id": "2ee2733c-5a38-4107-9eb8-ff714569ca84",
   "metadata": {},
   "outputs": [
    {
     "name": "stdout",
     "output_type": "stream",
     "text": [
      "Best Lasso Alpha: 1e-06\n"
     ]
    }
   ],
   "source": [
    "# Construct vector of alpha values\n",
    "alphas = np.linspace(1e-6, 1, num=100)\n",
    "\n",
    "# Construct vectors to store mean prediction errors and coefficients\n",
    "cv_errs = []\n",
    "coefs = []\n",
    "MSE = float('inf')\n",
    "best_lasso_alpha = 0\n",
    "\n",
    "# Loop for running Lasso regression for different values of alpha\n",
    "for a in alphas:\n",
    "    # Define pipeline object\n",
    "    lassoReg = make_pipeline(StandardScaler(with_mean=False), Lasso(alpha=a))\n",
    "    \n",
    "    # Run Lasso regression\n",
    "    lassoReg.fit(X_train, y_train, lasso__sample_weight=weights_train)\n",
    "    \n",
    "    # Obtain predicted values of output\n",
    "    y_pred = lassoReg.predict(X_test)\n",
    "    \n",
    "    # Compute mean squared error\n",
    "    cv_errs.append(mean_squared_error(y_test, y_pred))\n",
    "    \n",
    "    # Store coefficients\n",
    "    coefs.append(lassoReg['lasso'].coef_)\n",
    "    \n",
    "    # Store value of alpha that minimizes the mean squared error\n",
    "    if mean_squared_error(y_test, y_pred) < MSE:\n",
    "        MSE = mean_squared_error(y_test, y_pred)\n",
    "        best_lasso_alpha = a\n",
    "\n",
    "print(\"Best Lasso Alpha:\", best_lasso_alpha)"
   ]
  },
  {
   "cell_type": "code",
   "execution_count": 60,
   "id": "a42eb414-5866-49ee-be64-2998dd3ebd29",
   "metadata": {},
   "outputs": [
    {
     "data": {
      "text/plain": [
       "Text(0, 0.5, 'Mean Squared Error')"
      ]
     },
     "execution_count": 60,
     "metadata": {},
     "output_type": "execute_result"
    },
    {
     "data": {
      "image/png": "[encoded data removed]",
      "text/plain": [
       "<Figure size 432x288 with 1 Axes>"
      ]
     },
     "metadata": {
      "needs_background": "light"
     },
     "output_type": "display_data"
    }
   ],
   "source": [
    "# Plot the MSE against the values of alphas\n",
    "plt.plot(alphas, cv_errs, '*')\n",
    "plt.xlabel(r'$\\alpha$')\n",
    "plt.ylabel('Mean Squared Error')"
   ]
  },
  {
   "cell_type": "markdown",
   "id": "4db1ef90",
   "metadata": {},
   "source": [
    "#### Ridge Regression - searching for optimal alpha "
   ]
  },
  {
   "cell_type": "code",
   "execution_count": 61,
   "id": "3cb30753",
   "metadata": {},
   "outputs": [
    {
     "name": "stdout",
     "output_type": "stream",
     "text": [
      "0.19191999999999998\n"
     ]
    }
   ],
   "source": [
    "# Construct vector of alpha values\n",
    "alphas = np.linspace(1e-6, 1, num=100)\n",
    "\n",
    "# Construct vectors to store mean prediction errors and coefficients\n",
    "cv_errs = []\n",
    "coefs = []\n",
    "MSE = 10\n",
    "best_ridge_alpha = 0\n",
    "\n",
    "# Loop for running ridge regression for different values of alpha\n",
    "for a in alphas:\n",
    "    \n",
    "    # define pipeline object\n",
    "    ridgeReg = make_pipeline(StandardScaler(with_mean=False), Ridge(alpha= a * X_train.shape[0]))\n",
    "    # run Ridge regression\n",
    "    ridgeReg.fit(X_train, y_train, ridge__sample_weight=weights_train)\n",
    "    # obtain predicted values of output\n",
    "    y_pred = ridgeReg.predict(X_test)\n",
    "    # compute mean squared error\n",
    "    cv_errs.append(mean_squared_error(y_test, y_pred))\n",
    "    # store coefficients\n",
    "    coefs.append(ridgeReg['ridge'].coef_)\n",
    "    \n",
    "    # store value of alpha that minimizes the mean squared error\n",
    "    if mean_squared_error(y_test, y_pred) < MSE: #np.mean((y_pred - y_test)**2)\n",
    "        MSE = mean_squared_error(y_test, y_pred)\n",
    "        best_ridge_alpha = a\n",
    "        \n",
    "print(best_ridge_alpha)\n",
    "    \n",
    "# Create dataframe for storing coefficients\n",
    "coefs = pd.DataFrame(coefs, columns=X.columns)\n",
    "coefs.set_index(alphas, inplace=True)"
   ]
  },
  {
   "cell_type": "code",
   "execution_count": 62,
   "id": "9837dada",
   "metadata": {},
   "outputs": [
    {
     "data": {
      "text/plain": [
       "Text(0, 0.5, 'Mean Squared Error')"
      ]
     },
     "execution_count": 62,
     "metadata": {},
     "output_type": "execute_result"
    },
    {
     "data": {
      "image/png": "[encoded data removed]",
      "text/plain": [
       "<Figure size 432x288 with 1 Axes>"
      ]
     },
     "metadata": {
      "needs_background": "light"
     },
     "output_type": "display_data"
    }
   ],
   "source": [
    "# Plot the MSE against the values of alphas\n",
    "plt.plot(alphas, cv_errs, '*')\n",
    "plt.xlabel(r'$\\alpha$')\n",
    "plt.ylabel('Mean Squared Error')"
   ]
  },
  {
   "cell_type": "markdown",
   "id": "fceb94f7",
   "metadata": {},
   "source": [
    "#### Comparing Regression Outputs\n"
   ]
  },
  {
   "cell_type": "code",
   "execution_count": 63,
   "id": "92d16f53",
   "metadata": {},
   "outputs": [
    {
     "data": {
      "text/html": [
       "<style>#sk-container-id-4 {color: black;background-color: white;}#sk-container-id-4 pre{padding: 0;}#sk-container-id-4 div.sk-toggleable {background-color: white;}#sk-container-id-4 label.sk-toggleable__label {cursor: pointer;display: block;width: 100%;margin-bottom: 0;padding: 0.3em;box-sizing: border-box;text-align: center;}#sk-container-id-4 label.sk-toggleable__label-arrow:before {content: \"▸\";float: left;margin-right: 0.25em;color: #696969;}#sk-container-id-4 label.sk-toggleable__label-arrow:hover:before {color: black;}#sk-container-id-4 div.sk-estimator:hover label.sk-toggleable__label-arrow:before {color: black;}#sk-container-id-4 div.sk-toggleable__content {max-height: 0;max-width: 0;overflow: hidden;text-align: left;background-color: #f0f8ff;}#sk-container-id-4 div.sk-toggleable__content pre {margin: 0.2em;color: black;border-radius: 0.25em;background-color: #f0f8ff;}#sk-container-id-4 input.sk-toggleable__control:checked~div.sk-toggleable__content {max-height: 200px;max-width: 100%;overflow: auto;}#sk-container-id-4 input.sk-toggleable__control:checked~label.sk-toggleable__label-arrow:before {content: \"▾\";}#sk-container-id-4 div.sk-estimator input.sk-toggleable__control:checked~label.sk-toggleable__label {background-color: #d4ebff;}#sk-container-id-4 div.sk-label input.sk-toggleable__control:checked~label.sk-toggleable__label {background-color: #d4ebff;}#sk-container-id-4 input.sk-hidden--visually {border: 0;clip: rect(1px 1px 1px 1px);clip: rect(1px, 1px, 1px, 1px);height: 1px;margin: -1px;overflow: hidden;padding: 0;position: absolute;width: 1px;}#sk-container-id-4 div.sk-estimator {font-family: monospace;background-color: #f0f8ff;border: 1px dotted black;border-radius: 0.25em;box-sizing: border-box;margin-bottom: 0.5em;}#sk-container-id-4 div.sk-estimator:hover {background-color: #d4ebff;}#sk-container-id-4 div.sk-parallel-item::after {content: \"\";width: 100%;border-bottom: 1px solid gray;flex-grow: 1;}#sk-container-id-4 div.sk-label:hover label.sk-toggleable__label {background-color: #d4ebff;}#sk-container-id-4 div.sk-serial::before {content: \"\";position: absolute;border-left: 1px solid gray;box-sizing: border-box;top: 0;bottom: 0;left: 50%;z-index: 0;}#sk-container-id-4 div.sk-serial {display: flex;flex-direction: column;align-items: center;background-color: white;padding-right: 0.2em;padding-left: 0.2em;position: relative;}#sk-container-id-4 div.sk-item {position: relative;z-index: 1;}#sk-container-id-4 div.sk-parallel {display: flex;align-items: stretch;justify-content: center;background-color: white;position: relative;}#sk-container-id-4 div.sk-item::before, #sk-container-id-4 div.sk-parallel-item::before {content: \"\";position: absolute;border-left: 1px solid gray;box-sizing: border-box;top: 0;bottom: 0;left: 50%;z-index: -1;}#sk-container-id-4 div.sk-parallel-item {display: flex;flex-direction: column;z-index: 1;position: relative;background-color: white;}#sk-container-id-4 div.sk-parallel-item:first-child::after {align-self: flex-end;width: 50%;}#sk-container-id-4 div.sk-parallel-item:last-child::after {align-self: flex-start;width: 50%;}#sk-container-id-4 div.sk-parallel-item:only-child::after {width: 0;}#sk-container-id-4 div.sk-dashed-wrapped {border: 1px dashed gray;margin: 0 0.4em 0.5em 0.4em;box-sizing: border-box;padding-bottom: 0.4em;background-color: white;}#sk-container-id-4 div.sk-label label {font-family: monospace;font-weight: bold;display: inline-block;line-height: 1.2em;}#sk-container-id-4 div.sk-label-container {text-align: center;}#sk-container-id-4 div.sk-container {/* jupyter's `normalize.less` sets `[hidden] { display: none; }` but bootstrap.min.css set `[hidden] { display: none !important; }` so we also need the `!important` here to be able to override the default hidden behavior on the sphinx rendered scikit-learn.org. See: https://github.com/scikit-learn/scikit-learn/issues/21755 */display: inline-block !important;position: relative;}#sk-container-id-4 div.sk-text-repr-fallback {display: none;}</style><div id=\"sk-container-id-4\" class=\"sk-top-container\"><div class=\"sk-text-repr-fallback\"><pre>Pipeline(steps=[(&#x27;standardscaler&#x27;, StandardScaler(with_mean=False)),\n",
       "                (&#x27;ridge&#x27;, Ridge(alpha=15.76900493012796))])</pre><b>In a Jupyter environment, please rerun this cell to show the HTML representation or trust the notebook. <br />On GitHub, the HTML representation is unable to render, please try loading this page with nbviewer.org.</b></div><div class=\"sk-container\" hidden><div class=\"sk-item sk-dashed-wrapped\"><div class=\"sk-label-container\"><div class=\"sk-label sk-toggleable\"><input class=\"sk-toggleable__control sk-hidden--visually\" id=\"sk-estimator-id-10\" type=\"checkbox\" ><label for=\"sk-estimator-id-10\" class=\"sk-toggleable__label sk-toggleable__label-arrow\">Pipeline</label><div class=\"sk-toggleable__content\"><pre>Pipeline(steps=[(&#x27;standardscaler&#x27;, StandardScaler(with_mean=False)),\n",
       "                (&#x27;ridge&#x27;, Ridge(alpha=15.76900493012796))])</pre></div></div></div><div class=\"sk-serial\"><div class=\"sk-item\"><div class=\"sk-estimator sk-toggleable\"><input class=\"sk-toggleable__control sk-hidden--visually\" id=\"sk-estimator-id-11\" type=\"checkbox\" ><label for=\"sk-estimator-id-11\" class=\"sk-toggleable__label sk-toggleable__label-arrow\">StandardScaler</label><div class=\"sk-toggleable__content\"><pre>StandardScaler(with_mean=False)</pre></div></div></div><div class=\"sk-item\"><div class=\"sk-estimator sk-toggleable\"><input class=\"sk-toggleable__control sk-hidden--visually\" id=\"sk-estimator-id-12\" type=\"checkbox\" ><label for=\"sk-estimator-id-12\" class=\"sk-toggleable__label sk-toggleable__label-arrow\">Ridge</label><div class=\"sk-toggleable__content\"><pre>Ridge(alpha=15.76900493012796)</pre></div></div></div></div></div></div></div>"
      ],
      "text/plain": [
       "Pipeline(steps=[('standardscaler', StandardScaler(with_mean=False)),\n",
       "                ('ridge', Ridge(alpha=15.76900493012796))])"
      ]
     },
     "execution_count": 63,
     "metadata": {},
     "output_type": "execute_result"
    }
   ],
   "source": [
    "alpha = best_lasso_alpha\n",
    "lassoReg = make_pipeline(StandardScaler(with_mean=False), Lasso(alpha= alpha * np.sqrt(X_train.shape[0])))\n",
    "lassoReg.fit(X_train, y_train)\n",
    "\n",
    "alpha = best_ridge_alpha\n",
    "ridgeReg = make_pipeline(StandardScaler(with_mean=False), Ridge(alpha= alpha * np.sqrt(X_train.shape[0])))\n",
    "ridgeReg.fit(X_train, y_train)"
   ]
  },
  {
   "cell_type": "code",
   "execution_count": 64,
   "id": "7246c594",
   "metadata": {},
   "outputs": [],
   "source": [
    "coef_comp=pd.DataFrame({'var':X.columns, 'val_ols':ols_result.params.tolist(), 'val_lasso':lassoReg[-1].coef_, 'var_ridge':ridgeReg[-1].coef_})"
   ]
  },
  {
   "cell_type": "code",
   "execution_count": 65,
   "id": "a67d6953",
   "metadata": {},
   "outputs": [
    {
     "name": "stdout",
     "output_type": "stream",
     "text": [
      "|    | var            |      val_ols |    val_lasso |    var_ridge |\n",
      "|---:|:---------------|-------------:|-------------:|-------------:|\n",
      "|  0 | age            | -0.000789365 | -0.00940477  | -0.00944807  |\n",
      "|  1 | female         | -0.0249553   | -0.0122961   | -0.0123471   |\n",
      "|  2 | educ_2         |  0.0189897   |  0.00891624  |  0.00927748  |\n",
      "|  3 | educ_3         |  0.0142184   |  0.00626437  |  0.00663328  |\n",
      "|  4 | inc_q_2        | -0.00184433  | -0.000786643 | -0.000788531 |\n",
      "|  5 | inc_q_3        |  0.00930028  |  0.00268213  |  0.00281752  |\n",
      "|  6 | inc_q_4        |  0.0464941   |  0.0189218   |  0.019022    |\n",
      "|  7 | inc_q_5        |  0.0774411   |  0.0381258   |  0.0381883   |\n",
      "|  8 | account_fin    |  0.236098    |  0           |  0           |\n",
      "|  9 | account_mob    |  0.236098    |  0           |  0           |\n",
      "| 10 | receive_wages  |  0.0335015   |  0.0163996   |  0.0164076   |\n",
      "| 11 | anydigpayment  |  0.236098    |  0           |  0           |\n",
      "| 12 | fin4           |  0.0174061   |  0.00814084  |  0.00818084  |\n",
      "| 13 | internetaccess |  0.0220101   |  0.00649195  |  0.00648887  |\n"
     ]
    }
   ],
   "source": [
    "print(coef_comp.to_markdown())\n"
   ]
  },
  {
   "cell_type": "code",
   "execution_count": 66,
   "id": "ab7a106e-2414-48d9-b7a3-8a0863d95aeb",
   "metadata": {},
   "outputs": [
    {
     "name": "stdout",
     "output_type": "stream",
     "text": [
      "\\begin{tabular}{llrrr}\n",
      "\\toprule\n",
      " & var & val_ols & val_lasso & var_ridge \\\\\n",
      "\\midrule\n",
      "0 & age & -0.000789 & -0.009405 & -0.009448 \\\\\n",
      "1 & female & -0.024955 & -0.012296 & -0.012347 \\\\\n",
      "2 & educ_2 & 0.018990 & 0.008916 & 0.009277 \\\\\n",
      "3 & educ_3 & 0.014218 & 0.006264 & 0.006633 \\\\\n",
      "4 & inc_q_2 & -0.001844 & -0.000787 & -0.000789 \\\\\n",
      "5 & inc_q_3 & 0.009300 & 0.002682 & 0.002818 \\\\\n",
      "6 & inc_q_4 & 0.046494 & 0.018922 & 0.019022 \\\\\n",
      "7 & inc_q_5 & 0.077441 & 0.038126 & 0.038188 \\\\\n",
      "8 & account_fin & 0.236098 & 0.000000 & 0.000000 \\\\\n",
      "9 & account_mob & 0.236098 & 0.000000 & 0.000000 \\\\\n",
      "10 & receive_wages & 0.033502 & 0.016400 & 0.016408 \\\\\n",
      "11 & anydigpayment & 0.236098 & 0.000000 & 0.000000 \\\\\n",
      "12 & fin4 & 0.017406 & 0.008141 & 0.008181 \\\\\n",
      "13 & internetaccess & 0.022010 & 0.006492 & 0.006489 \\\\\n",
      "\\bottomrule\n",
      "\\end{tabular}\n",
      "\n"
     ]
    }
   ],
   "source": [
    "print(coef_comp.to_latex())"
   ]
  },
  {
   "cell_type": "markdown",
   "id": "7a8d7153-6fb1-4698-83d2-984d971e9512",
   "metadata": {},
   "source": [
    "### Use findings to refine OLS model and test accuracy"
   ]
  },
  {
   "cell_type": "code",
   "execution_count": 67,
   "id": "ee49efbf-ee14-4ecd-8323-673976694992",
   "metadata": {},
   "outputs": [],
   "source": [
    "y=df_selected['fin13a']\n",
    "X=df_selected.drop(columns=['fin13a', 'wgt', 'educ_1', 'inc_q_1', 'account_fin', 'account_mob', 'anydigpayment'])\n",
    "X_train, X_test, y_train, y_test = train_test_split(X, y, test_size=0.1, random_state=1680,stratify=y)"
   ]
  },
  {
   "cell_type": "code",
   "execution_count": 68,
   "id": "21a99d36-dc49-4128-81bc-98a206c851ab",
   "metadata": {},
   "outputs": [],
   "source": [
    "weights_train = df_selected.loc[X_train.index, 'wgt']"
   ]
  },
  {
   "cell_type": "code",
   "execution_count": 69,
   "id": "cc1dbd5a-f363-4ae4-a2f0-8c88b7edd870",
   "metadata": {},
   "outputs": [
    {
     "name": "stdout",
     "output_type": "stream",
     "text": [
      "                                 OLS Regression Results                                \n",
      "=======================================================================================\n",
      "Dep. Variable:                 fin13a   R-squared (uncentered):                   0.775\n",
      "Model:                            OLS   Adj. R-squared (uncentered):              0.774\n",
      "Method:                 Least Squares   F-statistic:                              2107.\n",
      "Date:                Sun, 05 May 2024   Prob (F-statistic):                        0.00\n",
      "Time:                        15:20:07   Log-Likelihood:                         -3739.2\n",
      "No. Observations:                6751   AIC:                                      7500.\n",
      "Df Residuals:                    6740   BIC:                                      7575.\n",
      "Df Model:                          11                                                  \n",
      "Covariance Type:            nonrobust                                                  \n",
      "==================================================================================\n",
      "                     coef    std err          t      P>|t|      [0.025      0.975]\n",
      "----------------------------------------------------------------------------------\n",
      "age                0.0040      0.000     10.765      0.000       0.003       0.005\n",
      "female             0.0189      0.010      1.844      0.065      -0.001       0.039\n",
      "educ_2             0.1898      0.018     10.625      0.000       0.155       0.225\n",
      "educ_3             0.1490      0.020      7.365      0.000       0.109       0.189\n",
      "inc_q_2            0.2326      0.024      9.794      0.000       0.186       0.279\n",
      "inc_q_3            0.2363      0.022     10.881      0.000       0.194       0.279\n",
      "inc_q_4            0.2600      0.020     12.891      0.000       0.220       0.300\n",
      "inc_q_5            0.2843      0.019     14.965      0.000       0.247       0.322\n",
      "receive_wages      0.0525      0.011      4.900      0.000       0.032       0.074\n",
      "fin4               0.0422      0.011      3.827      0.000       0.021       0.064\n",
      "internetaccess     0.1716      0.017     10.027      0.000       0.138       0.205\n",
      "==============================================================================\n",
      "Omnibus:                     1052.286   Durbin-Watson:                   2.048\n",
      "Prob(Omnibus):                  0.000   Jarque-Bera (JB):             1637.342\n",
      "Skew:                          -1.206   Prob(JB):                         0.00\n",
      "Kurtosis:                       3.061   Cond. No.                         268.\n",
      "==============================================================================\n",
      "\n",
      "Notes:\n",
      "[1] R² is computed without centering (uncentered) since the model does not contain a constant.\n",
      "[2] Standard Errors assume that the covariance matrix of the errors is correctly specified.\n"
     ]
    },
    {
     "name": "stderr",
     "output_type": "stream",
     "text": [
      "C:\\Users\\Nadya\\anaconda3\\envs\\ECON1680\\lib\\site-packages\\statsmodels\\regression\\linear_model.py:921: ValueWarning: Weights are not supported in OLS and will be ignoredAn exception will be raised in the next version.\n",
      "  warnings.warn(msg, ValueWarning)\n",
      "C:\\Users\\Nadya\\anaconda3\\envs\\ECON1680\\lib\\site-packages\\statsmodels\\base\\model.py:130: ValueWarning: unknown kwargs ['weights']\n",
      "  warnings.warn(msg, ValueWarning)\n"
     ]
    }
   ],
   "source": [
    "ols_result = sm.OLS(y_train, X_train, weights=weights_train).fit()\n",
    "print(ols_result.summary())"
   ]
  },
  {
   "cell_type": "code",
   "execution_count": 70,
   "id": "25919075-ebfb-4290-bf87-34d551f00f51",
   "metadata": {},
   "outputs": [
    {
     "name": "stdout",
     "output_type": "stream",
     "text": [
      "R-squared: 0.7747196858939716\n"
     ]
    }
   ],
   "source": [
    "# Get predictions on the test set\n",
    "y_pred = ols_result.predict(X_test)\n",
    "\n",
    "# Calculate R-squared\n",
    "r_squared = ols_result.rsquared\n",
    "print(\"R-squared:\", r_squared)"
   ]
  },
  {
   "cell_type": "code",
   "execution_count": 71,
   "id": "51857157-6106-48b4-b22f-f95c1ed87661",
   "metadata": {},
   "outputs": [
    {
     "name": "stdout",
     "output_type": "stream",
     "text": [
      "Mean Squared Error (MSE): 0.17313375250228505\n"
     ]
    }
   ],
   "source": [
    "from sklearn.metrics import mean_squared_error\n",
    "\n",
    "# Get predictions on the test set\n",
    "y_pred = ols_result.predict(X_test)\n",
    "\n",
    "# Calculate Mean Squared Error (MSE)\n",
    "mse = mean_squared_error(y_test, y_pred)\n",
    "print(\"Mean Squared Error (MSE):\", mse)"
   ]
  },
  {
   "cell_type": "code",
   "execution_count": 72,
   "id": "0e7a5775-594c-4ccb-bdd4-1ea1fe2f3301",
   "metadata": {},
   "outputs": [
    {
     "name": "stdout",
     "output_type": "stream",
     "text": [
      "Accuracy of OLS Regression: 0.7749667110519307\n"
     ]
    }
   ],
   "source": [
    "# Binarize the predicted values (assuming a threshold of 0.5)\n",
    "y_pred_binary = (y_pred >= 0.5).astype(int)\n",
    "\n",
    "# Binarize the actual values\n",
    "y_test_binary = (y_test >= 0.5).astype(int)\n",
    "\n",
    "# Calculate accuracy\n",
    "accuracy = (y_pred_binary == y_test_binary).mean()\n",
    "print(\"Accuracy of OLS Regression:\", accuracy)"
   ]
  },
  {
   "cell_type": "code",
   "execution_count": 73,
   "id": "1f4d316b-5b43-47b2-a109-2ee806ce1b47",
   "metadata": {},
   "outputs": [
    {
     "data": {
      "image/png": "[encoded data removed]",
      "text/plain": [
       "<Figure size 432x432 with 1 Axes>"
      ]
     },
     "metadata": {
      "needs_background": "light"
     },
     "output_type": "display_data"
    }
   ],
   "source": [
    "from sklearn.metrics import confusion_matrix\n",
    "import seaborn as sns\n",
    "\n",
    "# Binarize the predicted values (assuming a threshold of 0.5)\n",
    "y_pred_binary = (y_pred >= 0.5).astype(int)\n",
    "\n",
    "# Create confusion matrix\n",
    "conf_matrix = confusion_matrix(y_test_binary, y_pred_binary)\n",
    "\n",
    "# Plot confusion matrix\n",
    "plt.figure(figsize=(6, 6))\n",
    "sns.heatmap(conf_matrix, annot=True, fmt='d', cmap='Blues', cbar=False, square=True,\n",
    "            xticklabels=['Predicted Negative', 'Predicted Positive'],\n",
    "            yticklabels=['Actual Negative', 'Actual Positive'])\n",
    "plt.xlabel('Predicted label')\n",
    "plt.ylabel('Actual label')\n",
    "plt.title('Confusion Matrix (OLS Regression)')\n",
    "plt.show()\n"
   ]
  },
  {
   "cell_type": "markdown",
   "id": "c95bad48-4df8-481e-abc2-e3e6b47c4c87",
   "metadata": {},
   "source": [
    "# Trying Non-Linear Models: Hist Gradient Boost"
   ]
  },
  {
   "cell_type": "code",
   "execution_count": 87,
   "id": "89ffcf79-c86a-44f4-a12f-faff6d81b951",
   "metadata": {},
   "outputs": [],
   "source": [
    "chosen_variables = ['female', 'age', 'emp_in', 'urbanicity_f2f', 'account', 'account_fin', 'account_mob', 'saved', 'borrowed', 'receive_wages', 'receive_transfers', 'receive_pension', 'receive_agriculture', 'pay_utilities', 'remittances', 'mobileowner', 'internetaccess', 'anydigpayment', 'merchantpay_dig', 'fin2', 'fin4', 'fin5', 'fin6', 'fin7', 'fin8', 'fin9', 'fin10', 'fin13a', 'educ_1', 'educ_2', 'educ_3', 'inc_q_1', 'inc_q_2', 'inc_q_3', 'inc_q_4', 'inc_q_5', 'wgt']"
   ]
  },
  {
   "cell_type": "code",
   "execution_count": 10,
   "id": "83f49089-fe64-421b-b42e-f427679dc0fc",
   "metadata": {},
   "outputs": [],
   "source": [
    "df = pd.read_csv(\"microdata_cleaned.csv\", index_col=0)"
   ]
  },
  {
   "cell_type": "code",
   "execution_count": 88,
   "id": "ac1990d2-accd-4802-bd39-a1b554a2dbab",
   "metadata": {},
   "outputs": [],
   "source": [
    "df_selected = df[chosen_variables].copy()"
   ]
  },
  {
   "cell_type": "code",
   "execution_count": 89,
   "id": "c9fb2eaf-81b4-4241-9d62-08fa181ac748",
   "metadata": {},
   "outputs": [],
   "source": [
    "df_selected.dropna(subset=['fin13a'], inplace=True)"
   ]
  },
  {
   "cell_type": "code",
   "execution_count": 90,
   "id": "f939afc7-189b-4740-b155-60e09d1f6a84",
   "metadata": {},
   "outputs": [],
   "source": [
    "y=df_selected['fin13a']\n",
    "X=df_selected.drop(columns=['fin13a', 'wgt', 'educ_1', 'inc_q_1'])\n",
    "X_train, X_test, y_train, y_test = train_test_split(X, y, test_size=0.1, random_state=1680,stratify=y)"
   ]
  },
  {
   "cell_type": "code",
   "execution_count": 91,
   "id": "95bf2642-cf9b-495c-ae93-758200b0cbaa",
   "metadata": {},
   "outputs": [],
   "source": [
    "weights_train = df_selected.loc[X_train.index, 'wgt']"
   ]
  },
  {
   "cell_type": "code",
   "execution_count": 92,
   "id": "1f386f11-d9de-4a93-af30-88f9d453364e",
   "metadata": {},
   "outputs": [],
   "source": [
    "from sklearn.experimental import enable_hist_gradient_boosting  # noqa\n",
    "from sklearn.ensemble import HistGradientBoostingClassifier"
   ]
  },
  {
   "cell_type": "code",
   "execution_count": 93,
   "id": "bc53b118-acf1-43dc-bb4b-49aa00238e30",
   "metadata": {},
   "outputs": [
    {
     "name": "stdout",
     "output_type": "stream",
     "text": [
      "HistGradientBoosting Classifier Accuracy: 0.7426303854875284\n"
     ]
    }
   ],
   "source": [
    "# Initialize HistGradientBoostingClassifier\n",
    "hist_gb_classifier = HistGradientBoostingClassifier()\n",
    "\n",
    "# Train the model\n",
    "hist_gb_classifier.fit(X_train, y_train, sample_weight=weights_train)\n",
    "\n",
    "# Predict on the test set\n",
    "hist_gb_predictions = hist_gb_classifier.predict(X_test)\n",
    "\n",
    "# Calculate accuracy\n",
    "hist_gb_accuracy = accuracy_score(y_test, hist_gb_predictions)\n",
    "print(\"HistGradientBoosting Classifier Accuracy:\", hist_gb_accuracy)\n"
   ]
  },
  {
   "cell_type": "code",
   "execution_count": 94,
   "id": "e5f8d3ad-4445-4673-b12e-f2b98ac001c6",
   "metadata": {},
   "outputs": [
    {
     "name": "stdout",
     "output_type": "stream",
     "text": [
      "Most Predictive Features (HistGradientBoosting):\n",
      "remittances: 0.0056689342403628325\n",
      "inc_q_5: 0.003401360544217691\n",
      "inc_q_4: 0.002097505668934252\n",
      "age: -0.0020408163265306033\n",
      "fin6: 0.001984126984126999\n",
      "internetaccess: -0.0015873015873015706\n",
      "merchantpay_dig: 0.0013605442176870652\n",
      "saved: 0.001303854875283461\n",
      "pay_utilities: -0.0012471655328798238\n",
      "fin2: 0.0012471655328798125\n",
      "emp_in: -0.0011904761904761641\n",
      "receive_transfers: -0.0011904761904761641\n",
      "educ_2: -0.00113378684807256\n",
      "account_fin: -0.0010770975056689225\n",
      "female: -0.0010204081632652962\n",
      "inc_q_3: -0.000850340136054395\n",
      "fin5: 0.0007936507936508131\n",
      "urbanicity_f2f: -0.0007936507936507908\n",
      "receive_agriculture: -0.0006802721088435271\n",
      "mobileowner: -0.0006235827664398897\n",
      "educ_3: 0.0004535147392290328\n",
      "fin10: 0.00034013605442176906\n",
      "fin4: 0.000340136054421758\n",
      "receive_wages: -0.00028344671201813165\n",
      "fin9: -0.00022675736961450533\n",
      "fin7: -0.00011337868480725266\n",
      "receive_pension: -0.00011337868480725266\n",
      "borrowed: 5.668934240364854e-05\n",
      "inc_q_2: 5.668934240363743e-05\n",
      "account: 0.0\n",
      "account_mob: 0.0\n",
      "fin8: 0.0\n",
      "anydigpayment: 0.0\n"
     ]
    }
   ],
   "source": [
    "from sklearn.inspection import permutation_importance\n",
    "\n",
    "# Compute permutation importances\n",
    "result = permutation_importance(hist_gb_classifier, X_test, y_test, n_repeats=10, random_state=42, n_jobs=-1)\n",
    "\n",
    "# Get sorted feature importances by absolute value\n",
    "sorted_idx = np.argsort(np.abs(result.importances_mean))[::-1]\n",
    "\n",
    "# Print the most predictive features\n",
    "print(\"Most Predictive Features (HistGradientBoosting):\")\n",
    "for idx in sorted_idx:\n",
    "    print(f\"{X.columns[idx]}: {result.importances_mean[idx]}\")\n"
   ]
  },
  {
   "cell_type": "code",
   "execution_count": 95,
   "id": "5715eb0c-44f9-45c1-8444-2a38ba982ae7",
   "metadata": {},
   "outputs": [
    {
     "data": {
      "image/png": "[encoded data removed]",
      "text/plain": [
       "<Figure size 432x432 with 1 Axes>"
      ]
     },
     "metadata": {
      "needs_background": "light"
     },
     "output_type": "display_data"
    }
   ],
   "source": [
    "# Create confusion matrix\n",
    "conf_matrix_gb = confusion_matrix(y_test, hist_gb_predictions)\n",
    "\n",
    "# Plot confusion matrix\n",
    "plt.figure(figsize=(6, 6))\n",
    "sns.heatmap(conf_matrix_gb, annot=True, fmt='d', cmap='Blues', cbar=False, square=True,\n",
    "            xticklabels=['Predicted Negative', 'Predicted Positive'],\n",
    "            yticklabels=['Actual Negative', 'Actual Positive'])\n",
    "plt.xlabel('Predicted label')\n",
    "plt.ylabel('Actual label')\n",
    "plt.title('Confusion Matrix (HistGradientBoosting Classifier)')\n",
    "plt.show()\n"
   ]
  }
 ],
 "metadata": {
  "kernelspec": {
   "display_name": "Python 3 (ipykernel)",
   "language": "python",
   "name": "python3"
  },
  "language_info": {
   "codemirror_mode": {
    "name": "ipython",
    "version": 3
   },
   "file_extension": ".py",
   "mimetype": "text/x-python",
   "name": "python",
   "nbconvert_exporter": "python",
   "pygments_lexer": "ipython3",
   "version": "3.9.18"
  },
  "vscode": {
   "interpreter": {
    "hash": "ff6ebcde2956354653a1bfc837161093b4abe74b5e977ba193ed76204ade37d4"
   }
  }
 },
 "nbformat": 4,
 "nbformat_minor": 5
}
