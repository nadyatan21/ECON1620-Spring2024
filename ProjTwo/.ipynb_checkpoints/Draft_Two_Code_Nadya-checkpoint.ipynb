{
 "cells": [
  {
   "cell_type": "markdown",
   "id": "375a9416-b88d-459e-9e66-e32ef5428d2f",
   "metadata": {},
   "source": [
    "# Project Two Code "
   ]
  },
  {
   "cell_type": "code",
   "execution_count": 1,
   "id": "f48c5e26-2bda-435b-9c53-445976c4e13e",
   "metadata": {},
   "outputs": [
    {
     "name": "stderr",
     "output_type": "stream",
     "text": [
      "C:\\Users\\Nadya\\anaconda3\\envs\\ECON1680\\lib\\site-packages\\tqdm\\auto.py:21: TqdmWarning: IProgress not found. Please update jupyter and ipywidgets. See https://ipywidgets.readthedocs.io/en/stable/user_install.html\n",
      "  from .autonotebook import tqdm as notebook_tqdm\n"
     ]
    }
   ],
   "source": [
    "import numpy as np\n",
    "import nltk\n",
    "from nltk.corpus import stopwords\n",
    "import pandas as pd\n",
    "import matplotlib.pyplot as plt\n",
    "from collections import Counter\n",
    "from itertools import chain\n",
    "from sklearn.feature_extraction.text import TfidfVectorizer\n",
    "from sklearn.metrics.pairwise import cosine_similarity\n",
    "from fuzzywuzzy import fuzz\n",
    "from sklearn.linear_model import LogisticRegression\n",
    "from transformers import pipeline"
   ]
  },
  {
   "cell_type": "markdown",
   "id": "c9150fb2-f050-4eb7-a408-5eaeebc6d90b",
   "metadata": {},
   "source": [
    "## Web Scraping NYT Articles Using NYT API "
   ]
  },
  {
   "cell_type": "code",
   "execution_count": 2,
   "id": "3bab9bd0-99ee-4234-859c-978f05aa6aad",
   "metadata": {},
   "outputs": [],
   "source": [
    "import requests as req\n",
    "import time\n",
    "API_KEY='9kiWZKsGFtTkcTD4yYkyxWAKehiTKkzR' # your API key"
   ]
  },
  {
   "cell_type": "code",
   "execution_count": null,
   "id": "e1c46765-09a2-47ad-adc6-189df9448dfd",
   "metadata": {},
   "outputs": [],
   "source": []
  }
 ],
 "metadata": {
  "kernelspec": {
   "display_name": "Python 3 (ipykernel)",
   "language": "python",
   "name": "python3"
  },
  "language_info": {
   "codemirror_mode": {
    "name": "ipython",
    "version": 3
   },
   "file_extension": ".py",
   "mimetype": "text/x-python",
   "name": "python",
   "nbconvert_exporter": "python",
   "pygments_lexer": "ipython3",
   "version": "3.9.18"
  }
 },
 "nbformat": 4,
 "nbformat_minor": 5
}
