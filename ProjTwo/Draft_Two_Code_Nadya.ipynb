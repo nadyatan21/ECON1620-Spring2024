{
 "cells": [
  {
   "cell_type": "markdown",
   "id": "375a9416-b88d-459e-9e66-e32ef5428d2f",
   "metadata": {},
   "source": [
    "# Project Two Code "
   ]
  },
  {
   "cell_type": "code",
   "execution_count": 1,
   "id": "f48c5e26-2bda-435b-9c53-445976c4e13e",
   "metadata": {},
   "outputs": [
    {
     "name": "stderr",
     "output_type": "stream",
     "text": [
      "C:\\Users\\Nadya\\anaconda3\\envs\\ECON1680\\lib\\site-packages\\tqdm\\auto.py:21: TqdmWarning: IProgress not found. Please update jupyter and ipywidgets. See https://ipywidgets.readthedocs.io/en/stable/user_install.html\n",
      "  from .autonotebook import tqdm as notebook_tqdm\n"
     ]
    }
   ],
   "source": [
    "import numpy as np\n",
    "import nltk\n",
    "from nltk.corpus import stopwords\n",
    "import pandas as pd\n",
    "import matplotlib.pyplot as plt\n",
    "from collections import Counter\n",
    "from itertools import chain\n",
    "from sklearn.feature_extraction.text import TfidfVectorizer\n",
    "from sklearn.metrics.pairwise import cosine_similarity\n",
    "from fuzzywuzzy import fuzz\n",
    "from sklearn.linear_model import LogisticRegression\n",
    "from transformers import pipeline"
   ]
  },
  {
   "cell_type": "markdown",
   "id": "c9150fb2-f050-4eb7-a408-5eaeebc6d90b",
   "metadata": {},
   "source": [
    "## Web Scraping NYT Articles Using NYT API "
   ]
  },
  {
   "cell_type": "code",
   "execution_count": 2,
   "id": "3bab9bd0-99ee-4234-859c-978f05aa6aad",
   "metadata": {},
   "outputs": [],
   "source": [
    "import requests as req\n",
    "import time\n",
    "API_KEY='9kiWZKsGFtTkcTD4yYkyxWAKehiTKkzR' # your API key"
   ]
  },
  {
   "cell_type": "code",
   "execution_count": 3,
   "id": "e9428f44-a152-47be-9191-7807c7f237fa",
   "metadata": {},
   "outputs": [
    {
     "name": "stdout",
     "output_type": "stream",
     "text": [
      "No response while processing page 3 for 2020-02-01 - 2020-02-29: 'response'\n",
      "No response while processing page 4 for 2020-04-01 - 2020-04-30: 'response'\n",
      "No response while processing page 5 for 2020-07-01 - 2020-07-31: 'response'\n",
      "No response while processing page 1 for 2020-11-01 - 2020-11-30: 'response'\n",
      "No response while processing page 2 for 2021-01-01 - 2021-01-31: 'response'\n",
      "No response while processing page 3 for 2021-04-01 - 2021-04-30: 'response'\n",
      "No response while processing page 4 for 2021-06-01 - 2021-06-30: 'response'\n",
      "No response while processing page 5 for 2021-09-01 - 2021-09-30: 'response'\n",
      "No response while processing page 1 for 2022-01-01 - 2022-01-31: 'response'\n",
      "No response while processing page 2 for 2022-03-01 - 2022-03-31: 'response'\n",
      "No response while processing page 3 for 2022-06-01 - 2022-06-30: 'response'\n",
      "No response while processing page 4 for 2022-08-01 - 2022-08-31: 'response'\n",
      "No response while processing page 5 for 2022-11-01 - 2022-11-30: 'response'\n",
      "No response while processing page 1 for 2023-02-01 - 2023-02-28: 'response'\n",
      "No response while processing page 2 for 2023-05-01 - 2023-05-31: 'response'\n",
      "No response while processing page 3 for 2023-09-01 - 2023-09-30: 'response'\n",
      "No response while processing page 3 for 2023-10-01 - 2023-10-31: 'response'\n",
      "No response while processing page 4 for 2023-10-01 - 2023-10-31: 'response'\n",
      "No response while processing page 5 for 2023-10-01 - 2023-10-31: 'response'\n",
      "No response while processing page 1 for 2023-11-01 - 2023-11-30: 'response'\n",
      "No response while processing page 2 for 2023-11-01 - 2023-11-30: 'response'\n",
      "No response while processing page 3 for 2023-11-01 - 2023-11-30: 'response'\n",
      "No response while processing page 4 for 2023-11-01 - 2023-11-30: 'response'\n",
      "No response while processing page 5 for 2023-11-01 - 2023-11-30: 'response'\n",
      "No response while processing page 1 for 2023-12-01 - 2023-12-31: 'response'\n",
      "No response while processing page 2 for 2023-12-01 - 2023-12-31: 'response'\n",
      "No response while processing page 3 for 2023-12-01 - 2023-12-31: 'response'\n",
      "No response while processing page 4 for 2023-12-01 - 2023-12-31: 'response'\n",
      "No response while processing page 5 for 2023-12-01 - 2023-12-31: 'response'\n"
     ]
    }
   ],
   "source": [
    "import calendar\n",
    "\n",
    "# Create an empty list to store articles\n",
    "articles2 = []\n",
    "\n",
    "# Loop through every month from Jan 2020 to Feb 2024\n",
    "for year in range(2020, 2024):\n",
    "    for month in range(1, 13):\n",
    "        # Calculate the number of days in the current month\n",
    "        num_days = calendar.monthrange(year, month)[1]\n",
    "\n",
    "        # Construct the begin_date and end_date parameters for the query\n",
    "        begin_date = f\"{year:04d}-{month:02d}-01\"\n",
    "        end_date = f\"{year:04d}-{month:02d}-{num_days:02d}\"\n",
    "\n",
    "        # Loop through 5 pages (max 10 results per page, hence 50 articles)\n",
    "        for i in range(5):\n",
    "            # Sleep to avoid exceeding the API rate limit\n",
    "            time.sleep(10)\n",
    "            try:\n",
    "                # Construct the URL\n",
    "                url = f'https://api.nytimes.com/svc/search/v2/articlesearch.json?q=artificial+intelligence&api-key={API_KEY}&sort=relevance&begin_date={begin_date}&end_date={end_date}&page={i+1}'\n",
    "\n",
    "                # Make the request and get the response\n",
    "                response = req.get(url).json()\n",
    "                # Extract relevant information from the response and append to articles list\n",
    "                docs = response['response']['docs']\n",
    "                for doc in docs:\n",
    "                    filteredDoc = {}\n",
    "                    filteredDoc['title'] = doc['headline']['main']\n",
    "                    filteredDoc['abstract'] = doc['abstract']\n",
    "                    filteredDoc['paragraph'] = doc['lead_paragraph']\n",
    "                    filteredDoc['date'] = f\"{year}-{month:02d}\"\n",
    "                    articles2.append(filteredDoc)\n",
    "                \n",
    "                \n",
    "            except KeyError as e:\n",
    "                print(f\"No response while processing page {i+1} for {begin_date} - {end_date}: {e}\")\n"
   ]
  },
  {
   "cell_type": "code",
   "execution_count": 4,
   "id": "b2ea3cfa-3502-423b-9af8-37e843da3151",
   "metadata": {},
   "outputs": [],
   "source": [
    "nyt_ai2 = pd.DataFrame(data=articles2)"
   ]
  },
  {
   "cell_type": "code",
   "execution_count": 5,
   "id": "4d034fef-fc70-4438-883b-4bba7d083040",
   "metadata": {},
   "outputs": [
    {
     "data": {
      "text/plain": [
       "(1370, 4)"
      ]
     },
     "execution_count": 5,
     "metadata": {},
     "output_type": "execute_result"
    }
   ],
   "source": [
    "nyt_ai2.shape"
   ]
  },
  {
   "cell_type": "markdown",
   "id": "72a142b7-3d16-482d-9033-170ab3909e05",
   "metadata": {},
   "source": [
    "#### Note: 1370 articles in total means an average of ~28-29 articles scraped per month "
   ]
  },
  {
   "cell_type": "code",
   "execution_count": 7,
   "id": "37d8febd-ae7a-42ef-ab9a-720cccd2b19e",
   "metadata": {},
   "outputs": [],
   "source": [
    "nyt_ai2.to_csv('r2_scraped_nyt.csv')"
   ]
  },
  {
   "cell_type": "markdown",
   "id": "0327d5ee-9546-4a32-afd0-84df9fbe5cff",
   "metadata": {},
   "source": [
    "## Text Upload"
   ]
  },
  {
   "cell_type": "code",
   "execution_count": 11,
   "id": "45fd39e3-3b0a-42eb-b95a-93774da5125c",
   "metadata": {},
   "outputs": [],
   "source": [
    "nyt_data = pd.read_csv('r2_scraped_nyt.csv')"
   ]
  },
  {
   "cell_type": "code",
   "execution_count": 13,
   "id": "6f1d4d85-1ddc-40cb-8ba4-513b25ef9f46",
   "metadata": {},
   "outputs": [
    {
     "data": {
      "text/html": [
       "<div>\n",
       "<style scoped>\n",
       "    .dataframe tbody tr th:only-of-type {\n",
       "        vertical-align: middle;\n",
       "    }\n",
       "\n",
       "    .dataframe tbody tr th {\n",
       "        vertical-align: top;\n",
       "    }\n",
       "\n",
       "    .dataframe thead th {\n",
       "        text-align: right;\n",
       "    }\n",
       "</style>\n",
       "<table border=\"1\" class=\"dataframe\">\n",
       "  <thead>\n",
       "    <tr style=\"text-align: right;\">\n",
       "      <th></th>\n",
       "      <th>title</th>\n",
       "      <th>abstract</th>\n",
       "      <th>paragraph</th>\n",
       "      <th>date</th>\n",
       "    </tr>\n",
       "  </thead>\n",
       "  <tbody>\n",
       "    <tr>\n",
       "      <th>0</th>\n",
       "      <td>Soon a Robot Will Be Writing This Headline</td>\n",
       "      <td>In “A World Without Work,” the economist Danie...</td>\n",
       "      <td>A WORLD WITHOUT WORK Technology, Automation, a...</td>\n",
       "      <td>2020-01</td>\n",
       "    </tr>\n",
       "    <tr>\n",
       "      <th>1</th>\n",
       "      <td>A.I. Comes to the Operating Room</td>\n",
       "      <td>Images made by lasers and read by computers ca...</td>\n",
       "      <td>Brain surgeons are bringing artificial intelli...</td>\n",
       "      <td>2020-01</td>\n",
       "    </tr>\n",
       "    <tr>\n",
       "      <th>2</th>\n",
       "      <td>Confessions of a Dating Profile</td>\n",
       "      <td>My boss’s demands were very, very persuasive, ...</td>\n",
       "      <td>My boss’s demands were very, very persuasive, ...</td>\n",
       "      <td>2020-01</td>\n",
       "    </tr>\n",
       "    <tr>\n",
       "      <th>3</th>\n",
       "      <td>Lesson of the Day: ‘The Machines Are Learning,...</td>\n",
       "      <td>In this lesson, students will learn about how ...</td>\n",
       "      <td>Featured Article: “The Machines Are Learning, ...</td>\n",
       "      <td>2020-01</td>\n",
       "    </tr>\n",
       "    <tr>\n",
       "      <th>4</th>\n",
       "      <td>Facebook Says It Will Ban ‘Deepfakes’</td>\n",
       "      <td>The company said it would remove videos altere...</td>\n",
       "      <td>WASHINGTON — Facebook says it will ban videos ...</td>\n",
       "      <td>2020-01</td>\n",
       "    </tr>\n",
       "    <tr>\n",
       "      <th>...</th>\n",
       "      <td>...</td>\n",
       "      <td>...</td>\n",
       "      <td>...</td>\n",
       "      <td>...</td>\n",
       "    </tr>\n",
       "    <tr>\n",
       "      <th>1365</th>\n",
       "      <td>Cities Foster Serendipity. But Can They Do It ...</td>\n",
       "      <td>Revisiting a theory about chance collisions an...</td>\n",
       "      <td>There is a thing that happens in cities — that...</td>\n",
       "      <td>2023-10</td>\n",
       "    </tr>\n",
       "    <tr>\n",
       "      <th>1366</th>\n",
       "      <td>Allied Spy Chiefs Warn of Chinese Espionage Ta...</td>\n",
       "      <td>F.B.I. officials say more than half of Chinese...</td>\n",
       "      <td>The United States and its allies vowed this we...</td>\n",
       "      <td>2023-10</td>\n",
       "    </tr>\n",
       "    <tr>\n",
       "      <th>1367</th>\n",
       "      <td>Researchers Say Guardrails Built Around A.I. S...</td>\n",
       "      <td>OpenAI now lets outsiders tweak what its chatb...</td>\n",
       "      <td>Before it released the A.I. chatbot ChatGPT la...</td>\n",
       "      <td>2023-10</td>\n",
       "    </tr>\n",
       "    <tr>\n",
       "      <th>1368</th>\n",
       "      <td>An Industry Insider Drives an Open Alternative...</td>\n",
       "      <td>The nonprofit Allen Institute for AI, led by a...</td>\n",
       "      <td>Ali Farhadi is no tech rebel.</td>\n",
       "      <td>2023-10</td>\n",
       "    </tr>\n",
       "    <tr>\n",
       "      <th>1369</th>\n",
       "      <td>Silicon Valley Ditches News, Shaking an Unstab...</td>\n",
       "      <td>News organizations are scrambling to adjust to...</td>\n",
       "      <td>Campbell Brown, Facebook’s top news executive,...</td>\n",
       "      <td>2023-10</td>\n",
       "    </tr>\n",
       "  </tbody>\n",
       "</table>\n",
       "<p>1370 rows × 4 columns</p>\n",
       "</div>"
      ],
      "text/plain": [
       "                                                  title  \\\n",
       "0            Soon a Robot Will Be Writing This Headline   \n",
       "1                      A.I. Comes to the Operating Room   \n",
       "2                       Confessions of a Dating Profile   \n",
       "3     Lesson of the Day: ‘The Machines Are Learning,...   \n",
       "4                 Facebook Says It Will Ban ‘Deepfakes’   \n",
       "...                                                 ...   \n",
       "1365  Cities Foster Serendipity. But Can They Do It ...   \n",
       "1366  Allied Spy Chiefs Warn of Chinese Espionage Ta...   \n",
       "1367  Researchers Say Guardrails Built Around A.I. S...   \n",
       "1368  An Industry Insider Drives an Open Alternative...   \n",
       "1369  Silicon Valley Ditches News, Shaking an Unstab...   \n",
       "\n",
       "                                               abstract  \\\n",
       "0     In “A World Without Work,” the economist Danie...   \n",
       "1     Images made by lasers and read by computers ca...   \n",
       "2     My boss’s demands were very, very persuasive, ...   \n",
       "3     In this lesson, students will learn about how ...   \n",
       "4     The company said it would remove videos altere...   \n",
       "...                                                 ...   \n",
       "1365  Revisiting a theory about chance collisions an...   \n",
       "1366  F.B.I. officials say more than half of Chinese...   \n",
       "1367  OpenAI now lets outsiders tweak what its chatb...   \n",
       "1368  The nonprofit Allen Institute for AI, led by a...   \n",
       "1369  News organizations are scrambling to adjust to...   \n",
       "\n",
       "                                              paragraph     date  \n",
       "0     A WORLD WITHOUT WORK Technology, Automation, a...  2020-01  \n",
       "1     Brain surgeons are bringing artificial intelli...  2020-01  \n",
       "2     My boss’s demands were very, very persuasive, ...  2020-01  \n",
       "3     Featured Article: “The Machines Are Learning, ...  2020-01  \n",
       "4     WASHINGTON — Facebook says it will ban videos ...  2020-01  \n",
       "...                                                 ...      ...  \n",
       "1365  There is a thing that happens in cities — that...  2023-10  \n",
       "1366  The United States and its allies vowed this we...  2023-10  \n",
       "1367  Before it released the A.I. chatbot ChatGPT la...  2023-10  \n",
       "1368                      Ali Farhadi is no tech rebel.  2023-10  \n",
       "1369  Campbell Brown, Facebook’s top news executive,...  2023-10  \n",
       "\n",
       "[1370 rows x 4 columns]"
      ]
     },
     "execution_count": 13,
     "metadata": {},
     "output_type": "execute_result"
    }
   ],
   "source": [
    "nyt_data.drop(columns=['Unnamed: 0'])"
   ]
  },
  {
   "cell_type": "markdown",
   "id": "e69a19fd-e966-4d5d-9e98-16a94c5971c7",
   "metadata": {},
   "source": [
    "## Preliminary Sentiment Analysis "
   ]
  },
  {
   "cell_type": "markdown",
   "id": "f705937b-cdef-4e19-840d-73933efc85dc",
   "metadata": {},
   "source": [
    "### Using Transfer-Learning Methods"
   ]
  },
  {
   "cell_type": "code",
   "execution_count": null,
   "id": "5843cc33-2625-4f5d-a886-ddcd766836b3",
   "metadata": {},
   "outputs": [],
   "source": []
  },
  {
   "cell_type": "markdown",
   "id": "4f9c3aa4-bf0c-48a8-9607-3e9fed0e281a",
   "metadata": {},
   "source": [
    "### Using Lexicon-Based Methods (see https://www.analyticsvidhya.com/blog/2021/06/rule-based-sentiment-analysis-in-python/)"
   ]
  },
  {
   "cell_type": "markdown",
   "id": "ab91feb3-1264-4347-8e13-48611733c994",
   "metadata": {},
   "source": [
    "#### Data Cleaning, POS-tagging, Stop Word Removal, Stemming"
   ]
  },
  {
   "cell_type": "code",
   "execution_count": 17,
   "id": "fd14d85e-ee4b-4d63-a28e-84431366809b",
   "metadata": {},
   "outputs": [],
   "source": [
    "# create an empty list for clean paragraphs \n",
    "cleanparagraph=[]\n",
    "# for each rows in the df \n",
    "for i in range(len(nyt_data)):\n",
    "    # replace unwanted characters \n",
    "    para=str(nyt_data['paragraph'].iloc[i])\n",
    "    para=para.replace('\\r',' ')\n",
    "    para=para.replace('\\n',' ')\n",
    "    para=para.replace('. ',' ')\n",
    "    para=para.replace(', ',' ')\n",
    "    # lowercase \n",
    "    cleanparagraph.append(para.lower())\n",
    "nyt_data['clean paragraph']= cleanparagraph"
   ]
  },
  {
   "cell_type": "code",
   "execution_count": 18,
   "id": "068cc51f-5f47-4647-8a02-66e90337770f",
   "metadata": {},
   "outputs": [
    {
     "data": {
      "text/html": [
       "<div>\n",
       "<style scoped>\n",
       "    .dataframe tbody tr th:only-of-type {\n",
       "        vertical-align: middle;\n",
       "    }\n",
       "\n",
       "    .dataframe tbody tr th {\n",
       "        vertical-align: top;\n",
       "    }\n",
       "\n",
       "    .dataframe thead th {\n",
       "        text-align: right;\n",
       "    }\n",
       "</style>\n",
       "<table border=\"1\" class=\"dataframe\">\n",
       "  <thead>\n",
       "    <tr style=\"text-align: right;\">\n",
       "      <th></th>\n",
       "      <th>Unnamed: 0</th>\n",
       "      <th>title</th>\n",
       "      <th>abstract</th>\n",
       "      <th>paragraph</th>\n",
       "      <th>date</th>\n",
       "      <th>clean paragraph</th>\n",
       "    </tr>\n",
       "  </thead>\n",
       "  <tbody>\n",
       "    <tr>\n",
       "      <th>0</th>\n",
       "      <td>0</td>\n",
       "      <td>Soon a Robot Will Be Writing This Headline</td>\n",
       "      <td>In “A World Without Work,” the economist Danie...</td>\n",
       "      <td>A WORLD WITHOUT WORK Technology, Automation, a...</td>\n",
       "      <td>2020-01</td>\n",
       "      <td>a world without work technology automation and...</td>\n",
       "    </tr>\n",
       "    <tr>\n",
       "      <th>1</th>\n",
       "      <td>1</td>\n",
       "      <td>A.I. Comes to the Operating Room</td>\n",
       "      <td>Images made by lasers and read by computers ca...</td>\n",
       "      <td>Brain surgeons are bringing artificial intelli...</td>\n",
       "      <td>2020-01</td>\n",
       "      <td>brain surgeons are bringing artificial intelli...</td>\n",
       "    </tr>\n",
       "    <tr>\n",
       "      <th>2</th>\n",
       "      <td>2</td>\n",
       "      <td>Confessions of a Dating Profile</td>\n",
       "      <td>My boss’s demands were very, very persuasive, ...</td>\n",
       "      <td>My boss’s demands were very, very persuasive, ...</td>\n",
       "      <td>2020-01</td>\n",
       "      <td>my boss’s demands were very very persuasive ap...</td>\n",
       "    </tr>\n",
       "    <tr>\n",
       "      <th>3</th>\n",
       "      <td>3</td>\n",
       "      <td>Lesson of the Day: ‘The Machines Are Learning,...</td>\n",
       "      <td>In this lesson, students will learn about how ...</td>\n",
       "      <td>Featured Article: “The Machines Are Learning, ...</td>\n",
       "      <td>2020-01</td>\n",
       "      <td>featured article: “the machines are learning a...</td>\n",
       "    </tr>\n",
       "    <tr>\n",
       "      <th>4</th>\n",
       "      <td>4</td>\n",
       "      <td>Facebook Says It Will Ban ‘Deepfakes’</td>\n",
       "      <td>The company said it would remove videos altere...</td>\n",
       "      <td>WASHINGTON — Facebook says it will ban videos ...</td>\n",
       "      <td>2020-01</td>\n",
       "      <td>washington — facebook says it will ban videos ...</td>\n",
       "    </tr>\n",
       "  </tbody>\n",
       "</table>\n",
       "</div>"
      ],
      "text/plain": [
       "   Unnamed: 0                                              title  \\\n",
       "0           0         Soon a Robot Will Be Writing This Headline   \n",
       "1           1                   A.I. Comes to the Operating Room   \n",
       "2           2                    Confessions of a Dating Profile   \n",
       "3           3  Lesson of the Day: ‘The Machines Are Learning,...   \n",
       "4           4              Facebook Says It Will Ban ‘Deepfakes’   \n",
       "\n",
       "                                            abstract  \\\n",
       "0  In “A World Without Work,” the economist Danie...   \n",
       "1  Images made by lasers and read by computers ca...   \n",
       "2  My boss’s demands were very, very persuasive, ...   \n",
       "3  In this lesson, students will learn about how ...   \n",
       "4  The company said it would remove videos altere...   \n",
       "\n",
       "                                           paragraph     date  \\\n",
       "0  A WORLD WITHOUT WORK Technology, Automation, a...  2020-01   \n",
       "1  Brain surgeons are bringing artificial intelli...  2020-01   \n",
       "2  My boss’s demands were very, very persuasive, ...  2020-01   \n",
       "3  Featured Article: “The Machines Are Learning, ...  2020-01   \n",
       "4  WASHINGTON — Facebook says it will ban videos ...  2020-01   \n",
       "\n",
       "                                     clean paragraph  \n",
       "0  a world without work technology automation and...  \n",
       "1  brain surgeons are bringing artificial intelli...  \n",
       "2  my boss’s demands were very very persuasive ap...  \n",
       "3  featured article: “the machines are learning a...  \n",
       "4  washington — facebook says it will ban videos ...  "
      ]
     },
     "execution_count": 18,
     "metadata": {},
     "output_type": "execute_result"
    }
   ],
   "source": [
    "nyt_data.head()"
   ]
  },
  {
   "cell_type": "code",
   "execution_count": null,
   "id": "5a4eb765-7898-42fe-84ec-370d6fe7bd53",
   "metadata": {},
   "outputs": [],
   "source": []
  }
 ],
 "metadata": {
  "kernelspec": {
   "display_name": "Python 3 (ipykernel)",
   "language": "python",
   "name": "python3"
  },
  "language_info": {
   "codemirror_mode": {
    "name": "ipython",
    "version": 3
   },
   "file_extension": ".py",
   "mimetype": "text/x-python",
   "name": "python",
   "nbconvert_exporter": "python",
   "pygments_lexer": "ipython3",
   "version": "3.9.18"
  }
 },
 "nbformat": 4,
 "nbformat_minor": 5
}
