{
 "cells": [
  {
   "cell_type": "markdown",
   "id": "375a9416-b88d-459e-9e66-e32ef5428d2f",
   "metadata": {},
   "source": [
    "# Project Two Code "
   ]
  },
  {
   "cell_type": "code",
   "execution_count": 18,
   "id": "f48c5e26-2bda-435b-9c53-445976c4e13e",
   "metadata": {},
   "outputs": [],
   "source": [
    "import numpy as np\n",
    "import nltk\n",
    "from nltk.corpus import stopwords\n",
    "import pandas as pd\n",
    "import matplotlib.pyplot as plt\n",
    "from collections import Counter\n",
    "from itertools import chain\n",
    "from sklearn.feature_extraction.text import TfidfVectorizer\n",
    "from sklearn.metrics.pairwise import cosine_similarity\n",
    "from fuzzywuzzy import fuzz\n",
    "from sklearn.linear_model import LogisticRegression\n",
    "from transformers import pipeline"
   ]
  },
  {
   "cell_type": "markdown",
   "id": "c9150fb2-f050-4eb7-a408-5eaeebc6d90b",
   "metadata": {},
   "source": [
    "## Web Scraping NYT Articles Using NYT API "
   ]
  },
  {
   "cell_type": "code",
   "execution_count": 19,
   "id": "3bab9bd0-99ee-4234-859c-978f05aa6aad",
   "metadata": {},
   "outputs": [],
   "source": [
    "import requests as req\n",
    "import time\n",
    "API_KEY='9kiWZKsGFtTkcTD4yYkyxWAKehiTKkzR' # your API key"
   ]
  },
  {
   "cell_type": "code",
   "execution_count": 21,
   "id": "e07b76d2-e373-4148-b91d-3db7ea1bf7be",
   "metadata": {},
   "outputs": [
    {
     "name": "stdout",
     "output_type": "stream",
     "text": [
      "No response while processing page 5 for 2020-05-01 - 2020-05-31: 'response'\n",
      "No response while processing page 1 for 2020-07-01 - 2020-07-31: 'response'\n",
      "No response while processing page 2 for 2020-07-01 - 2020-07-31: 'response'\n",
      "No response while processing page 3 for 2020-08-01 - 2020-08-31: 'response'\n",
      "No response while processing page 4 for 2020-09-01 - 2020-09-30: 'response'\n",
      "No response while processing page 5 for 2020-10-01 - 2020-10-31: 'response'\n",
      "No response while processing page 1 for 2020-11-01 - 2020-11-30: 'response'\n",
      "No response while processing page 2 for 2020-12-01 - 2020-12-31: 'response'\n",
      "No response while processing page 3 for 2021-01-01 - 2021-01-31: 'response'\n",
      "No response while processing page 4 for 2021-01-01 - 2021-01-31: 'response'\n",
      "No response while processing page 5 for 2021-02-01 - 2021-02-28: 'response'\n",
      "No response while processing page 1 for 2021-04-01 - 2021-04-30: 'response'\n",
      "No response while processing page 2 for 2021-05-01 - 2021-05-31: 'response'\n",
      "No response while processing page 3 for 2021-05-01 - 2021-05-31: 'response'\n",
      "No response while processing page 4 for 2021-06-01 - 2021-06-30: 'response'\n",
      "No response while processing page 5 for 2021-07-01 - 2021-07-31: 'response'\n",
      "No response while processing page 1 for 2021-09-01 - 2021-09-30: 'response'\n",
      "No response while processing page 2 for 2021-10-01 - 2021-10-31: 'response'\n",
      "No response while processing page 3 for 2021-10-01 - 2021-10-31: 'response'\n",
      "No response while processing page 4 for 2021-10-01 - 2021-10-31: 'response'\n",
      "No response while processing page 5 for 2021-11-01 - 2021-11-30: 'response'\n",
      "No response while processing page 1 for 2022-01-01 - 2022-01-31: 'response'\n",
      "No response while processing page 2 for 2022-02-01 - 2022-02-28: 'response'\n",
      "No response while processing page 3 for 2022-02-01 - 2022-02-28: 'response'\n",
      "No response while processing page 4 for 2022-02-01 - 2022-02-28: 'response'\n",
      "No response while processing page 5 for 2022-03-01 - 2022-03-31: 'response'\n",
      "No response while processing page 1 for 2022-05-01 - 2022-05-31: 'response'\n",
      "No response while processing page 2 for 2022-06-01 - 2022-06-30: 'response'\n",
      "No response while processing page 3 for 2022-07-01 - 2022-07-31: 'response'\n",
      "No response while processing page 4 for 2022-08-01 - 2022-08-31: 'response'\n",
      "No response while processing page 5 for 2022-08-01 - 2022-08-31: 'response'\n",
      "No response while processing page 1 for 2022-10-01 - 2022-10-31: 'response'\n",
      "No response while processing page 2 for 2022-11-01 - 2022-11-30: 'response'\n",
      "No response while processing page 3 for 2022-12-01 - 2022-12-31: 'response'\n",
      "No response while processing page 4 for 2022-12-01 - 2022-12-31: 'response'\n",
      "No response while processing page 5 for 2023-01-01 - 2023-01-31: 'response'\n",
      "No response while processing page 1 for 2023-03-01 - 2023-03-31: 'response'\n",
      "No response while processing page 2 for 2023-03-01 - 2023-03-31: 'response'\n",
      "No response while processing page 3 for 2023-04-01 - 2023-04-30: 'response'\n",
      "No response while processing page 4 for 2023-05-01 - 2023-05-31: 'response'\n",
      "No response while processing page 5 for 2023-05-01 - 2023-05-31: 'response'\n",
      "No response while processing page 1 for 2023-07-01 - 2023-07-31: 'response'\n",
      "No response while processing page 2 for 2023-08-01 - 2023-08-31: 'response'\n",
      "No response while processing page 3 for 2023-08-01 - 2023-08-31: 'response'\n",
      "No response while processing page 4 for 2023-09-01 - 2023-09-30: 'response'\n",
      "No response while processing page 5 for 2023-09-01 - 2023-09-30: 'response'\n",
      "No response while processing page 1 for 2023-11-01 - 2023-11-30: 'response'\n",
      "No response while processing page 2 for 2023-11-01 - 2023-11-30: 'response'\n",
      "No response while processing page 3 for 2023-12-01 - 2023-12-31: 'response'\n",
      "No response while processing page 4 for 2023-12-01 - 2023-12-31: 'response'\n",
      "No response while processing page 5 for 2024-01-01 - 2024-01-31: 'response'\n",
      "No response while processing page 1 for 2024-02-01 - 2024-02-29: 'response'\n",
      "No response while processing page 2 for 2024-03-01 - 2024-03-31: 'response'\n",
      "No response while processing page 3 for 2024-04-01 - 2024-04-30: 'response'\n",
      "No response while processing page 4 for 2024-04-01 - 2024-04-30: 'response'\n"
     ]
    },
    {
     "ename": "KeyboardInterrupt",
     "evalue": "",
     "output_type": "error",
     "traceback": [
      "\u001b[1;31m---------------------------------------------------------------------------\u001b[0m",
      "\u001b[1;31mKeyboardInterrupt\u001b[0m                         Traceback (most recent call last)",
      "Input \u001b[1;32mIn [21]\u001b[0m, in \u001b[0;36m<cell line: 7>\u001b[1;34m()\u001b[0m\n\u001b[0;32m     32\u001b[0m         articles\u001b[38;5;241m.\u001b[39mappend(filteredDoc)\n\u001b[0;32m     34\u001b[0m     \u001b[38;5;66;03m# Sleep to avoid exceeding the API rate limit\u001b[39;00m\n\u001b[1;32m---> 35\u001b[0m     \u001b[43mtime\u001b[49m\u001b[38;5;241;43m.\u001b[39;49m\u001b[43msleep\u001b[49m\u001b[43m(\u001b[49m\u001b[38;5;241;43m10\u001b[39;49m\u001b[43m)\u001b[49m\n\u001b[0;32m     36\u001b[0m \u001b[38;5;28;01mexcept\u001b[39;00m \u001b[38;5;167;01mKeyError\u001b[39;00m \u001b[38;5;28;01mas\u001b[39;00m e:\n\u001b[0;32m     37\u001b[0m     \u001b[38;5;28mprint\u001b[39m(\u001b[38;5;124mf\u001b[39m\u001b[38;5;124m\"\u001b[39m\u001b[38;5;124mNo response while processing page \u001b[39m\u001b[38;5;132;01m{\u001b[39;00mi\u001b[38;5;241m+\u001b[39m\u001b[38;5;241m1\u001b[39m\u001b[38;5;132;01m}\u001b[39;00m\u001b[38;5;124m for \u001b[39m\u001b[38;5;132;01m{\u001b[39;00mbegin_date\u001b[38;5;132;01m}\u001b[39;00m\u001b[38;5;124m - \u001b[39m\u001b[38;5;132;01m{\u001b[39;00mend_date\u001b[38;5;132;01m}\u001b[39;00m\u001b[38;5;124m: \u001b[39m\u001b[38;5;132;01m{\u001b[39;00me\u001b[38;5;132;01m}\u001b[39;00m\u001b[38;5;124m\"\u001b[39m)\n",
      "\u001b[1;31mKeyboardInterrupt\u001b[0m: "
     ]
    }
   ],
   "source": [
    "import calendar\n",
    "\n",
    "# Create an empty list to store articles\n",
    "articles = []\n",
    "\n",
    "# Loop through every month from Jan 2020 to Feb 2024\n",
    "for year in range(2020, 2025):\n",
    "    for month in range(1, 13):\n",
    "        # Calculate the number of days in the current month\n",
    "        num_days = calendar.monthrange(year, month)[1]\n",
    "\n",
    "        # Construct the begin_date and end_date parameters for the query\n",
    "        begin_date = f\"{year:04d}-{month:02d}-01\"\n",
    "        end_date = f\"{year:04d}-{month:02d}-{num_days:02d}\"\n",
    "\n",
    "        # Loop through 5 pages (max 10 results per page, hence 50 articles)\n",
    "        for i in range(5):\n",
    "            try:\n",
    "                # Construct the URL\n",
    "                url = f'https://api.nytimes.com/svc/search/v2/articlesearch.json?q=artificial+intelligence&api-key={API_KEY}&sort=relevance&begin_date={begin_date}&end_date={end_date}&page={i+1}'\n",
    "\n",
    "                # Make the request and get the response\n",
    "                response = req.get(url).json()\n",
    "                # Extract relevant information from the response and append to articles list\n",
    "                docs = response['response']['docs']\n",
    "                for doc in docs:\n",
    "                    filteredDoc = {}\n",
    "                    filteredDoc['title'] = doc['headline']['main']\n",
    "                    filteredDoc['abstract'] = doc['abstract']\n",
    "                    filteredDoc['paragraph'] = doc['lead_paragraph']\n",
    "                    filteredDoc['date'] = f\"{year}-{month:02d}\"\n",
    "                    articles.append(filteredDoc)\n",
    "                \n",
    "                # Sleep to avoid exceeding the API rate limit\n",
    "                time.sleep(10)\n",
    "            except KeyError as e:\n",
    "                print(f\"No response while processing page {i+1} for {begin_date} - {end_date}: {e}\")\n"
   ]
  },
  {
   "cell_type": "code",
   "execution_count": 22,
   "id": "a04942d8-8ee8-4105-8d5a-4ddb1640972b",
   "metadata": {},
   "outputs": [],
   "source": [
    "# Create a DataFrame from the list of articles\n",
    "nyt_ai = pd.DataFrame(data=articles)"
   ]
  },
  {
   "cell_type": "code",
   "execution_count": 23,
   "id": "05e6dbce-adb1-4390-ad3f-651d0b5571e7",
   "metadata": {},
   "outputs": [
    {
     "name": "stdout",
     "output_type": "stream",
     "text": [
      "['2020-01' '2020-02' '2020-03' '2020-04' '2020-05' '2020-06' '2020-08'\n",
      " '2020-09' '2020-10' '2020-11' '2020-12' '2021-01' '2021-02' '2021-03'\n",
      " '2021-04' '2021-05' '2021-06' '2021-07' '2021-08' '2021-09' '2021-10'\n",
      " '2021-11' '2021-12' '2022-01' '2022-02' '2022-03' '2022-04' '2022-05'\n",
      " '2022-06' '2022-07' '2022-08' '2022-09' '2022-10' '2022-11' '2022-12'\n",
      " '2023-01' '2023-02' '2023-03' '2023-04' '2023-05' '2023-06' '2023-07'\n",
      " '2023-08' '2023-09' '2023-10' '2023-11' '2023-12' '2024-01' '2024-02'\n",
      " '2024-03']\n"
     ]
    }
   ],
   "source": [
    "print(nyt_ai['date'].unique())"
   ]
  },
  {
   "cell_type": "code",
   "execution_count": 24,
   "id": "1a70cd88-5932-49f4-9912-bf79eac5de7a",
   "metadata": {},
   "outputs": [
    {
     "data": {
      "text/plain": [
       "(1402, 4)"
      ]
     },
     "execution_count": 24,
     "metadata": {},
     "output_type": "execute_result"
    }
   ],
   "source": [
    "nyt_ai.shape"
   ]
  },
  {
   "cell_type": "code",
   "execution_count": 25,
   "id": "f814c60f-0d29-4e64-abc1-a5d047e475fb",
   "metadata": {},
   "outputs": [],
   "source": [
    "nyt_ai.to_csv('r1_scraped_nyt.csv')"
   ]
  },
  {
   "cell_type": "markdown",
   "id": "0327d5ee-9546-4a32-afd0-84df9fbe5cff",
   "metadata": {},
   "source": [
    "## Text Cleaning"
   ]
  },
  {
   "cell_type": "code",
   "execution_count": null,
   "id": "45fd39e3-3b0a-42eb-b95a-93774da5125c",
   "metadata": {},
   "outputs": [],
   "source": []
  },
  {
   "cell_type": "markdown",
   "id": "e69a19fd-e966-4d5d-9e98-16a94c5971c7",
   "metadata": {},
   "source": [
    "## Preliminary Sentiment Analysis "
   ]
  },
  {
   "cell_type": "code",
   "execution_count": null,
   "id": "5a4eb765-7898-42fe-84ec-370d6fe7bd53",
   "metadata": {},
   "outputs": [],
   "source": []
  }
 ],
 "metadata": {
  "kernelspec": {
   "display_name": "Python 3 (ipykernel)",
   "language": "python",
   "name": "python3"
  },
  "language_info": {
   "codemirror_mode": {
    "name": "ipython",
    "version": 3
   },
   "file_extension": ".py",
   "mimetype": "text/x-python",
   "name": "python",
   "nbconvert_exporter": "python",
   "pygments_lexer": "ipython3",
   "version": "3.9.18"
  }
 },
 "nbformat": 4,
 "nbformat_minor": 5
}
