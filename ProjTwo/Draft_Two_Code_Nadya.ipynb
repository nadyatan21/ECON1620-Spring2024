{
 "cells": [
  {
   "cell_type": "markdown",
   "id": "375a9416-b88d-459e-9e66-e32ef5428d2f",
   "metadata": {},
   "source": [
    "# Project Two Code "
   ]
  },
  {
   "cell_type": "code",
   "execution_count": 1,
   "id": "f48c5e26-2bda-435b-9c53-445976c4e13e",
   "metadata": {},
   "outputs": [
    {
     "name": "stderr",
     "output_type": "stream",
     "text": [
      "C:\\Users\\Nadya\\anaconda3\\envs\\ECON1680\\lib\\site-packages\\tqdm\\auto.py:21: TqdmWarning: IProgress not found. Please update jupyter and ipywidgets. See https://ipywidgets.readthedocs.io/en/stable/user_install.html\n",
      "  from .autonotebook import tqdm as notebook_tqdm\n"
     ]
    }
   ],
   "source": [
    "import numpy as np\n",
    "import nltk\n",
    "from nltk.corpus import stopwords\n",
    "import pandas as pd\n",
    "import matplotlib.pyplot as plt\n",
    "from collections import Counter\n",
    "from itertools import chain\n",
    "from sklearn.feature_extraction.text import TfidfVectorizer\n",
    "from sklearn.metrics.pairwise import cosine_similarity\n",
    "from fuzzywuzzy import fuzz\n",
    "from sklearn.linear_model import LogisticRegression\n",
    "from transformers import pipeline"
   ]
  },
  {
   "cell_type": "markdown",
   "id": "c9150fb2-f050-4eb7-a408-5eaeebc6d90b",
   "metadata": {},
   "source": [
    "## Web Scraping NYT Articles Using NYT API "
   ]
  },
  {
   "cell_type": "code",
   "execution_count": 2,
   "id": "3bab9bd0-99ee-4234-859c-978f05aa6aad",
   "metadata": {},
   "outputs": [],
   "source": [
    "import requests as req\n",
    "import time\n",
    "API_KEY='9kiWZKsGFtTkcTD4yYkyxWAKehiTKkzR' # your API key"
   ]
  },
  {
   "cell_type": "code",
   "execution_count": 3,
   "id": "e9428f44-a152-47be-9191-7807c7f237fa",
   "metadata": {},
   "outputs": [
    {
     "name": "stdout",
     "output_type": "stream",
     "text": [
      "No response while processing page 3 for 2020-02-01 - 2020-02-29: 'response'\n",
      "No response while processing page 4 for 2020-04-01 - 2020-04-30: 'response'\n",
      "No response while processing page 5 for 2020-07-01 - 2020-07-31: 'response'\n",
      "No response while processing page 1 for 2020-11-01 - 2020-11-30: 'response'\n",
      "No response while processing page 2 for 2021-01-01 - 2021-01-31: 'response'\n",
      "No response while processing page 3 for 2021-04-01 - 2021-04-30: 'response'\n",
      "No response while processing page 4 for 2021-06-01 - 2021-06-30: 'response'\n",
      "No response while processing page 5 for 2021-09-01 - 2021-09-30: 'response'\n",
      "No response while processing page 1 for 2022-01-01 - 2022-01-31: 'response'\n",
      "No response while processing page 2 for 2022-03-01 - 2022-03-31: 'response'\n",
      "No response while processing page 3 for 2022-06-01 - 2022-06-30: 'response'\n",
      "No response while processing page 4 for 2022-08-01 - 2022-08-31: 'response'\n",
      "No response while processing page 5 for 2022-11-01 - 2022-11-30: 'response'\n",
      "No response while processing page 1 for 2023-02-01 - 2023-02-28: 'response'\n",
      "No response while processing page 2 for 2023-05-01 - 2023-05-31: 'response'\n",
      "No response while processing page 3 for 2023-09-01 - 2023-09-30: 'response'\n",
      "No response while processing page 3 for 2023-10-01 - 2023-10-31: 'response'\n",
      "No response while processing page 4 for 2023-10-01 - 2023-10-31: 'response'\n",
      "No response while processing page 5 for 2023-10-01 - 2023-10-31: 'response'\n",
      "No response while processing page 1 for 2023-11-01 - 2023-11-30: 'response'\n",
      "No response while processing page 2 for 2023-11-01 - 2023-11-30: 'response'\n",
      "No response while processing page 3 for 2023-11-01 - 2023-11-30: 'response'\n",
      "No response while processing page 4 for 2023-11-01 - 2023-11-30: 'response'\n",
      "No response while processing page 5 for 2023-11-01 - 2023-11-30: 'response'\n",
      "No response while processing page 1 for 2023-12-01 - 2023-12-31: 'response'\n",
      "No response while processing page 2 for 2023-12-01 - 2023-12-31: 'response'\n",
      "No response while processing page 3 for 2023-12-01 - 2023-12-31: 'response'\n",
      "No response while processing page 4 for 2023-12-01 - 2023-12-31: 'response'\n",
      "No response while processing page 5 for 2023-12-01 - 2023-12-31: 'response'\n"
     ]
    }
   ],
   "source": [
    "import calendar\n",
    "\n",
    "# Create an empty list to store articles\n",
    "articles2 = []\n",
    "\n",
    "# Loop through every month from Jan 2020 to Feb 2024\n",
    "for year in range(2020, 2024):\n",
    "    for month in range(1, 13):\n",
    "        # Calculate the number of days in the current month\n",
    "        num_days = calendar.monthrange(year, month)[1]\n",
    "\n",
    "        # Construct the begin_date and end_date parameters for the query\n",
    "        begin_date = f\"{year:04d}-{month:02d}-01\"\n",
    "        end_date = f\"{year:04d}-{month:02d}-{num_days:02d}\"\n",
    "\n",
    "        # Loop through 5 pages (max 10 results per page, hence 50 articles)\n",
    "        for i in range(5):\n",
    "            # Sleep to avoid exceeding the API rate limit\n",
    "            time.sleep(10)\n",
    "            try:\n",
    "                # Construct the URL\n",
    "                url = f'https://api.nytimes.com/svc/search/v2/articlesearch.json?q=artificial+intelligence&api-key={API_KEY}&sort=relevance&begin_date={begin_date}&end_date={end_date}&page={i+1}'\n",
    "\n",
    "                # Make the request and get the response\n",
    "                response = req.get(url).json()\n",
    "                # Extract relevant information from the response and append to articles list\n",
    "                docs = response['response']['docs']\n",
    "                for doc in docs:\n",
    "                    filteredDoc = {}\n",
    "                    filteredDoc['title'] = doc['headline']['main']\n",
    "                    filteredDoc['abstract'] = doc['abstract']\n",
    "                    filteredDoc['paragraph'] = doc['lead_paragraph']\n",
    "                    filteredDoc['date'] = f\"{year}-{month:02d}\"\n",
    "                    articles2.append(filteredDoc)\n",
    "                \n",
    "                \n",
    "            except KeyError as e:\n",
    "                print(f\"No response while processing page {i+1} for {begin_date} - {end_date}: {e}\")\n"
   ]
  },
  {
   "cell_type": "code",
   "execution_count": 4,
   "id": "b2ea3cfa-3502-423b-9af8-37e843da3151",
   "metadata": {},
   "outputs": [],
   "source": [
    "nyt_ai2 = pd.DataFrame(data=articles2)"
   ]
  },
  {
   "cell_type": "code",
   "execution_count": 5,
   "id": "4d034fef-fc70-4438-883b-4bba7d083040",
   "metadata": {},
   "outputs": [
    {
     "data": {
      "text/plain": [
       "(1370, 4)"
      ]
     },
     "execution_count": 5,
     "metadata": {},
     "output_type": "execute_result"
    }
   ],
   "source": [
    "nyt_ai2.shape"
   ]
  },
  {
   "cell_type": "code",
   "execution_count": 7,
   "id": "37d8febd-ae7a-42ef-ab9a-720cccd2b19e",
   "metadata": {},
   "outputs": [],
   "source": [
    "nyt_ai2.to_csv('r2_scraped_nyt.csv')"
   ]
  },
  {
   "cell_type": "markdown",
   "id": "0327d5ee-9546-4a32-afd0-84df9fbe5cff",
   "metadata": {},
   "source": [
    "## Text Cleaning"
   ]
  },
  {
   "cell_type": "code",
   "execution_count": null,
   "id": "45fd39e3-3b0a-42eb-b95a-93774da5125c",
   "metadata": {},
   "outputs": [],
   "source": []
  },
  {
   "cell_type": "markdown",
   "id": "e69a19fd-e966-4d5d-9e98-16a94c5971c7",
   "metadata": {},
   "source": [
    "## Preliminary Sentiment Analysis "
   ]
  },
  {
   "cell_type": "code",
   "execution_count": null,
   "id": "5a4eb765-7898-42fe-84ec-370d6fe7bd53",
   "metadata": {},
   "outputs": [],
   "source": []
  }
 ],
 "metadata": {
  "kernelspec": {
   "display_name": "Python 3 (ipykernel)",
   "language": "python",
   "name": "python3"
  },
  "language_info": {
   "codemirror_mode": {
    "name": "ipython",
    "version": 3
   },
   "file_extension": ".py",
   "mimetype": "text/x-python",
   "name": "python",
   "nbconvert_exporter": "python",
   "pygments_lexer": "ipython3",
   "version": "3.9.18"
  }
 },
 "nbformat": 4,
 "nbformat_minor": 5
}
