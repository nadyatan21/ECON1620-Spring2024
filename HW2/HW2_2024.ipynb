{
 "cells": [
  {
   "cell_type": "markdown",
   "id": "3e0730ea-1316-4f07-8457-825283980e95",
   "metadata": {},
   "source": [
    "# Homework 2\n",
    "\n",
    "## Econ 1680: MLTA and Econ\n",
    "\n",
    "#### Name:"
   ]
  },
  {
   "cell_type": "markdown",
   "id": "18339078-2eec-466a-8fa8-2843f0346d0f",
   "metadata": {},
   "source": [
    "This assignment will cover applications of econometrics and machine learning we covered in class. For this assignment, you should write/type your answers into this notebook. You must also submit your python code. \n",
    "\n",
    "You may discuss the problem set with your class mates, but every student must do their own work. It is always important to cite our references that help us in our work. Please cite the students you work with here: ___ , ____, _____\n"
   ]
  },
  {
   "cell_type": "code",
   "execution_count": 2,
   "id": "af5d5c61-dff6-4e56-8811-10646aef170d",
   "metadata": {},
   "outputs": [],
   "source": [
    "import pandas as pd\n",
    "import numpy as np\n",
    "import matplotlib.pyplot as plt\n",
    "import random\n",
    "import statsmodels.api as sm\n",
    "from statsmodels.iolib.summary2 import summary_col\n",
    "from math import sqrt\n",
    "\n",
    "from sklearn.model_selection import train_test_split\n",
    "from sklearn.model_selection import GridSearchCV\n",
    "from sklearn.metrics import mean_squared_error\n",
    "from sklearn.linear_model import Lasso, LassoCV\n",
    "from sklearn.linear_model import Ridge, RidgeCV\n",
    "from sklearn.preprocessing import normalize\n",
    "import scipy.cluster.hierarchy as shc\n",
    "from sklearn.cluster import AgglomerativeClustering\n",
    "from sklearn.cluster import KMeans\n",
    "from sklearn.decomposition import PCA\n",
    "\n",
    "from sklearn.linear_model import LogisticRegression\n",
    "from sklearn.linear_model import LinearRegression\n",
    "from sklearn.metrics import classification_report, confusion_matrix\n",
    "from sklearn.neural_network import MLPClassifier\n",
    "from sklearn.metrics import accuracy_score\n",
    "from sklearn.preprocessing import StandardScaler\n",
    "from sklearn.pipeline import make_pipeline"
   ]
  },
  {
   "cell_type": "markdown",
   "id": "91c06c87",
   "metadata": {},
   "source": [
    "# I.     CODING EFFICIENCY AND COMMENTING\n",
    "Points will be given according to the efficiency and cleanliness of your code. It should produce output that answers the questions from the homework only and everything should be commented. Furthermore, your writeup and code should be submitted both to Canvas through Gradescope. These points are meant to encourage and reward good coding habits."
   ]
  },
  {
   "cell_type": "markdown",
   "id": "0ebd5071",
   "metadata": {},
   "source": [
    "# II.     SIMULATED DATA AND MODEL MISSPECIFICATION\n",
    "#### 1.     Set the random seed to be equal to 1680."
   ]
  },
  {
   "cell_type": "code",
   "execution_count": 5,
   "id": "69857c5c",
   "metadata": {},
   "outputs": [],
   "source": [
    "random.seed(1680)"
   ]
  },
  {
   "cell_type": "markdown",
   "id": "6a0a5d77",
   "metadata": {},
   "source": [
    "1a.     Generate a random integer between (0,10). Hint: use random.randint"
   ]
  },
  {
   "cell_type": "code",
   "execution_count": 6,
   "id": "e3e902b1",
   "metadata": {},
   "outputs": [
    {
     "name": "stdout",
     "output_type": "stream",
     "text": [
      "4\n"
     ]
    }
   ],
   "source": [
    "print(random.randint(0,10))"
   ]
  },
  {
   "cell_type": "markdown",
   "id": "09e474fc",
   "metadata": {},
   "source": [
    "1b.     What is that random integer? \\\n",
    "Answer: 4"
   ]
  },
  {
   "cell_type": "markdown",
   "id": "06a6cead",
   "metadata": {},
   "source": [
    "1c.     Why is it important to set a random seed when coding random variables?\\\n",
    "Answer: it allows for reproducibility"
   ]
  },
  {
   "cell_type": "markdown",
   "id": "87ec85ee",
   "metadata": {},
   "source": [
    "#### 2. Comment to explain each line of code below and run the following code to generate data:\n",
    "*You will need to copy and paste the code below into a code block*:\n",
    "``` python\n",
    "rng=np.random.RandomState(1680) \n",
    "N = 100\n",
    "input_range = 4\n",
    "X = np.sort(rng.rand(N)*input_range - input_range/2)\n",
    "noise = rng.randn(N)*0.8\n",
    " \n",
    "linear = 5*X +noise\n",
    "quadratic =-2*X**2 +noise\n",
    "cubic = X**3 - 0.5*X**2 + noise\n",
    "```\n",
    "\n"
   ]
  },
  {
   "cell_type": "code",
   "execution_count": 3,
   "id": "c89e4176",
   "metadata": {},
   "outputs": [],
   "source": [
    "# initializes a random number generator with a seed\n",
    "rng=np.random.RandomState(1680) \n",
    "# sets N and input_range \n",
    "N = 100\n",
    "input_range = 4\n",
    "# generates an array of size N, multiplying each value by 4 (scales array between 0 and 4), and then subtracting 2 from each value (array now scaled between -2 and 2)\n",
    "X = np.sort(rng.rand(N)*input_range - input_range/2)\n",
    "# generates an array called noise, multiplying each value by 0.8 \n",
    "noise = rng.randn(N)*0.8\n",
    "\n",
    "# generates an array of linearly distributed variables \n",
    "linear = 5*X +noise\n",
    "# generates an array of quadratic distributed variables \n",
    "quadratic =-2*X**2 +noise\n",
    "# generates an array of cubic distributed variables \n",
    "cubic = X**3 - 0.5*X**2 + noise"
   ]
  },
  {
   "cell_type": "markdown",
   "id": "9b36be45",
   "metadata": {},
   "source": [
    "#### 3. Produce a scatter plot that has all three series (linear, quadratic, and cubic) on the same set of axes with a legend identifying which color is which series and X on the x axis.\n",
    "Insert graph here:\n"
   ]
  },
  {
   "cell_type": "code",
   "execution_count": 4,
   "id": "c9b91121",
   "metadata": {},
   "outputs": [
    {
     "data": {
      "image/png": "[encoded data removed]",
      "text/plain": [
       "<Figure size 432x288 with 1 Axes>"
      ]
     },
     "metadata": {
      "needs_background": "light"
     },
     "output_type": "display_data"
    }
   ],
   "source": [
    "\n",
    "plt.scatter(X, linear, label='Linear', color='blue')\n",
    "plt.scatter(X, quadratic, label='Quadratic', color='green')\n",
    "plt.scatter(X, cubic, label='Cubic', color='red')\n",
    "plt.xlabel('X')\n",
    "plt.ylabel('Y')\n",
    "plt.legend()\n",
    "plt.show()"
   ]
  },
  {
   "cell_type": "markdown",
   "id": "01f4a1b6",
   "metadata": {},
   "source": [
    "#### 4. Run three OLS regressions of the following specification:\n",
    "$$Y_i = b_1 * X$$\n",
    "Where $Y_i$ is first the linear output (i=1), then the quadratic output (i=2), and then the cubic output (i=3).\n",
    "$$ result_i = sm.OLS(Y_i,X).fit() $$\n",
    "Label each of these fitted regressions result1, result2, result3, respectivelty. Then summarize the resutls together in one table using summary_col:\n",
    "``` python\n",
    "print(summary_col([result1,result2,result3],stars=True,\n",
    "float_format='%0.2f', regressor_order=['x1'], info_dict={'N':lambda x: \"{0:d}\".format(int(x.nobs))}, model_names =['Linear\\n(Linear)', 'Linear\\n(Quadratic)',      'Linear\\n(Cubed)'],))\n",
    "```\n",
    "Insert that summary table here:\n"
   ]
  },
  {
   "cell_type": "code",
   "execution_count": 5,
   "id": "9f4097f9",
   "metadata": {},
   "outputs": [
    {
     "name": "stdout",
     "output_type": "stream",
     "text": [
      "\n",
      "===========================================\n",
      "                Linear     Linear    Linear\n",
      "               (Linear) (Quadratic) (Cubed)\n",
      "-------------------------------------------\n",
      "x1             5.13***  0.29        2.42***\n",
      "               (0.07)   (0.30)      (0.15) \n",
      "R-squared      0.98     0.01        0.72   \n",
      "R-squared Adj. 0.98     -0.00       0.71   \n",
      "N              100      100         100    \n",
      "===========================================\n",
      "Standard errors in parentheses.\n",
      "* p<.1, ** p<.05, ***p<.01\n"
     ]
    }
   ],
   "source": [
    "result1 = sm.OLS(linear, X).fit()\n",
    "result2 = sm.OLS(quadratic, X).fit()\n",
    "result3 = sm.OLS(cubic, X).fit()\n",
    "print(summary_col([result1,result2,result3],stars=True,\n",
    "float_format='%0.2f', regressor_order=['x1'], info_dict={'N':lambda x: \"{0:d}\".format(int(x.nobs))}, model_names =['Linear\\n(Linear)', 'Linear\\n(Quadratic)','Linear\\n(Cubed)'],))"
   ]
  },
  {
   "cell_type": "markdown",
   "id": "7d46cd19",
   "metadata": {},
   "source": [
    "#### 5. Add a squared input to the regressors using: \n",
    "```\n",
    "data_sq = np.vstack((X,X**2)).T\n",
    "```\n",
    "and then run three OLS regressions of the following form\n",
    "$$ Y_i = \\beta_1 * X + \\beta_2 * X^2$$\n",
    "Where $Y_i$ is the first linear output (i=4), then the quadratic output (i=5), and then the cubic output (i=6). And label each of the regressions according to:\n",
    "``` python\n",
    "resulti = sm.OLS(Yi,data_sq).fit()\n",
    "```\n",
    "produce a summary table like in the previous question for regressions 1-6. Make the regressor order: \n",
    "``` python\n",
    "regressor_order = ['x1','x2']\n",
    "```\n",
    "Add the folling three element the model_names list for regressions 4-6:\n",
    "``` python\n",
    "'Quadratic\\n(Linear)','Quadratic\\n(Quadratic)','Quadratic\\n(Cubed)'\n",
    "```\n",
    "Insert that table here:\n"
   ]
  },
  {
   "cell_type": "code",
   "execution_count": 6,
   "id": "f2a6b5b9",
   "metadata": {},
   "outputs": [
    {
     "name": "stdout",
     "output_type": "stream",
     "text": [
      "\n",
      "===========================================================================\n",
      "                Linear     Linear    Linear Quadratic  Quadratic  Quadratic\n",
      "               (Linear) (Quadratic) (Cubed)  (Linear) (Quadratic)  (Cubed) \n",
      "---------------------------------------------------------------------------\n",
      "x1             5.13***  0.29        2.42*** 5.13***   0.13*       2.37***  \n",
      "               (0.07)   (0.30)      (0.15)  (0.07)    (0.07)      (0.13)   \n",
      "x2                                          0.04      -1.96***    -0.53*** \n",
      "                                            (0.05)    (0.05)      (0.09)   \n",
      "R-squared      0.98     0.01        0.72    0.98      0.94        0.79     \n",
      "R-squared Adj. 0.98     -0.00       0.71    0.98      0.94        0.79     \n",
      "N              100      100         100     100       100         100      \n",
      "===========================================================================\n",
      "Standard errors in parentheses.\n",
      "* p<.1, ** p<.05, ***p<.01\n"
     ]
    }
   ],
   "source": [
    "data_sq = np.vstack((X, X**2)).T\n",
    "result4 = sm.OLS(linear, data_sq).fit()\n",
    "result5 = sm.OLS(quadratic, data_sq).fit()\n",
    "result6 = sm.OLS(cubic, data_sq).fit()\n",
    "print(summary_col([result1,result2,result3,result4,result5,result6],stars=True,\n",
    "float_format='%0.2f', regressor_order=['x1','x2'], info_dict={'N':lambda x: \"{0:d}\".format(int(x.nobs))}, model_names =['Linear\\n(Linear)', 'Linear\\n(Quadratic)','Linear\\n(Cubed)','Quadratic\\n(Linear)','Quadratic\\n(Quadratic)','Quadratic\\n(Cubed)'],))\n"
   ]
  },
  {
   "cell_type": "markdown",
   "id": "31ce98d2",
   "metadata": {},
   "source": [
    "#### 6. Add a cubed input (X**3) to the regressors from the previous question using vstack and then run three OLS regressions of the following form:\n",
    "\n",
    "$Y_i = β_1 * X +  β_2 * X^2+β_3 * X^3$\n",
    "\n",
    "produce a summary table like in the previous question for regressions 1-9. Make the regressor order:\n",
    "regressor_order=['x1','x2','x3']\n",
    "Add the following three elements the model_names list for regressions 7-9: \n",
    "'Cubed\\n(Linear)','Cubed\\n(Quadratic)','Cubed\\n(Cubed)'\n",
    "\n",
    "Insert that table here:"
   ]
  },
  {
   "cell_type": "code",
   "execution_count": 7,
   "id": "96caed31",
   "metadata": {},
   "outputs": [
    {
     "name": "stdout",
     "output_type": "stream",
     "text": [
      "\n",
      "=========================================================================================================\n",
      "                Linear     Linear    Linear Quadratic  Quadratic  Quadratic  Cubed      Cubed     Cubed  \n",
      "               (Linear) (Quadratic) (Cubed)  (Linear) (Quadratic)  (Cubed)  (Linear) (Quadratic) (Cubed) \n",
      "---------------------------------------------------------------------------------------------------------\n",
      "x1             5.13***  0.29        2.42*** 5.13***   0.13*       2.37***   5.18***  0.18        0.18    \n",
      "               (0.07)   (0.30)      (0.15)  (0.07)    (0.07)      (0.13)    (0.17)   (0.17)      (0.17)  \n",
      "x2                                          0.04      -1.96***    -0.53***  0.04     -1.96***    -0.46***\n",
      "                                            (0.05)    (0.05)      (0.09)    (0.05)   (0.05)      (0.05)  \n",
      "x3                                                                          -0.02    -0.02       0.98*** \n",
      "                                                                            (0.07)   (0.07)      (0.07)  \n",
      "R-squared      0.98     0.01        0.72    0.98      0.94        0.79      0.98     0.94        0.94    \n",
      "R-squared Adj. 0.98     -0.00       0.71    0.98      0.94        0.79      0.98     0.94        0.93    \n",
      "N              100      100         100     100       100         100       100      100         100     \n",
      "=========================================================================================================\n",
      "Standard errors in parentheses.\n",
      "* p<.1, ** p<.05, ***p<.01\n"
     ]
    }
   ],
   "source": [
    "data_cubed = np.vstack((X, X**2, X**3)).T\n",
    "result7 = sm.OLS(linear, data_cubed).fit()\n",
    "result8 = sm.OLS(quadratic, data_cubed).fit()\n",
    "result9 = sm.OLS(cubic, data_cubed).fit()\n",
    "print(summary_col([result1,result2,result3,result4,result5,result6,result7,result8,result9],stars=True,\n",
    "float_format='%0.2f', regressor_order=['x1', 'x2', 'x3'], info_dict={'N':lambda x: \"{0:d}\".format(int(x.nobs))}, model_names =['Linear\\n(Linear)', 'Linear\\n(Quadratic)','Linear\\n(Cubed)','Quadratic\\n(Linear)','Quadratic\\n(Quadratic)','Quadratic\\n(Cubed)','Cubed\\n(Linear)','Cubed\\n(Quadratic)','Cubed\\n(Cubed)'],))\n"
   ]
  },
  {
   "cell_type": "markdown",
   "id": "a8bb838e",
   "metadata": {},
   "source": [
    "#### 7. Compare and contrast the coefficients over the 9 regressions in 3-4 sentences. You know that the linear, quadratic, and cubic output variables should have a linear, quadratic, and cubic relationship with the regressor X, respectively, based on the data generation. Do you notice anything surprising? What coefficients match your expectation based on the data generating process? \n",
    "\n",
    "\n",
    "Answer here: It makes sense that x1 has a statistically significant relationship with all the linear distributed data (columns 1, 4, 7) even as x2 and x3 gets added in the regression. It also makes sense that x2 has a statistically significant relationship with the quadratically distributed data (columns 5 and 8), and that x3 has a statistically significant relationship with the cubic distributed data (column 9). However, it is interesting that x1 has a statistically significant linear relationship with the cubic data (column 3 and 6) but it makes sense that this relationship goes away when x3 is added (column 9)."
   ]
  },
  {
   "cell_type": "markdown",
   "id": "90196aa8",
   "metadata": {},
   "source": [
    "#### 8.  Now, re-run the data generation code from part 1 but make 1000 observations instead of 100. That is, N=1000. Run regressions i=1 through i=9, and produce a single summary table using summary_col with all 9 regressions results.\n",
    "\n",
    "Insert that table here:"
   ]
  },
  {
   "cell_type": "code",
   "execution_count": 8,
   "id": "859a77cb",
   "metadata": {},
   "outputs": [],
   "source": [
    "# Write the code you need (if any) to answer the questions above\n",
    "N = 1000\n",
    "input_range = 4\n",
    "X = np.sort(rng.rand(N)*input_range - input_range/2)\n",
    "noise = rng.randn(N)*0.8\n",
    "linear = 5*X +noise\n",
    "quadratic =-2*X**2 +noise\n",
    "cubic = X**3 - 0.5*X**2 + noise"
   ]
  },
  {
   "cell_type": "code",
   "execution_count": 9,
   "id": "6291a890",
   "metadata": {},
   "outputs": [],
   "source": [
    "data_sq = np.vstack((X, X**2)).T\n",
    "data_cubed = np.vstack((X, X**2, X**3)).T\n"
   ]
  },
  {
   "cell_type": "code",
   "execution_count": 10,
   "id": "ae8b7a13",
   "metadata": {},
   "outputs": [
    {
     "name": "stdout",
     "output_type": "stream",
     "text": [
      "\n",
      "=========================================================================================================\n",
      "                Linear     Linear    Linear Quadratic  Quadratic  Quadratic  Cubed      Cubed     Cubed  \n",
      "               (Linear) (Quadratic) (Cubed)  (Linear) (Quadratic)  (Cubed)  (Linear) (Quadratic) (Cubed) \n",
      "---------------------------------------------------------------------------------------------------------\n",
      "x1             5.01***  -0.29***    2.37*** 5.02***   0.02        2.45***   5.01***  0.01        0.01    \n",
      "               (0.02)   (0.10)      (0.05)  (0.02)    (0.02)      (0.04)    (0.05)   (0.05)      (0.05)  \n",
      "x2                                          -0.01     -2.01***    -0.48***  -0.01    -2.01***    -0.51***\n",
      "                                            (0.01)    (0.01)      (0.03)    (0.01)   (0.01)      (0.01)  \n",
      "x3                                                                          0.00     0.00        1.00*** \n",
      "                                                                            (0.02)   (0.02)      (0.02)  \n",
      "R-squared      0.98     0.01        0.73    0.98      0.96        0.80      0.98     0.96        0.94    \n",
      "R-squared Adj. 0.98     0.01        0.73    0.98      0.96        0.80      0.98     0.96        0.94    \n",
      "N              1000     1000        1000    1000      1000        1000      1000     1000        1000    \n",
      "=========================================================================================================\n",
      "Standard errors in parentheses.\n",
      "* p<.1, ** p<.05, ***p<.01\n"
     ]
    }
   ],
   "source": [
    "result1 = sm.OLS(linear, X).fit()\n",
    "result2 = sm.OLS(quadratic, X).fit()\n",
    "result3 = sm.OLS(cubic, X).fit()\n",
    "result4 = sm.OLS(linear, data_sq).fit()\n",
    "result5 = sm.OLS(quadratic, data_sq).fit()\n",
    "result6 = sm.OLS(cubic, data_sq).fit()\n",
    "result7 = sm.OLS(linear, data_cubed).fit()\n",
    "result8 = sm.OLS(quadratic, data_cubed).fit()\n",
    "result9 = sm.OLS(cubic, data_cubed).fit()\n",
    "print(summary_col([result1,result2,result3,result4,result5,result6,result7,result8,result9],stars=True,\n",
    "float_format='%0.2f', regressor_order=['x1', 'x2', 'x3'], info_dict={'N':lambda x: \"{0:d}\".format(int(x.nobs))}, model_names =['Linear\\n(Linear)', 'Linear\\n(Quadratic)','Linear\\n(Cubed)','Quadratic\\n(Linear)','Quadratic\\n(Quadratic)','Quadratic\\n(Cubed)','Cubed\\n(Linear)','Cubed\\n(Quadratic)','Cubed\\n(Cubed)'],))\n"
   ]
  },
  {
   "cell_type": "markdown",
   "id": "b7aaa266",
   "metadata": {},
   "source": [
    "#### 9. What differences do you notice in the regression coefficients for N=100 versus N=1000? What similarities? Discuss these in 3-4 sentences. Hint: think about sample size.\n",
    "\n",
    "Answer here: The coefficients appear to be closer to the coefficients that we coded in when defining the distribution of the linear, quadratic and cubic variables (5, -2 and 1). This could be because as sample size increases, there are more data points that are able to cancel out the noise from each other, which leads to more accurate estimates. However, certain abnormalities (e.g. OLS still detecting a linear relationship between x1 and cubic distributed data before introducing x3) are still present. "
   ]
  },
  {
   "cell_type": "markdown",
   "id": "66b8f668",
   "metadata": {},
   "source": [
    "# III.  CLUSTERING POLITICAL VARIABLES\n",
    "\n",
    "#### 10. Load the FLS-data.csv file from the HW2 page in canvas as ‘df_fls’.\n"
   ]
  },
  {
   "cell_type": "code",
   "execution_count": 3,
   "id": "21a0a244",
   "metadata": {},
   "outputs": [],
   "source": [
    "# Write the code you need (if any) to answer the questions above\n",
    "df_fls = pd.read_csv('FLS-data.csv')"
   ]
  },
  {
   "cell_type": "markdown",
   "id": "a042e606",
   "metadata": {},
   "source": [
    "#### 11. Create a dataframe called “df_clustering” that only contains the following variables about political status in the different countries:\n",
    "``` python\n",
    "['Bl Mkt Pm', \n",
    "    'Civl Lib',\n",
    "    'Yrs Open',\n",
    "    'Pol Rights',\n",
    "    'Rule of Law',\n",
    "    'War Dummy',\n",
    "    'Rev & Coup']\n",
    "```"
   ]
  },
  {
   "cell_type": "code",
   "execution_count": 4,
   "id": "a9278a28",
   "metadata": {},
   "outputs": [],
   "source": [
    "df_clustering = df_fls[['Bl Mkt Pm', 'Civl Lib', 'Yrs Open', 'Pol Rights', 'Rule of Law', 'War Dummy', 'Rev & Coup']]\n"
   ]
  },
  {
   "cell_type": "markdown",
   "id": "9b3ea8ae",
   "metadata": {},
   "source": [
    "#### 12. Run the following code and explain each line.\n",
    "``` python\n",
    "df_scaled = normalize(df_clustering)\n",
    "\n",
    "df_scaled = pd.DataFrame(df_scaled, columns=df_clustering.columns, index=df_clustering.index)\n",
    "```"
   ]
  },
  {
   "cell_type": "code",
   "execution_count": 8,
   "id": "bbae6a45",
   "metadata": {},
   "outputs": [],
   "source": [
    "# normalize the data to a uniform scale \n",
    "df_scaled = normalize(df_clustering)\n",
    "# convert the normalized data into a new df with the same columns and index \n",
    "df_scaled = pd.DataFrame(df_scaled, columns=df_clustering.columns, index=df_clustering.index)"
   ]
  },
  {
   "cell_type": "markdown",
   "id": "9c27ed43",
   "metadata": {},
   "source": [
    "12a. Insert the first 5 lines of df_scaled here. Hint: use .head()\n",
    "\n",
    "Answer here:"
   ]
  },
  {
   "cell_type": "code",
   "execution_count": 9,
   "id": "2136a483",
   "metadata": {},
   "outputs": [
    {
     "data": {
      "text/html": [
       "<div>\n",
       "<style scoped>\n",
       "    .dataframe tbody tr th:only-of-type {\n",
       "        vertical-align: middle;\n",
       "    }\n",
       "\n",
       "    .dataframe tbody tr th {\n",
       "        vertical-align: top;\n",
       "    }\n",
       "\n",
       "    .dataframe thead th {\n",
       "        text-align: right;\n",
       "    }\n",
       "</style>\n",
       "<table border=\"1\" class=\"dataframe\">\n",
       "  <thead>\n",
       "    <tr style=\"text-align: right;\">\n",
       "      <th></th>\n",
       "      <th>Bl Mkt Pm</th>\n",
       "      <th>Civl Lib</th>\n",
       "      <th>Yrs Open</th>\n",
       "      <th>Pol Rights</th>\n",
       "      <th>Rule of Law</th>\n",
       "      <th>War Dummy</th>\n",
       "      <th>Rev &amp; Coup</th>\n",
       "    </tr>\n",
       "  </thead>\n",
       "  <tbody>\n",
       "    <tr>\n",
       "      <th>0</th>\n",
       "      <td>0.015788</td>\n",
       "      <td>0.709713</td>\n",
       "      <td>0.000000</td>\n",
       "      <td>0.703012</td>\n",
       "      <td>0.040168</td>\n",
       "      <td>0.000000</td>\n",
       "      <td>0.014824</td>\n",
       "    </tr>\n",
       "    <tr>\n",
       "      <th>1</th>\n",
       "      <td>0.019207</td>\n",
       "      <td>0.800305</td>\n",
       "      <td>0.094969</td>\n",
       "      <td>0.548369</td>\n",
       "      <td>0.222298</td>\n",
       "      <td>0.000000</td>\n",
       "      <td>0.000000</td>\n",
       "    </tr>\n",
       "    <tr>\n",
       "      <th>2</th>\n",
       "      <td>0.006072</td>\n",
       "      <td>0.674618</td>\n",
       "      <td>0.018943</td>\n",
       "      <td>0.735333</td>\n",
       "      <td>0.060715</td>\n",
       "      <td>0.000000</td>\n",
       "      <td>0.009714</td>\n",
       "    </tr>\n",
       "    <tr>\n",
       "      <th>3</th>\n",
       "      <td>0.005547</td>\n",
       "      <td>0.684145</td>\n",
       "      <td>0.000000</td>\n",
       "      <td>0.727291</td>\n",
       "      <td>0.036977</td>\n",
       "      <td>0.000000</td>\n",
       "      <td>0.039939</td>\n",
       "    </tr>\n",
       "    <tr>\n",
       "      <th>4</th>\n",
       "      <td>0.016449</td>\n",
       "      <td>0.697087</td>\n",
       "      <td>0.000000</td>\n",
       "      <td>0.702950</td>\n",
       "      <td>0.052721</td>\n",
       "      <td>0.105442</td>\n",
       "      <td>0.075918</td>\n",
       "    </tr>\n",
       "  </tbody>\n",
       "</table>\n",
       "</div>"
      ],
      "text/plain": [
       "   Bl Mkt Pm  Civl Lib  Yrs Open  Pol Rights  Rule of Law  War Dummy  \\\n",
       "0   0.015788  0.709713  0.000000    0.703012     0.040168   0.000000   \n",
       "1   0.019207  0.800305  0.094969    0.548369     0.222298   0.000000   \n",
       "2   0.006072  0.674618  0.018943    0.735333     0.060715   0.000000   \n",
       "3   0.005547  0.684145  0.000000    0.727291     0.036977   0.000000   \n",
       "4   0.016449  0.697087  0.000000    0.702950     0.052721   0.105442   \n",
       "\n",
       "   Rev & Coup  \n",
       "0    0.014824  \n",
       "1    0.000000  \n",
       "2    0.009714  \n",
       "3    0.039939  \n",
       "4    0.075918  "
      ]
     },
     "execution_count": 9,
     "metadata": {},
     "output_type": "execute_result"
    }
   ],
   "source": [
    "df_scaled.head()\n"
   ]
  },
  {
   "cell_type": "markdown",
   "id": "095ff4e8",
   "metadata": {},
   "source": [
    "12b.  Why do you need to respecify column and index labels?\n",
    "\n",
    "Answer here: It allows the new df to preserve the specifications of the previous one, since normalize() does not retain information on column names or index labels."
   ]
  },
  {
   "cell_type": "markdown",
   "id": "373f8fb9",
   "metadata": {},
   "source": [
    "#### 13. Plot a dendrogram using shc.dentrogram and shc.linkage for df_scaled with the ward method for the linkage (method=’ward’). \n",
    "13a. Add a title to the graph: \"Dendrogram of Countries Along Political Variables\" and\n",
    "present the graph below.\n",
    "\n",
    "Insert graph here:"
   ]
  },
  {
   "cell_type": "code",
   "execution_count": 9,
   "id": "ab963fb1",
   "metadata": {},
   "outputs": [
    {
     "data": {
      "image/png": "[encoded data removed]",
      "text/plain": [
       "<Figure size 432x288 with 1 Axes>"
      ]
     },
     "metadata": {
      "needs_background": "light"
     },
     "output_type": "display_data"
    }
   ],
   "source": [
    "clusters = shc.linkage(df_scaled, \n",
    "            method='ward')\n",
    "shc.dendrogram(clusters)\n",
    "plt.title('Dendrogram')\n",
    "plt.xlabel('Countries')\n",
    "plt.title('Dendrogram of Countries Along Political Variables')\n",
    "plt.show()"
   ]
  },
  {
   "cell_type": "markdown",
   "id": "05f40641",
   "metadata": {},
   "source": [
    "13b. Add plt.axhline(y= _, color=’r’, linestyle=’--‘) to plot to\n",
    "show where there is the largest gap between clusters. Hint: you need to set the\n",
    "“y=…” to a number. Produce a new graph with the line.\n",
    "\n",
    "Insert graph here:\n"
   ]
  },
  {
   "cell_type": "code",
   "execution_count": 8,
   "id": "028d620c",
   "metadata": {},
   "outputs": [
    {
     "data": {
      "image/png": "[encoded data removed]",
      "text/plain": [
       "<Figure size 432x288 with 1 Axes>"
      ]
     },
     "metadata": {
      "needs_background": "light"
     },
     "output_type": "display_data"
    }
   ],
   "source": [
    "clusters = shc.linkage(df_scaled, \n",
    "            method='ward')\n",
    "shc.dendrogram(clusters)\n",
    "plt.title('Dendrogram')\n",
    "plt.xlabel('Countries')\n",
    "plt.axhline(y=2,color='r',linestyle='--')\n",
    "plt.title('Dendrogram of Countries Along Political Variables')\n",
    "plt.show()"
   ]
  },
  {
   "cell_type": "markdown",
   "id": "0cf3e914",
   "metadata": {},
   "source": [
    "13c. How many clusters does this imply you should have? Hint: look at where the\n",
    "dendrogram switches colors from top to bottom.\n",
    "\n",
    "Answer: There should be 2 clusters "
   ]
  },
  {
   "cell_type": "markdown",
   "id": "e3344f1b",
   "metadata": {},
   "source": [
    "#### 14. Create N clusters where N is the number of clusters from the previous question, using different clustering methods:\n",
    "14a.  Hierarchical Clustering: Use AgglomerativeClustering with the options for\n",
    "affinity=’euclidean’, and linkage=’ward’. Fit the prediction to df_scaled and save the cluster labels as a new column in the df_scaled dataframe with a column title\n",
    "‘HC labels’.\n"
   ]
  },
  {
   "cell_type": "code",
   "execution_count": 10,
   "id": "f862c4c8",
   "metadata": {},
   "outputs": [
    {
     "data": {
      "text/html": [
       "<div>\n",
       "<style scoped>\n",
       "    .dataframe tbody tr th:only-of-type {\n",
       "        vertical-align: middle;\n",
       "    }\n",
       "\n",
       "    .dataframe tbody tr th {\n",
       "        vertical-align: top;\n",
       "    }\n",
       "\n",
       "    .dataframe thead th {\n",
       "        text-align: right;\n",
       "    }\n",
       "</style>\n",
       "<table border=\"1\" class=\"dataframe\">\n",
       "  <thead>\n",
       "    <tr style=\"text-align: right;\">\n",
       "      <th></th>\n",
       "      <th>Bl Mkt Pm</th>\n",
       "      <th>Civl Lib</th>\n",
       "      <th>Yrs Open</th>\n",
       "      <th>Pol Rights</th>\n",
       "      <th>Rule of Law</th>\n",
       "      <th>War Dummy</th>\n",
       "      <th>Rev &amp; Coup</th>\n",
       "      <th>HC Labels</th>\n",
       "    </tr>\n",
       "  </thead>\n",
       "  <tbody>\n",
       "    <tr>\n",
       "      <th>0</th>\n",
       "      <td>0.015788</td>\n",
       "      <td>0.709713</td>\n",
       "      <td>0.000000</td>\n",
       "      <td>0.703012</td>\n",
       "      <td>0.040168</td>\n",
       "      <td>0.000000</td>\n",
       "      <td>0.014824</td>\n",
       "      <td>0</td>\n",
       "    </tr>\n",
       "    <tr>\n",
       "      <th>1</th>\n",
       "      <td>0.019207</td>\n",
       "      <td>0.800305</td>\n",
       "      <td>0.094969</td>\n",
       "      <td>0.548369</td>\n",
       "      <td>0.222298</td>\n",
       "      <td>0.000000</td>\n",
       "      <td>0.000000</td>\n",
       "      <td>0</td>\n",
       "    </tr>\n",
       "    <tr>\n",
       "      <th>2</th>\n",
       "      <td>0.006072</td>\n",
       "      <td>0.674618</td>\n",
       "      <td>0.018943</td>\n",
       "      <td>0.735333</td>\n",
       "      <td>0.060715</td>\n",
       "      <td>0.000000</td>\n",
       "      <td>0.009714</td>\n",
       "      <td>0</td>\n",
       "    </tr>\n",
       "    <tr>\n",
       "      <th>3</th>\n",
       "      <td>0.005547</td>\n",
       "      <td>0.684145</td>\n",
       "      <td>0.000000</td>\n",
       "      <td>0.727291</td>\n",
       "      <td>0.036977</td>\n",
       "      <td>0.000000</td>\n",
       "      <td>0.039939</td>\n",
       "      <td>0</td>\n",
       "    </tr>\n",
       "    <tr>\n",
       "      <th>4</th>\n",
       "      <td>0.016449</td>\n",
       "      <td>0.697087</td>\n",
       "      <td>0.000000</td>\n",
       "      <td>0.702950</td>\n",
       "      <td>0.052721</td>\n",
       "      <td>0.105442</td>\n",
       "      <td>0.075918</td>\n",
       "      <td>0</td>\n",
       "    </tr>\n",
       "  </tbody>\n",
       "</table>\n",
       "</div>"
      ],
      "text/plain": [
       "   Bl Mkt Pm  Civl Lib  Yrs Open  Pol Rights  Rule of Law  War Dummy  \\\n",
       "0   0.015788  0.709713  0.000000    0.703012     0.040168   0.000000   \n",
       "1   0.019207  0.800305  0.094969    0.548369     0.222298   0.000000   \n",
       "2   0.006072  0.674618  0.018943    0.735333     0.060715   0.000000   \n",
       "3   0.005547  0.684145  0.000000    0.727291     0.036977   0.000000   \n",
       "4   0.016449  0.697087  0.000000    0.702950     0.052721   0.105442   \n",
       "\n",
       "   Rev & Coup  HC Labels  \n",
       "0    0.014824          0  \n",
       "1    0.000000          0  \n",
       "2    0.009714          0  \n",
       "3    0.039939          0  \n",
       "4    0.075918          0  "
      ]
     },
     "execution_count": 10,
     "metadata": {},
     "output_type": "execute_result"
    }
   ],
   "source": [
    "agg_clustering = AgglomerativeClustering(affinity='euclidean', linkage='ward', n_clusters=2)\n",
    "df_scaled['HC Labels'] = agg_clustering.fit_predict(df_scaled)"
   ]
  },
  {
   "cell_type": "markdown",
   "id": "da562211",
   "metadata": {},
   "source": [
    "14b. KMeans Clustering: Use KMeans with the option for random_state=1680. Fit\n",
    "KMeans to df_scaled and save the cluster labels as a new column in the df_scaled\n",
    "dataframe with a column title ‘KM labels’."
   ]
  },
  {
   "cell_type": "code",
   "execution_count": 11,
   "id": "059550e4",
   "metadata": {},
   "outputs": [
    {
     "name": "stderr",
     "output_type": "stream",
     "text": [
      "c:\\Users\\Nadya\\anaconda3\\envs\\ECON1680\\lib\\site-packages\\sklearn\\cluster\\_kmeans.py:1334: UserWarning: KMeans is known to have a memory leak on Windows with MKL, when there are less chunks than available threads. You can avoid it by setting the environment variable OMP_NUM_THREADS=1.\n",
      "  warnings.warn(\n"
     ]
    },
    {
     "data": {
      "text/html": [
       "<div>\n",
       "<style scoped>\n",
       "    .dataframe tbody tr th:only-of-type {\n",
       "        vertical-align: middle;\n",
       "    }\n",
       "\n",
       "    .dataframe tbody tr th {\n",
       "        vertical-align: top;\n",
       "    }\n",
       "\n",
       "    .dataframe thead th {\n",
       "        text-align: right;\n",
       "    }\n",
       "</style>\n",
       "<table border=\"1\" class=\"dataframe\">\n",
       "  <thead>\n",
       "    <tr style=\"text-align: right;\">\n",
       "      <th></th>\n",
       "      <th>Bl Mkt Pm</th>\n",
       "      <th>Civl Lib</th>\n",
       "      <th>Yrs Open</th>\n",
       "      <th>Pol Rights</th>\n",
       "      <th>Rule of Law</th>\n",
       "      <th>War Dummy</th>\n",
       "      <th>Rev &amp; Coup</th>\n",
       "      <th>HC Labels</th>\n",
       "      <th>KM Labels</th>\n",
       "    </tr>\n",
       "  </thead>\n",
       "  <tbody>\n",
       "    <tr>\n",
       "      <th>0</th>\n",
       "      <td>0.015788</td>\n",
       "      <td>0.709713</td>\n",
       "      <td>0.000000</td>\n",
       "      <td>0.703012</td>\n",
       "      <td>0.040168</td>\n",
       "      <td>0.000000</td>\n",
       "      <td>0.014824</td>\n",
       "      <td>0</td>\n",
       "      <td>1</td>\n",
       "    </tr>\n",
       "    <tr>\n",
       "      <th>1</th>\n",
       "      <td>0.019207</td>\n",
       "      <td>0.800305</td>\n",
       "      <td>0.094969</td>\n",
       "      <td>0.548369</td>\n",
       "      <td>0.222298</td>\n",
       "      <td>0.000000</td>\n",
       "      <td>0.000000</td>\n",
       "      <td>0</td>\n",
       "      <td>1</td>\n",
       "    </tr>\n",
       "    <tr>\n",
       "      <th>2</th>\n",
       "      <td>0.006072</td>\n",
       "      <td>0.674618</td>\n",
       "      <td>0.018943</td>\n",
       "      <td>0.735333</td>\n",
       "      <td>0.060715</td>\n",
       "      <td>0.000000</td>\n",
       "      <td>0.009714</td>\n",
       "      <td>0</td>\n",
       "      <td>1</td>\n",
       "    </tr>\n",
       "    <tr>\n",
       "      <th>3</th>\n",
       "      <td>0.005547</td>\n",
       "      <td>0.684145</td>\n",
       "      <td>0.000000</td>\n",
       "      <td>0.727291</td>\n",
       "      <td>0.036977</td>\n",
       "      <td>0.000000</td>\n",
       "      <td>0.039939</td>\n",
       "      <td>0</td>\n",
       "      <td>1</td>\n",
       "    </tr>\n",
       "    <tr>\n",
       "      <th>4</th>\n",
       "      <td>0.016449</td>\n",
       "      <td>0.697087</td>\n",
       "      <td>0.000000</td>\n",
       "      <td>0.702950</td>\n",
       "      <td>0.052721</td>\n",
       "      <td>0.105442</td>\n",
       "      <td>0.075918</td>\n",
       "      <td>0</td>\n",
       "      <td>1</td>\n",
       "    </tr>\n",
       "  </tbody>\n",
       "</table>\n",
       "</div>"
      ],
      "text/plain": [
       "   Bl Mkt Pm  Civl Lib  Yrs Open  Pol Rights  Rule of Law  War Dummy  \\\n",
       "0   0.015788  0.709713  0.000000    0.703012     0.040168   0.000000   \n",
       "1   0.019207  0.800305  0.094969    0.548369     0.222298   0.000000   \n",
       "2   0.006072  0.674618  0.018943    0.735333     0.060715   0.000000   \n",
       "3   0.005547  0.684145  0.000000    0.727291     0.036977   0.000000   \n",
       "4   0.016449  0.697087  0.000000    0.702950     0.052721   0.105442   \n",
       "\n",
       "   Rev & Coup  HC Labels  KM Labels  \n",
       "0    0.014824          0          1  \n",
       "1    0.000000          0          1  \n",
       "2    0.009714          0          1  \n",
       "3    0.039939          0          1  \n",
       "4    0.075918          0          1  "
      ]
     },
     "execution_count": 11,
     "metadata": {},
     "output_type": "execute_result"
    }
   ],
   "source": [
    "kmeans = KMeans(random_state=1680, n_clusters=2)\n",
    "df_scaled['KM Labels'] = kmeans.fit_predict(df_scaled)"
   ]
  },
  {
   "cell_type": "markdown",
   "id": "25618165",
   "metadata": {},
   "source": [
    "#### 15. Create 4 clusters using different clustering methods: \n",
    "15a. Hierarchical Clustering: Use AgglomerativeClustering with the options for\n",
    "affinity=’euclidean’, and linkage=’ward’. Fit the prediction to df_scaled and save\n",
    "the cluster labels as a new column in the df_scaled dataframe with a column title\n",
    "‘HC labels 4’. \n"
   ]
  },
  {
   "cell_type": "code",
   "execution_count": 12,
   "id": "d6440d7e",
   "metadata": {},
   "outputs": [
    {
     "data": {
      "text/html": [
       "<div>\n",
       "<style scoped>\n",
       "    .dataframe tbody tr th:only-of-type {\n",
       "        vertical-align: middle;\n",
       "    }\n",
       "\n",
       "    .dataframe tbody tr th {\n",
       "        vertical-align: top;\n",
       "    }\n",
       "\n",
       "    .dataframe thead th {\n",
       "        text-align: right;\n",
       "    }\n",
       "</style>\n",
       "<table border=\"1\" class=\"dataframe\">\n",
       "  <thead>\n",
       "    <tr style=\"text-align: right;\">\n",
       "      <th></th>\n",
       "      <th>Bl Mkt Pm</th>\n",
       "      <th>Civl Lib</th>\n",
       "      <th>Yrs Open</th>\n",
       "      <th>Pol Rights</th>\n",
       "      <th>Rule of Law</th>\n",
       "      <th>War Dummy</th>\n",
       "      <th>Rev &amp; Coup</th>\n",
       "      <th>HC Labels</th>\n",
       "      <th>KM Labels</th>\n",
       "      <th>HC Labels 4</th>\n",
       "    </tr>\n",
       "  </thead>\n",
       "  <tbody>\n",
       "    <tr>\n",
       "      <th>0</th>\n",
       "      <td>0.015788</td>\n",
       "      <td>0.709713</td>\n",
       "      <td>0.000000</td>\n",
       "      <td>0.703012</td>\n",
       "      <td>0.040168</td>\n",
       "      <td>0.000000</td>\n",
       "      <td>0.014824</td>\n",
       "      <td>0</td>\n",
       "      <td>1</td>\n",
       "      <td>2</td>\n",
       "    </tr>\n",
       "    <tr>\n",
       "      <th>1</th>\n",
       "      <td>0.019207</td>\n",
       "      <td>0.800305</td>\n",
       "      <td>0.094969</td>\n",
       "      <td>0.548369</td>\n",
       "      <td>0.222298</td>\n",
       "      <td>0.000000</td>\n",
       "      <td>0.000000</td>\n",
       "      <td>0</td>\n",
       "      <td>1</td>\n",
       "      <td>2</td>\n",
       "    </tr>\n",
       "    <tr>\n",
       "      <th>2</th>\n",
       "      <td>0.006072</td>\n",
       "      <td>0.674618</td>\n",
       "      <td>0.018943</td>\n",
       "      <td>0.735333</td>\n",
       "      <td>0.060715</td>\n",
       "      <td>0.000000</td>\n",
       "      <td>0.009714</td>\n",
       "      <td>0</td>\n",
       "      <td>1</td>\n",
       "      <td>2</td>\n",
       "    </tr>\n",
       "    <tr>\n",
       "      <th>3</th>\n",
       "      <td>0.005547</td>\n",
       "      <td>0.684145</td>\n",
       "      <td>0.000000</td>\n",
       "      <td>0.727291</td>\n",
       "      <td>0.036977</td>\n",
       "      <td>0.000000</td>\n",
       "      <td>0.039939</td>\n",
       "      <td>0</td>\n",
       "      <td>1</td>\n",
       "      <td>2</td>\n",
       "    </tr>\n",
       "    <tr>\n",
       "      <th>4</th>\n",
       "      <td>0.016449</td>\n",
       "      <td>0.697087</td>\n",
       "      <td>0.000000</td>\n",
       "      <td>0.702950</td>\n",
       "      <td>0.052721</td>\n",
       "      <td>0.105442</td>\n",
       "      <td>0.075918</td>\n",
       "      <td>0</td>\n",
       "      <td>1</td>\n",
       "      <td>3</td>\n",
       "    </tr>\n",
       "  </tbody>\n",
       "</table>\n",
       "</div>"
      ],
      "text/plain": [
       "   Bl Mkt Pm  Civl Lib  Yrs Open  Pol Rights  Rule of Law  War Dummy  \\\n",
       "0   0.015788  0.709713  0.000000    0.703012     0.040168   0.000000   \n",
       "1   0.019207  0.800305  0.094969    0.548369     0.222298   0.000000   \n",
       "2   0.006072  0.674618  0.018943    0.735333     0.060715   0.000000   \n",
       "3   0.005547  0.684145  0.000000    0.727291     0.036977   0.000000   \n",
       "4   0.016449  0.697087  0.000000    0.702950     0.052721   0.105442   \n",
       "\n",
       "   Rev & Coup  HC Labels  KM Labels  HC Labels 4  \n",
       "0    0.014824          0          1            2  \n",
       "1    0.000000          0          1            2  \n",
       "2    0.009714          0          1            2  \n",
       "3    0.039939          0          1            2  \n",
       "4    0.075918          0          1            3  "
      ]
     },
     "execution_count": 12,
     "metadata": {},
     "output_type": "execute_result"
    }
   ],
   "source": [
    "agg_clustering = AgglomerativeClustering(affinity='euclidean', linkage='ward', n_clusters=4)\n",
    "df_scaled['HC Labels 4'] = agg_clustering.fit_predict(df_scaled)"
   ]
  },
  {
   "cell_type": "markdown",
   "id": "5bbc3015",
   "metadata": {},
   "source": [
    "15b. KMeans Clustering: Use KMeans with the option for random_state=1680. Fit\n",
    "KMeans to df_scaled and save the cluster labels as a new column in the df_scaled\n",
    "dataframe with a column title ‘KM labels 4’."
   ]
  },
  {
   "cell_type": "code",
   "execution_count": 13,
   "id": "bf68046e",
   "metadata": {},
   "outputs": [
    {
     "name": "stderr",
     "output_type": "stream",
     "text": [
      "c:\\Users\\Nadya\\anaconda3\\envs\\ECON1680\\lib\\site-packages\\sklearn\\cluster\\_kmeans.py:1334: UserWarning: KMeans is known to have a memory leak on Windows with MKL, when there are less chunks than available threads. You can avoid it by setting the environment variable OMP_NUM_THREADS=1.\n",
      "  warnings.warn(\n"
     ]
    },
    {
     "data": {
      "text/html": [
       "<div>\n",
       "<style scoped>\n",
       "    .dataframe tbody tr th:only-of-type {\n",
       "        vertical-align: middle;\n",
       "    }\n",
       "\n",
       "    .dataframe tbody tr th {\n",
       "        vertical-align: top;\n",
       "    }\n",
       "\n",
       "    .dataframe thead th {\n",
       "        text-align: right;\n",
       "    }\n",
       "</style>\n",
       "<table border=\"1\" class=\"dataframe\">\n",
       "  <thead>\n",
       "    <tr style=\"text-align: right;\">\n",
       "      <th></th>\n",
       "      <th>Bl Mkt Pm</th>\n",
       "      <th>Civl Lib</th>\n",
       "      <th>Yrs Open</th>\n",
       "      <th>Pol Rights</th>\n",
       "      <th>Rule of Law</th>\n",
       "      <th>War Dummy</th>\n",
       "      <th>Rev &amp; Coup</th>\n",
       "      <th>HC Labels</th>\n",
       "      <th>KM Labels</th>\n",
       "      <th>HC Labels 4</th>\n",
       "      <th>KM Labels 4</th>\n",
       "    </tr>\n",
       "  </thead>\n",
       "  <tbody>\n",
       "    <tr>\n",
       "      <th>0</th>\n",
       "      <td>0.015788</td>\n",
       "      <td>0.709713</td>\n",
       "      <td>0.000000</td>\n",
       "      <td>0.703012</td>\n",
       "      <td>0.040168</td>\n",
       "      <td>0.000000</td>\n",
       "      <td>0.014824</td>\n",
       "      <td>0</td>\n",
       "      <td>1</td>\n",
       "      <td>2</td>\n",
       "      <td>1</td>\n",
       "    </tr>\n",
       "    <tr>\n",
       "      <th>1</th>\n",
       "      <td>0.019207</td>\n",
       "      <td>0.800305</td>\n",
       "      <td>0.094969</td>\n",
       "      <td>0.548369</td>\n",
       "      <td>0.222298</td>\n",
       "      <td>0.000000</td>\n",
       "      <td>0.000000</td>\n",
       "      <td>0</td>\n",
       "      <td>1</td>\n",
       "      <td>2</td>\n",
       "      <td>1</td>\n",
       "    </tr>\n",
       "    <tr>\n",
       "      <th>2</th>\n",
       "      <td>0.006072</td>\n",
       "      <td>0.674618</td>\n",
       "      <td>0.018943</td>\n",
       "      <td>0.735333</td>\n",
       "      <td>0.060715</td>\n",
       "      <td>0.000000</td>\n",
       "      <td>0.009714</td>\n",
       "      <td>0</td>\n",
       "      <td>1</td>\n",
       "      <td>2</td>\n",
       "      <td>1</td>\n",
       "    </tr>\n",
       "    <tr>\n",
       "      <th>3</th>\n",
       "      <td>0.005547</td>\n",
       "      <td>0.684145</td>\n",
       "      <td>0.000000</td>\n",
       "      <td>0.727291</td>\n",
       "      <td>0.036977</td>\n",
       "      <td>0.000000</td>\n",
       "      <td>0.039939</td>\n",
       "      <td>0</td>\n",
       "      <td>1</td>\n",
       "      <td>2</td>\n",
       "      <td>1</td>\n",
       "    </tr>\n",
       "    <tr>\n",
       "      <th>4</th>\n",
       "      <td>0.016449</td>\n",
       "      <td>0.697087</td>\n",
       "      <td>0.000000</td>\n",
       "      <td>0.702950</td>\n",
       "      <td>0.052721</td>\n",
       "      <td>0.105442</td>\n",
       "      <td>0.075918</td>\n",
       "      <td>0</td>\n",
       "      <td>1</td>\n",
       "      <td>3</td>\n",
       "      <td>2</td>\n",
       "    </tr>\n",
       "  </tbody>\n",
       "</table>\n",
       "</div>"
      ],
      "text/plain": [
       "   Bl Mkt Pm  Civl Lib  Yrs Open  Pol Rights  Rule of Law  War Dummy  \\\n",
       "0   0.015788  0.709713  0.000000    0.703012     0.040168   0.000000   \n",
       "1   0.019207  0.800305  0.094969    0.548369     0.222298   0.000000   \n",
       "2   0.006072  0.674618  0.018943    0.735333     0.060715   0.000000   \n",
       "3   0.005547  0.684145  0.000000    0.727291     0.036977   0.000000   \n",
       "4   0.016449  0.697087  0.000000    0.702950     0.052721   0.105442   \n",
       "\n",
       "   Rev & Coup  HC Labels  KM Labels  HC Labels 4  KM Labels 4  \n",
       "0    0.014824          0          1            2            1  \n",
       "1    0.000000          0          1            2            1  \n",
       "2    0.009714          0          1            2            1  \n",
       "3    0.039939          0          1            2            1  \n",
       "4    0.075918          0          1            3            2  "
      ]
     },
     "execution_count": 13,
     "metadata": {},
     "output_type": "execute_result"
    }
   ],
   "source": [
    "kmeans = KMeans(random_state=1680, n_clusters=4)\n",
    "df_scaled['KM Labels 4'] = kmeans.fit_predict(df_scaled)"
   ]
  },
  {
   "cell_type": "markdown",
   "id": "97ee252f",
   "metadata": {},
   "source": [
    "#### 16. Run the following code to show how the HC labels from 14.a relate to the Civl Lib and Yrs Open variables in df_scaled.\n",
    "``` python\n",
    "plt.scatter(df_scaled['Civl Lib'], df_scaled['Yrs Open'], c=df_scaled['HC labels'])\n",
    "plt.xlabel('Civil Liberty Score (normalized)')\n",
    "plt.ylabel('Years as Open Economy (normalized)')\n",
    "plt.title('Civil Libertires vs. Open Economy:\n",
    "Countries in Hierarchical Clusters')\n",
    "plt.show()\n",
    "```\n",
    "Then adjust the code to produce graphs for [‘KM labels’, ‘HC labels 4’, ‘KM labels 4’].\n",
    "\n",
    "Insert the four graphs here:\n"
   ]
  },
  {
   "cell_type": "code",
   "execution_count": 17,
   "id": "d93d0910",
   "metadata": {},
   "outputs": [
    {
     "data": {
      "image/png": "[encoded data removed]",
      "text/plain": [
       "<Figure size 432x288 with 1 Axes>"
      ]
     },
     "metadata": {
      "needs_background": "light"
     },
     "output_type": "display_data"
    }
   ],
   "source": [
    "plt.scatter(df_scaled['Civl Lib'], df_scaled['Yrs Open'], c=df_scaled['HC Labels'])\n",
    "plt.xlabel('Civil Liberty Score (normalized)')\n",
    "plt.ylabel('Years as Open Economy (normalized)')\n",
    "plt.title('Civil Liberties vs. Open Economy: Countries in Hierarchical Clusters')\n",
    "plt.show()"
   ]
  },
  {
   "cell_type": "code",
   "execution_count": 18,
   "id": "136e1e37",
   "metadata": {},
   "outputs": [
    {
     "data": {
      "image/png": "[encoded data removed]",
      "text/plain": [
       "<Figure size 432x288 with 1 Axes>"
      ]
     },
     "metadata": {
      "needs_background": "light"
     },
     "output_type": "display_data"
    }
   ],
   "source": [
    "plt.scatter(df_scaled['Civl Lib'], df_scaled['Yrs Open'], c=df_scaled['KM Labels'])\n",
    "plt.xlabel('Civil Liberty Score (normalized)')\n",
    "plt.ylabel('Years as Open Economy (normalized)')\n",
    "plt.title('Civil Liberties vs. Open Economy: Countries in K Means Clusters')\n",
    "plt.show()"
   ]
  },
  {
   "cell_type": "code",
   "execution_count": 19,
   "id": "86647746",
   "metadata": {},
   "outputs": [
    {
     "data": {
      "image/png": "[encoded data removed]",
      "text/plain": [
       "<Figure size 432x288 with 1 Axes>"
      ]
     },
     "metadata": {
      "needs_background": "light"
     },
     "output_type": "display_data"
    }
   ],
   "source": [
    "plt.scatter(df_scaled['Civl Lib'], df_scaled['Yrs Open'], c=df_scaled['HC Labels 4'])\n",
    "plt.xlabel('Civil Liberty Score (normalized)')\n",
    "plt.ylabel('Years as Open Economy (normalized)')\n",
    "plt.title('Civil Liberties vs. Open Economy: Countries in Hierarchical Clusters - 4 Clusters')\n",
    "plt.show()"
   ]
  },
  {
   "cell_type": "code",
   "execution_count": 20,
   "id": "a4239122",
   "metadata": {},
   "outputs": [
    {
     "data": {
      "image/png": "[encoded data removed]",
      "text/plain": [
       "<Figure size 432x288 with 1 Axes>"
      ]
     },
     "metadata": {
      "needs_background": "light"
     },
     "output_type": "display_data"
    }
   ],
   "source": [
    "plt.scatter(df_scaled['Civl Lib'], df_scaled['Yrs Open'], c=df_scaled['KM Labels 4'])\n",
    "plt.xlabel('Civil Liberty Score (normalized)')\n",
    "plt.ylabel('Years as Open Economy (normalized)')\n",
    "plt.title('Civil Liberties vs. Open Economy: Countries in K Means Clusters - 4 Clusters')\n",
    "plt.show()"
   ]
  },
  {
   "cell_type": "markdown",
   "id": "45cccb3c",
   "metadata": {},
   "source": [
    "#### 17. Calculate the first and second principal components of df_scaled using\n",
    "``` python \n",
    "PCA(n_components=2).fit_transform(df_scaled)\n",
    "```\n",
    "And add them to the df_scaled dataframe with titles ‘pc1’ and ‘pc2’."
   ]
  },
  {
   "cell_type": "code",
   "execution_count": 21,
   "id": "b590ece9",
   "metadata": {},
   "outputs": [
    {
     "data": {
      "text/html": [
       "<div>\n",
       "<style scoped>\n",
       "    .dataframe tbody tr th:only-of-type {\n",
       "        vertical-align: middle;\n",
       "    }\n",
       "\n",
       "    .dataframe tbody tr th {\n",
       "        vertical-align: top;\n",
       "    }\n",
       "\n",
       "    .dataframe thead th {\n",
       "        text-align: right;\n",
       "    }\n",
       "</style>\n",
       "<table border=\"1\" class=\"dataframe\">\n",
       "  <thead>\n",
       "    <tr style=\"text-align: right;\">\n",
       "      <th></th>\n",
       "      <th>Bl Mkt Pm</th>\n",
       "      <th>Civl Lib</th>\n",
       "      <th>Yrs Open</th>\n",
       "      <th>Pol Rights</th>\n",
       "      <th>Rule of Law</th>\n",
       "      <th>War Dummy</th>\n",
       "      <th>Rev &amp; Coup</th>\n",
       "      <th>HC Labels</th>\n",
       "      <th>KM Labels</th>\n",
       "      <th>HC Labels 4</th>\n",
       "      <th>KM Labels 4</th>\n",
       "      <th>pc1</th>\n",
       "      <th>pc2</th>\n",
       "    </tr>\n",
       "  </thead>\n",
       "  <tbody>\n",
       "    <tr>\n",
       "      <th>0</th>\n",
       "      <td>0.015788</td>\n",
       "      <td>0.709713</td>\n",
       "      <td>0.000000</td>\n",
       "      <td>0.703012</td>\n",
       "      <td>0.040168</td>\n",
       "      <td>0.000000</td>\n",
       "      <td>0.014824</td>\n",
       "      <td>0</td>\n",
       "      <td>1</td>\n",
       "      <td>2</td>\n",
       "      <td>1</td>\n",
       "      <td>-0.317813</td>\n",
       "      <td>-0.447445</td>\n",
       "    </tr>\n",
       "    <tr>\n",
       "      <th>1</th>\n",
       "      <td>0.019207</td>\n",
       "      <td>0.800305</td>\n",
       "      <td>0.094969</td>\n",
       "      <td>0.548369</td>\n",
       "      <td>0.222298</td>\n",
       "      <td>0.000000</td>\n",
       "      <td>0.000000</td>\n",
       "      <td>0</td>\n",
       "      <td>1</td>\n",
       "      <td>2</td>\n",
       "      <td>1</td>\n",
       "      <td>-0.284571</td>\n",
       "      <td>-0.432326</td>\n",
       "    </tr>\n",
       "    <tr>\n",
       "      <th>2</th>\n",
       "      <td>0.006072</td>\n",
       "      <td>0.674618</td>\n",
       "      <td>0.018943</td>\n",
       "      <td>0.735333</td>\n",
       "      <td>0.060715</td>\n",
       "      <td>0.000000</td>\n",
       "      <td>0.009714</td>\n",
       "      <td>0</td>\n",
       "      <td>1</td>\n",
       "      <td>2</td>\n",
       "      <td>1</td>\n",
       "      <td>-0.313846</td>\n",
       "      <td>-0.450042</td>\n",
       "    </tr>\n",
       "    <tr>\n",
       "      <th>3</th>\n",
       "      <td>0.005547</td>\n",
       "      <td>0.684145</td>\n",
       "      <td>0.000000</td>\n",
       "      <td>0.727291</td>\n",
       "      <td>0.036977</td>\n",
       "      <td>0.000000</td>\n",
       "      <td>0.039939</td>\n",
       "      <td>0</td>\n",
       "      <td>1</td>\n",
       "      <td>2</td>\n",
       "      <td>1</td>\n",
       "      <td>-0.318540</td>\n",
       "      <td>-0.449928</td>\n",
       "    </tr>\n",
       "    <tr>\n",
       "      <th>4</th>\n",
       "      <td>0.016449</td>\n",
       "      <td>0.697087</td>\n",
       "      <td>0.000000</td>\n",
       "      <td>0.702950</td>\n",
       "      <td>0.052721</td>\n",
       "      <td>0.105442</td>\n",
       "      <td>0.075918</td>\n",
       "      <td>0</td>\n",
       "      <td>1</td>\n",
       "      <td>3</td>\n",
       "      <td>2</td>\n",
       "      <td>-1.587814</td>\n",
       "      <td>-0.258586</td>\n",
       "    </tr>\n",
       "  </tbody>\n",
       "</table>\n",
       "</div>"
      ],
      "text/plain": [
       "   Bl Mkt Pm  Civl Lib  Yrs Open  Pol Rights  Rule of Law  War Dummy  \\\n",
       "0   0.015788  0.709713  0.000000    0.703012     0.040168   0.000000   \n",
       "1   0.019207  0.800305  0.094969    0.548369     0.222298   0.000000   \n",
       "2   0.006072  0.674618  0.018943    0.735333     0.060715   0.000000   \n",
       "3   0.005547  0.684145  0.000000    0.727291     0.036977   0.000000   \n",
       "4   0.016449  0.697087  0.000000    0.702950     0.052721   0.105442   \n",
       "\n",
       "   Rev & Coup  HC Labels  KM Labels  HC Labels 4  KM Labels 4       pc1  \\\n",
       "0    0.014824          0          1            2            1 -0.317813   \n",
       "1    0.000000          0          1            2            1 -0.284571   \n",
       "2    0.009714          0          1            2            1 -0.313846   \n",
       "3    0.039939          0          1            2            1 -0.318540   \n",
       "4    0.075918          0          1            3            2 -1.587814   \n",
       "\n",
       "        pc2  \n",
       "0 -0.447445  \n",
       "1 -0.432326  \n",
       "2 -0.450042  \n",
       "3 -0.449928  \n",
       "4 -0.258586  "
      ]
     },
     "execution_count": 21,
     "metadata": {},
     "output_type": "execute_result"
    }
   ],
   "source": [
    "pca = PCA(n_components=2)\n",
    "principal_components = pca.fit_transform(df_scaled)\n",
    "df_scaled['pc1'] = principal_components[:, 0]\n",
    "df_scaled['pc2'] = principal_components[:, 1]"
   ]
  },
  {
   "cell_type": "markdown",
   "id": "0abdf5a7",
   "metadata": {},
   "source": [
    "17a. Produce four graphs showing the different clustering results [‘HC labels’,‘KC\n",
    "labels’, ‘HC labels 4’, ‘KM labels 4’] with the first principal component on the x\n",
    "axis and the second principal component on the y axis. Hint: use the code from 16\n",
    "as a template for plotting here, but be sure to change the axis labels and the title.\n",
    "\n",
    "Insert your four graphs here:"
   ]
  },
  {
   "cell_type": "code",
   "execution_count": 22,
   "id": "b52cfa8d",
   "metadata": {},
   "outputs": [
    {
     "data": {
      "image/png": "[encoded data removed]",
      "text/plain": [
       "<Figure size 432x288 with 1 Axes>"
      ]
     },
     "metadata": {
      "needs_background": "light"
     },
     "output_type": "display_data"
    }
   ],
   "source": [
    "plt.scatter(df_scaled['pc1'], df_scaled['pc2'], c=df_scaled['HC Labels'])\n",
    "plt.xlabel('First Principal Component')\n",
    "plt.ylabel('Second Principal Component')\n",
    "plt.title('Countries in Hierarchical Clusters')\n",
    "plt.show()"
   ]
  },
  {
   "cell_type": "code",
   "execution_count": 23,
   "id": "d045e6f4",
   "metadata": {},
   "outputs": [
    {
     "data": {
      "image/png": "[encoded data removed]",
      "text/plain": [
       "<Figure size 432x288 with 1 Axes>"
      ]
     },
     "metadata": {
      "needs_background": "light"
     },
     "output_type": "display_data"
    }
   ],
   "source": [
    "plt.scatter(df_scaled['pc1'], df_scaled['pc2'], c=df_scaled['KM Labels'])\n",
    "plt.xlabel('First Principal Component')\n",
    "plt.ylabel('Second Principal Component')\n",
    "plt.title('Countries in K Means Clusters')\n",
    "plt.show()"
   ]
  },
  {
   "cell_type": "code",
   "execution_count": 24,
   "id": "a3760337",
   "metadata": {},
   "outputs": [
    {
     "data": {
      "image/png": "[encoded data removed]",
      "text/plain": [
       "<Figure size 432x288 with 1 Axes>"
      ]
     },
     "metadata": {
      "needs_background": "light"
     },
     "output_type": "display_data"
    }
   ],
   "source": [
    "plt.scatter(df_scaled['pc1'], df_scaled['pc2'], c=df_scaled['HC Labels 4'])\n",
    "plt.xlabel('First Principal Component')\n",
    "plt.ylabel('Second Principal Component')\n",
    "plt.title('Countries in Hierarchical Clusters - 4 Clusters')\n",
    "plt.show()"
   ]
  },
  {
   "cell_type": "code",
   "execution_count": 25,
   "id": "4d893012",
   "metadata": {},
   "outputs": [
    {
     "data": {
      "image/png": "[encoded data removed]",
      "text/plain": [
       "<Figure size 432x288 with 1 Axes>"
      ]
     },
     "metadata": {
      "needs_background": "light"
     },
     "output_type": "display_data"
    }
   ],
   "source": [
    "plt.scatter(df_scaled['pc1'], df_scaled['pc2'], c=df_scaled['KM Labels 4'])\n",
    "plt.xlabel('First Principal Component')\n",
    "plt.ylabel('Second Principal Component')\n",
    "plt.title('Countries in K Means Clusters - 4 Clusters')\n",
    "plt.show()"
   ]
  },
  {
   "cell_type": "markdown",
   "id": "c1c686b4",
   "metadata": {},
   "source": [
    "17b. Describe the differences in visualizing clusters using variables in 16 vs. using\n",
    "PCA in 17? Why does PCA help with visualization? Summarize your answers in\n",
    "2-3 sentences.\n",
    "\n",
    "Answer here: The grouping and overlap in clusters looks more obvious when using PCA, especially when looking at 4 clusters. This is because PCA reduces the dimensionality of data while preserving most of its variance, which means that translating the variance into a 2D space is done in a more representative manner when using PCA, as opposed to when picking 2 variables.\n"
   ]
  },
  {
   "cell_type": "markdown",
   "id": "ba512fce",
   "metadata": {},
   "source": [
    "# IV. OLS vs LASSO vs RIDGE REGRESSIONS\n",
    "#### 18. Run the following code to create training and testing splits of the df_fls dataframe\n",
    "*You will need to copy and paste the code below into a code block:*\n",
    "``` python\n",
    "y=df_fls['y']\n",
    "X=df_fls.drop(columns=['y'])\n",
    "X_train, X_test, y_train, y_test = train_test_split(X, y, test_size=0.1, random_state=1680)\n",
    "```"
   ]
  },
  {
   "cell_type": "code",
   "execution_count": 26,
   "id": "5a516512",
   "metadata": {},
   "outputs": [],
   "source": [
    "y=df_fls['y']\n",
    "X=df_fls.drop(columns=['y'])\n",
    "X_train, X_test, y_train, y_test = train_test_split(X, y, test_size=0.1, random_state=1680)"
   ]
  },
  {
   "cell_type": "markdown",
   "id": "f096406b",
   "metadata": {},
   "source": [
    "#### 19. Run an OLS regression on the training data. Produce the summary statistics using .summary() and paste them here:\n",
    "\n",
    "Summary: "
   ]
  },
  {
   "cell_type": "code",
   "execution_count": 27,
   "id": "eb964d5d",
   "metadata": {},
   "outputs": [
    {
     "name": "stdout",
     "output_type": "stream",
     "text": [
      "                                 OLS Regression Results                                \n",
      "=======================================================================================\n",
      "Dep. Variable:                      y   R-squared (uncentered):                   0.982\n",
      "Model:                            OLS   Adj. R-squared (uncentered):              0.949\n",
      "Method:                 Least Squares   F-statistic:                              30.22\n",
      "Date:                Thu, 15 Feb 2024   Prob (F-statistic):                    7.94e-13\n",
      "Time:                        17:24:13   Log-Likelihood:                         -26.936\n",
      "No. Observations:                  64   AIC:                                      135.9\n",
      "Df Residuals:                      23   BIC:                                      224.4\n",
      "Df Model:                          41                                                  \n",
      "Covariance Type:            nonrobust                                                  \n",
      "===============================================================================\n",
      "                  coef    std err          t      P>|t|      [0.025      0.975]\n",
      "-------------------------------------------------------------------------------\n",
      "GDPsh560       -1.1411      0.273     -4.180      0.000      -1.706      -0.576\n",
      "Confuncious     7.9154      1.734      4.565      0.000       4.329      11.502\n",
      "Life Exp        0.1305      0.029      4.533      0.000       0.071       0.190\n",
      "Equip Inv      13.8234      5.328      2.594      0.016       2.801      24.846\n",
      "SubSahara      -1.6995      0.843     -2.017      0.056      -3.443       0.044\n",
      "Muslim         -0.2057      1.184     -0.174      0.864      -2.655       2.244\n",
      "Rule of Law     0.7503      0.823      0.912      0.371      -0.951       2.452\n",
      "Yrs Open       -0.5034      0.838     -0.601      0.554      -2.236       1.229\n",
      "Eco Org         0.1699      0.154      1.103      0.281      -0.149       0.488\n",
      "Protestants    -0.4537      0.848     -0.535      0.598      -2.208       1.300\n",
      "NEquip Inv      3.1816      2.451      1.298      0.207      -1.889       8.252\n",
      "Mining          3.3508      1.810      1.852      0.077      -0.393       7.094\n",
      "LatAmerica     -1.2484      0.693     -1.802      0.085      -2.681       0.185\n",
      "PrSc Enroll     0.7715      1.114      0.693      0.496      -1.533       3.076\n",
      "Buddha          0.9916      0.827      1.199      0.243      -0.720       2.703\n",
      "Bl Mkt Pm      -0.6037      0.475     -1.271      0.216      -1.586       0.379\n",
      "Catholic        0.2370      0.685      0.346      0.732      -1.179       1.653\n",
      "Civl Lib       -0.2272      0.270     -0.843      0.408      -0.785       0.331\n",
      "Hindu         -11.7084      3.496     -3.349      0.003     -18.941      -4.475\n",
      "Pr Exports      0.2834      0.903      0.314      0.757      -1.585       2.152\n",
      "Pol Rights      0.1224      0.219      0.558      0.582      -0.332       0.577\n",
      "R FEX Dist     -0.0033      0.004     -0.866      0.395      -0.011       0.005\n",
      "Age            -0.0023      0.004     -0.598      0.556      -0.010       0.006\n",
      "War Dummy      -0.2807      0.291     -0.963      0.345      -0.884       0.322\n",
      "English %      -0.9101      0.620     -1.468      0.156      -2.193       0.373\n",
      "Foreign %      -0.0854      0.461     -0.185      0.855      -1.040       0.869\n",
      "Lab Force       0.0443      0.014      3.069      0.005       0.014       0.074\n",
      "Spanish Col     0.8778      0.581      1.511      0.144      -0.324       2.080\n",
      "EthnoL Frac     2.0654      0.633      3.264      0.003       0.756       3.374\n",
      "std(BMP)       -0.0189      0.013     -1.460      0.158      -0.046       0.008\n",
      "French Col      1.0065      0.561      1.794      0.086      -0.154       2.167\n",
      "Abs Lat         0.0152      0.181      0.084      0.934      -0.359       0.390\n",
      "Work/Pop       -1.2590      1.068     -1.179      0.250      -3.468       0.950\n",
      "High Enroll   -21.7819      6.238     -3.492      0.002     -34.687      -8.877\n",
      "Pop g          -9.7668     27.058     -0.361      0.721     -65.741      46.208\n",
      "Brit Col        0.9744      0.556      1.752      0.093      -0.176       2.125\n",
      "Outwar Or      -0.5844      0.241     -2.429      0.023      -1.082      -0.087\n",
      "Jewish        -24.6295     38.060     -0.647      0.524    -103.363      54.104\n",
      "Rev & Coup      0.8127      0.589      1.379      0.181      -0.406       2.032\n",
      "%Publ Edu      22.0264     15.552      1.416      0.170     -10.146      54.199\n",
      "Area           -0.0264      0.082     -0.322      0.750      -0.196       0.143\n",
      "==============================================================================\n",
      "Omnibus:                        1.816   Durbin-Watson:                   2.285\n",
      "Prob(Omnibus):                  0.403   Jarque-Bera (JB):                1.775\n",
      "Skew:                          -0.332   Prob(JB):                        0.412\n",
      "Kurtosis:                       2.527   Cond. No.                     7.37e+04\n",
      "==============================================================================\n",
      "\n",
      "Notes:\n",
      "[1] R² is computed without centering (uncentered) since the model does not contain a constant.\n",
      "[2] Standard Errors assume that the covariance matrix of the errors is correctly specified.\n",
      "[3] The condition number is large, 7.37e+04. This might indicate that there are\n",
      "strong multicollinearity or other numerical problems.\n"
     ]
    }
   ],
   "source": [
    "ols_result = sm.OLS(y_train, X_train).fit()\n",
    "print(ols_result.summary())"
   ]
  },
  {
   "cell_type": "markdown",
   "id": "9c4e805d",
   "metadata": {},
   "source": [
    "#### 20. Run a LASSO regression on the training data and search over different alpha parameters in using alphas=np.linspace(1e-6, 1, num=50). Hint: reference the review session example for coding LASSO.\n",
    "20a. What is the optimal alpha that you find?\n",
    "\n",
    "Answer:\n"
   ]
  },
  {
   "cell_type": "code",
   "execution_count": null,
   "id": "e83a66cc",
   "metadata": {},
   "outputs": [],
   "source": [
    "# Write the code you need (if any) to answer the questions above"
   ]
  },
  {
   "cell_type": "markdown",
   "id": "f0439645",
   "metadata": {},
   "source": [
    "20b. Insert a plot of alphas on the x axis and cv_errors on the y axis:\n"
   ]
  },
  {
   "cell_type": "code",
   "execution_count": null,
   "id": "aa14505e",
   "metadata": {},
   "outputs": [],
   "source": [
    "# Write the code you need (if any) to answer the questions above"
   ]
  },
  {
   "cell_type": "markdown",
   "id": "4db1ef90",
   "metadata": {},
   "source": [
    "#### 21. Run a Ridge Regression on the training data and search over different alpha parameters in using alphas=np.linspace(1e-6, 1, num=50). Hint: reference the review session example for coding Ridge regressions.\n",
    "21a. What is the optimal alpha that you find? \n",
    "\n",
    "Answer here:"
   ]
  },
  {
   "cell_type": "code",
   "execution_count": null,
   "id": "3cb30753",
   "metadata": {},
   "outputs": [],
   "source": [
    "# Write the code you need (if any) to answer the questions above"
   ]
  },
  {
   "cell_type": "markdown",
   "id": "4999f8a8",
   "metadata": {},
   "source": [
    "21b. Insert a plot of alphas on the x axis and cv_errros on the y axis:"
   ]
  },
  {
   "cell_type": "code",
   "execution_count": null,
   "id": "9837dada",
   "metadata": {},
   "outputs": [],
   "source": [
    "# Write the code you need (if any) to answer the questions above"
   ]
  },
  {
   "cell_type": "markdown",
   "id": "fceb94f7",
   "metadata": {},
   "source": [
    "#### 22. Compare the regression coefficients from the three different approaches using:\n",
    "``` python\n",
    "coef_comp=pd.DataFrame({'var':X.columns, 'val_ols':olsReg.params.tolist(), 'val_lasso':lassoReg.coef_, 'var_ridge':ridgeReg.coef_})\n",
    "```\n",
    "\n",
    "22a. Insert the coef_comp table here:\n",
    "\n",
    "```\n",
    "```\n"
   ]
  },
  {
   "cell_type": "code",
   "execution_count": null,
   "id": "92d16f53",
   "metadata": {},
   "outputs": [],
   "source": [
    "# Write the code you need (if any) to answer the questions above"
   ]
  },
  {
   "cell_type": "markdown",
   "id": "94284fdf",
   "metadata": {},
   "source": [
    "22b. Write 2-3 sentences comparing the coefficients and explain why they are different.\n",
    "\n",
    "Answer here:\n"
   ]
  },
  {
   "cell_type": "markdown",
   "id": "39410cdd",
   "metadata": {},
   "source": [
    "22c. Look at the Table 4 in Varian (2014) (link to paper in Canvas). Compare you coefficients from LASSO to the column he has for the LASSO regression. Do you come to the same conclusions about which regressors to keep in the regression and their order of importance? If they are different, explain a possible reason for that.\n",
    "\n",
    "Answer here: "
   ]
  },
  {
   "cell_type": "markdown",
   "id": "231c3068",
   "metadata": {},
   "source": [
    "# V. CLASSIFICATION: LOGIT vs. NEURAL NETWORK\n",
    "\n",
    "#### 23. Load the titanic3.csv file in as \"df_titanic\" from HW2_data.zip in the Canvas Assignment for HW2.\n"
   ]
  },
  {
   "cell_type": "code",
   "execution_count": null,
   "id": "73975686",
   "metadata": {},
   "outputs": [],
   "source": [
    "# Write the code you need (if any) to answer the questions above"
   ]
  },
  {
   "cell_type": "markdown",
   "id": "48a8622d",
   "metadata": {},
   "source": [
    "#### 24. In Varian (2014), \"Big Data: New Tricks for Econometrics\", there is a discussion about wanting to allow for nonlinearity in age to affect the prediction of survival of Titanic passengers. This problem will compare estimating a logit with estimating neural network (multilayer perceptron). Explain the following lines of code and run them:"
   ]
  },
  {
   "cell_type": "code",
   "execution_count": null,
   "id": "db0d0624",
   "metadata": {},
   "outputs": [],
   "source": [
    "df_titanic.dropna(subset=['survived','age', 'sex','pclass'],inplace=True) \n",
    "df_titanic['female']= np.where(df_titanic['sex']=='female',1,0) \n",
    "y= df_titanic['survived']\n",
    "X= df_titanic[['age','pclass', 'female']] \n",
    "\n",
    "X_train, X_test, y_train, y_test = train_test_split(X, y, test_size=0.2, random_state=1680) \n",
    "\n",
    "scaler=StandardScaler() \n",
    "scaler.fit(X_train) \n",
    "X_train = scaler.transform(X_train)\n",
    "X_test = scaler.transform(X_test)\n",
    "\n",
    "MLP = MLPClassifier(hidden_layer_sizes=(4,2),\n",
    "  random_state=1680,\n",
    "                    activation='logistic', solver='adam', \n",
    "                    max_iter =500,\n",
    "                    verbose=True, learning_rate_init=0.01) \n",
    "MLP.fit(X_train,y_train)\n",
    "print(accuracy_score(y_train,MLP.predict(X_train)))\n",
    "print(accuracy_score(y_test, MLP.predict(X_test)))\n",
    "\n",
    "logitmodel = LogisticRegression(solver='liblinear', random_state=1680).fit(X_train, y_train) \n",
    "print(accuracy_score(y_train,logitmodel.predict(X_train)))\n",
    "print(accuracy_score(y_test, logitmodel.predict(X_test)) )\n"
   ]
  },
  {
   "cell_type": "markdown",
   "id": "9641e347",
   "metadata": {},
   "source": [
    "24a. Compare the accuracy scores in-sample and out-of-sample for the logit regression and for the neural network in 2-3 sentences. \n",
    "\n",
    "Answer here:"
   ]
  },
  {
   "cell_type": "code",
   "execution_count": null,
   "id": "e0e25d33",
   "metadata": {},
   "outputs": [],
   "source": [
    "# Write the code you need (if any) to answer the questions above"
   ]
  },
  {
   "cell_type": "markdown",
   "id": "dae2e97e",
   "metadata": {},
   "source": [
    "24b. Is the difference between the accuracies what you would have expected? Spend 2-3 sentences discussing possible explanations for the differences. \n",
    "\n",
    "Answer here:\n"
   ]
  },
  {
   "cell_type": "code",
   "execution_count": null,
   "id": "d2f61958",
   "metadata": {},
   "outputs": [],
   "source": [
    "# Write the code you need (if any) to answer the questions above"
   ]
  },
  {
   "cell_type": "markdown",
   "id": "77e7101d",
   "metadata": {},
   "source": [
    "24c. Print out the descriptive statistics for y_train and y_test\n",
    "\n",
    "Paste output here: "
   ]
  },
  {
   "cell_type": "code",
   "execution_count": null,
   "id": "896ff243",
   "metadata": {},
   "outputs": [],
   "source": [
    "# Write the code you need (if any) to answer the questions above"
   ]
  },
  {
   "cell_type": "markdown",
   "id": "86368c1e",
   "metadata": {},
   "source": [
    "#### 25. Now rerun the previous code, but add stratify=y into the train_test_split command.\n",
    "\n",
    "25a. How do the descriptive statistics for y_train and y_test change and how do the accuracy scores change?\n",
    "\n",
    "Answer here:"
   ]
  },
  {
   "cell_type": "code",
   "execution_count": null,
   "id": "291119ee",
   "metadata": {},
   "outputs": [],
   "source": [
    "# Write the code you need (if any) to answer the questions above"
   ]
  },
  {
   "cell_type": "markdown",
   "id": "a11f274b",
   "metadata": {},
   "source": [
    "25b. What does “stratify” do and why would it change your results?\n",
    "\n",
    "Answer here:  "
   ]
  },
  {
   "cell_type": "code",
   "execution_count": null,
   "id": "2cab46b5",
   "metadata": {},
   "outputs": [],
   "source": [
    "# Write the code you need (if any) to answer the questions above"
   ]
  },
  {
   "cell_type": "markdown",
   "id": "133d0460",
   "metadata": {},
   "source": [
    "#### 26. Look at the other variables in df_titanic. What other variables besides age do you think would be important in predicting survival?\n",
    "\n",
    "26a. List the variables you think of as important here and explain why you think they would improve prediction. Hint: you may need to transform variables into numerical representations/dummy variables.\n",
    "\n",
    "Answer here:"
   ]
  },
  {
   "cell_type": "code",
   "execution_count": null,
   "id": "f64b0b35",
   "metadata": {},
   "outputs": [],
   "source": [
    "# Write the code you need (if any) to answer the questions above"
   ]
  },
  {
   "cell_type": "markdown",
   "id": "f6346faf",
   "metadata": {},
   "source": [
    "26b. Run the logit regression with the variables that you listed and print the accuracy below. Did your accuracy improve?\n",
    "\n",
    "Answer here:"
   ]
  },
  {
   "cell_type": "code",
   "execution_count": null,
   "id": "2a9e80d0",
   "metadata": {},
   "outputs": [],
   "source": [
    "# Write the code you need (if any) to answer the questions above"
   ]
  }
 ],
 "metadata": {
  "kernelspec": {
   "display_name": "Python 3 (ipykernel)",
   "language": "python",
   "name": "python3"
  },
  "language_info": {
   "codemirror_mode": {
    "name": "ipython",
    "version": 3
   },
   "file_extension": ".py",
   "mimetype": "text/x-python",
   "name": "python",
   "nbconvert_exporter": "python",
   "pygments_lexer": "ipython3",
   "version": "3.9.18"
  },
  "vscode": {
   "interpreter": {
    "hash": "ff6ebcde2956354653a1bfc837161093b4abe74b5e977ba193ed76204ade37d4"
   }
  }
 },
 "nbformat": 4,
 "nbformat_minor": 5
}
